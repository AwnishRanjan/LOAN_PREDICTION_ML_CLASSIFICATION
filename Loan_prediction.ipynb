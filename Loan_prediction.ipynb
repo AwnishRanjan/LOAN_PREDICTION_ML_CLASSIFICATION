{
 "cells": [
  {
   "cell_type": "code",
   "execution_count": 1,
   "id": "2c263537-7626-4fcd-b012-d495d8ebf64e",
   "metadata": {},
   "outputs": [],
   "source": [
    "import pandas as pd \n",
    "import numpy as np\n",
    "import seaborn as sns\n",
    "import matplotlib.pyplot as plt\n",
    "import warnings\n",
    "warnings.filterwarnings('ignore')"
   ]
  },
  {
   "cell_type": "code",
   "execution_count": 2,
   "id": "9aa6ad1e-6f7b-403c-af8e-a99e3ecd3a57",
   "metadata": {},
   "outputs": [],
   "source": [
    "df=pd.read_csv('Loan_Train.csv')"
   ]
  },
  {
   "cell_type": "code",
   "execution_count": 3,
   "id": "3b0ae86f-dd39-4108-bd71-340297e852d5",
   "metadata": {},
   "outputs": [
    {
     "data": {
      "text/html": [
       "<div>\n",
       "<style scoped>\n",
       "    .dataframe tbody tr th:only-of-type {\n",
       "        vertical-align: middle;\n",
       "    }\n",
       "\n",
       "    .dataframe tbody tr th {\n",
       "        vertical-align: top;\n",
       "    }\n",
       "\n",
       "    .dataframe thead th {\n",
       "        text-align: right;\n",
       "    }\n",
       "</style>\n",
       "<table border=\"1\" class=\"dataframe\">\n",
       "  <thead>\n",
       "    <tr style=\"text-align: right;\">\n",
       "      <th></th>\n",
       "      <th>Loan_ID</th>\n",
       "      <th>Gender</th>\n",
       "      <th>Married</th>\n",
       "      <th>Dependents</th>\n",
       "      <th>Education</th>\n",
       "      <th>Self_Employed</th>\n",
       "      <th>ApplicantIncome</th>\n",
       "      <th>CoapplicantIncome</th>\n",
       "      <th>LoanAmount</th>\n",
       "      <th>Loan_Amount_Term</th>\n",
       "      <th>Credit_History</th>\n",
       "      <th>Property_Area</th>\n",
       "      <th>Loan_Status</th>\n",
       "    </tr>\n",
       "  </thead>\n",
       "  <tbody>\n",
       "    <tr>\n",
       "      <th>0</th>\n",
       "      <td>LP001002</td>\n",
       "      <td>Male</td>\n",
       "      <td>No</td>\n",
       "      <td>0</td>\n",
       "      <td>Graduate</td>\n",
       "      <td>No</td>\n",
       "      <td>5849</td>\n",
       "      <td>0.0</td>\n",
       "      <td>NaN</td>\n",
       "      <td>360.0</td>\n",
       "      <td>1.0</td>\n",
       "      <td>Urban</td>\n",
       "      <td>Y</td>\n",
       "    </tr>\n",
       "    <tr>\n",
       "      <th>1</th>\n",
       "      <td>LP001003</td>\n",
       "      <td>Male</td>\n",
       "      <td>Yes</td>\n",
       "      <td>1</td>\n",
       "      <td>Graduate</td>\n",
       "      <td>No</td>\n",
       "      <td>4583</td>\n",
       "      <td>1508.0</td>\n",
       "      <td>128.0</td>\n",
       "      <td>360.0</td>\n",
       "      <td>1.0</td>\n",
       "      <td>Rural</td>\n",
       "      <td>N</td>\n",
       "    </tr>\n",
       "    <tr>\n",
       "      <th>2</th>\n",
       "      <td>LP001005</td>\n",
       "      <td>Male</td>\n",
       "      <td>Yes</td>\n",
       "      <td>0</td>\n",
       "      <td>Graduate</td>\n",
       "      <td>Yes</td>\n",
       "      <td>3000</td>\n",
       "      <td>0.0</td>\n",
       "      <td>66.0</td>\n",
       "      <td>360.0</td>\n",
       "      <td>1.0</td>\n",
       "      <td>Urban</td>\n",
       "      <td>Y</td>\n",
       "    </tr>\n",
       "    <tr>\n",
       "      <th>3</th>\n",
       "      <td>LP001006</td>\n",
       "      <td>Male</td>\n",
       "      <td>Yes</td>\n",
       "      <td>0</td>\n",
       "      <td>Not Graduate</td>\n",
       "      <td>No</td>\n",
       "      <td>2583</td>\n",
       "      <td>2358.0</td>\n",
       "      <td>120.0</td>\n",
       "      <td>360.0</td>\n",
       "      <td>1.0</td>\n",
       "      <td>Urban</td>\n",
       "      <td>Y</td>\n",
       "    </tr>\n",
       "    <tr>\n",
       "      <th>4</th>\n",
       "      <td>LP001008</td>\n",
       "      <td>Male</td>\n",
       "      <td>No</td>\n",
       "      <td>0</td>\n",
       "      <td>Graduate</td>\n",
       "      <td>No</td>\n",
       "      <td>6000</td>\n",
       "      <td>0.0</td>\n",
       "      <td>141.0</td>\n",
       "      <td>360.0</td>\n",
       "      <td>1.0</td>\n",
       "      <td>Urban</td>\n",
       "      <td>Y</td>\n",
       "    </tr>\n",
       "  </tbody>\n",
       "</table>\n",
       "</div>"
      ],
      "text/plain": [
       "    Loan_ID Gender Married Dependents     Education Self_Employed  \\\n",
       "0  LP001002   Male      No          0      Graduate            No   \n",
       "1  LP001003   Male     Yes          1      Graduate            No   \n",
       "2  LP001005   Male     Yes          0      Graduate           Yes   \n",
       "3  LP001006   Male     Yes          0  Not Graduate            No   \n",
       "4  LP001008   Male      No          0      Graduate            No   \n",
       "\n",
       "   ApplicantIncome  CoapplicantIncome  LoanAmount  Loan_Amount_Term  \\\n",
       "0             5849                0.0         NaN             360.0   \n",
       "1             4583             1508.0       128.0             360.0   \n",
       "2             3000                0.0        66.0             360.0   \n",
       "3             2583             2358.0       120.0             360.0   \n",
       "4             6000                0.0       141.0             360.0   \n",
       "\n",
       "   Credit_History Property_Area Loan_Status  \n",
       "0             1.0         Urban           Y  \n",
       "1             1.0         Rural           N  \n",
       "2             1.0         Urban           Y  \n",
       "3             1.0         Urban           Y  \n",
       "4             1.0         Urban           Y  "
      ]
     },
     "execution_count": 3,
     "metadata": {},
     "output_type": "execute_result"
    }
   ],
   "source": [
    "df.head()"
   ]
  },
  {
   "cell_type": "code",
   "execution_count": 4,
   "id": "60b8af08-2243-4884-9eb4-8dbb137addb8",
   "metadata": {},
   "outputs": [
    {
     "data": {
      "text/plain": [
       "0    1.0\n",
       "Name: Credit_History, dtype: float64"
      ]
     },
     "execution_count": 4,
     "metadata": {},
     "output_type": "execute_result"
    }
   ],
   "source": [
    "df['Credit_History'].mode()"
   ]
  },
  {
   "cell_type": "code",
   "execution_count": 5,
   "id": "2439bb44-eb6a-4a0f-ab15-ead3b3ad9452",
   "metadata": {},
   "outputs": [
    {
     "data": {
      "text/plain": [
       "0      1.0\n",
       "1      1.0\n",
       "2      1.0\n",
       "3      1.0\n",
       "4      1.0\n",
       "      ... \n",
       "609    1.0\n",
       "610    1.0\n",
       "611    1.0\n",
       "612    1.0\n",
       "613    0.0\n",
       "Name: Credit_History, Length: 614, dtype: float64"
      ]
     },
     "execution_count": 5,
     "metadata": {},
     "output_type": "execute_result"
    }
   ],
   "source": [
    "df['Credit_History'].fillna(1.0)"
   ]
  },
  {
   "cell_type": "code",
   "execution_count": 6,
   "id": "89dac174-4b31-4a71-bd73-0716c7e6b21e",
   "metadata": {},
   "outputs": [
    {
     "name": "stdout",
     "output_type": "stream",
     "text": [
      "<class 'pandas.core.frame.DataFrame'>\n",
      "RangeIndex: 614 entries, 0 to 613\n",
      "Data columns (total 13 columns):\n",
      " #   Column             Non-Null Count  Dtype  \n",
      "---  ------             --------------  -----  \n",
      " 0   Loan_ID            614 non-null    object \n",
      " 1   Gender             601 non-null    object \n",
      " 2   Married            611 non-null    object \n",
      " 3   Dependents         599 non-null    object \n",
      " 4   Education          614 non-null    object \n",
      " 5   Self_Employed      582 non-null    object \n",
      " 6   ApplicantIncome    614 non-null    int64  \n",
      " 7   CoapplicantIncome  614 non-null    float64\n",
      " 8   LoanAmount         592 non-null    float64\n",
      " 9   Loan_Amount_Term   600 non-null    float64\n",
      " 10  Credit_History     564 non-null    float64\n",
      " 11  Property_Area      614 non-null    object \n",
      " 12  Loan_Status        614 non-null    object \n",
      "dtypes: float64(4), int64(1), object(8)\n",
      "memory usage: 62.5+ KB\n"
     ]
    }
   ],
   "source": [
    "df.info()"
   ]
  },
  {
   "cell_type": "code",
   "execution_count": 7,
   "id": "7f308710-65cc-41fd-a359-8240d27c773d",
   "metadata": {},
   "outputs": [
    {
     "data": {
      "text/html": [
       "<div>\n",
       "<style scoped>\n",
       "    .dataframe tbody tr th:only-of-type {\n",
       "        vertical-align: middle;\n",
       "    }\n",
       "\n",
       "    .dataframe tbody tr th {\n",
       "        vertical-align: top;\n",
       "    }\n",
       "\n",
       "    .dataframe thead th {\n",
       "        text-align: right;\n",
       "    }\n",
       "</style>\n",
       "<table border=\"1\" class=\"dataframe\">\n",
       "  <thead>\n",
       "    <tr style=\"text-align: right;\">\n",
       "      <th></th>\n",
       "      <th>ApplicantIncome</th>\n",
       "      <th>CoapplicantIncome</th>\n",
       "      <th>LoanAmount</th>\n",
       "      <th>Loan_Amount_Term</th>\n",
       "      <th>Credit_History</th>\n",
       "    </tr>\n",
       "  </thead>\n",
       "  <tbody>\n",
       "    <tr>\n",
       "      <th>count</th>\n",
       "      <td>614.000000</td>\n",
       "      <td>614.000000</td>\n",
       "      <td>592.000000</td>\n",
       "      <td>600.00000</td>\n",
       "      <td>564.000000</td>\n",
       "    </tr>\n",
       "    <tr>\n",
       "      <th>mean</th>\n",
       "      <td>5403.459283</td>\n",
       "      <td>1621.245798</td>\n",
       "      <td>146.412162</td>\n",
       "      <td>342.00000</td>\n",
       "      <td>0.842199</td>\n",
       "    </tr>\n",
       "    <tr>\n",
       "      <th>std</th>\n",
       "      <td>6109.041673</td>\n",
       "      <td>2926.248369</td>\n",
       "      <td>85.587325</td>\n",
       "      <td>65.12041</td>\n",
       "      <td>0.364878</td>\n",
       "    </tr>\n",
       "    <tr>\n",
       "      <th>min</th>\n",
       "      <td>150.000000</td>\n",
       "      <td>0.000000</td>\n",
       "      <td>9.000000</td>\n",
       "      <td>12.00000</td>\n",
       "      <td>0.000000</td>\n",
       "    </tr>\n",
       "    <tr>\n",
       "      <th>25%</th>\n",
       "      <td>2877.500000</td>\n",
       "      <td>0.000000</td>\n",
       "      <td>100.000000</td>\n",
       "      <td>360.00000</td>\n",
       "      <td>1.000000</td>\n",
       "    </tr>\n",
       "    <tr>\n",
       "      <th>50%</th>\n",
       "      <td>3812.500000</td>\n",
       "      <td>1188.500000</td>\n",
       "      <td>128.000000</td>\n",
       "      <td>360.00000</td>\n",
       "      <td>1.000000</td>\n",
       "    </tr>\n",
       "    <tr>\n",
       "      <th>75%</th>\n",
       "      <td>5795.000000</td>\n",
       "      <td>2297.250000</td>\n",
       "      <td>168.000000</td>\n",
       "      <td>360.00000</td>\n",
       "      <td>1.000000</td>\n",
       "    </tr>\n",
       "    <tr>\n",
       "      <th>max</th>\n",
       "      <td>81000.000000</td>\n",
       "      <td>41667.000000</td>\n",
       "      <td>700.000000</td>\n",
       "      <td>480.00000</td>\n",
       "      <td>1.000000</td>\n",
       "    </tr>\n",
       "  </tbody>\n",
       "</table>\n",
       "</div>"
      ],
      "text/plain": [
       "       ApplicantIncome  CoapplicantIncome  LoanAmount  Loan_Amount_Term  \\\n",
       "count       614.000000         614.000000  592.000000         600.00000   \n",
       "mean       5403.459283        1621.245798  146.412162         342.00000   \n",
       "std        6109.041673        2926.248369   85.587325          65.12041   \n",
       "min         150.000000           0.000000    9.000000          12.00000   \n",
       "25%        2877.500000           0.000000  100.000000         360.00000   \n",
       "50%        3812.500000        1188.500000  128.000000         360.00000   \n",
       "75%        5795.000000        2297.250000  168.000000         360.00000   \n",
       "max       81000.000000       41667.000000  700.000000         480.00000   \n",
       "\n",
       "       Credit_History  \n",
       "count      564.000000  \n",
       "mean         0.842199  \n",
       "std          0.364878  \n",
       "min          0.000000  \n",
       "25%          1.000000  \n",
       "50%          1.000000  \n",
       "75%          1.000000  \n",
       "max          1.000000  "
      ]
     },
     "execution_count": 7,
     "metadata": {},
     "output_type": "execute_result"
    }
   ],
   "source": [
    "df.describe()"
   ]
  },
  {
   "cell_type": "code",
   "execution_count": 8,
   "id": "572a138b-937d-4edc-ad95-839b7899e396",
   "metadata": {},
   "outputs": [
    {
     "data": {
      "text/plain": [
       "<AxesSubplot: >"
      ]
     },
     "execution_count": 8,
     "metadata": {},
     "output_type": "execute_result"
    },
    {
     "data": {
      "image/png": "[encoded data removed]",
      "text/plain": [
       "<Figure size 1500x1000 with 1 Axes>"
      ]
     },
     "metadata": {},
     "output_type": "display_data"
    }
   ],
   "source": [
    "plt.figure(figsize=(15,10))\n",
    "sns.boxplot(df)"
   ]
  },
  {
   "cell_type": "code",
   "execution_count": 9,
   "id": "32a8924e-034a-4928-b345-73c1f6484bf8",
   "metadata": {},
   "outputs": [
    {
     "data": {
      "text/plain": [
       "Loan_ID               0\n",
       "Gender               13\n",
       "Married               3\n",
       "Dependents           15\n",
       "Education             0\n",
       "Self_Employed        32\n",
       "ApplicantIncome       0\n",
       "CoapplicantIncome     0\n",
       "LoanAmount           22\n",
       "Loan_Amount_Term     14\n",
       "Credit_History       50\n",
       "Property_Area         0\n",
       "Loan_Status           0\n",
       "dtype: int64"
      ]
     },
     "execution_count": 9,
     "metadata": {},
     "output_type": "execute_result"
    }
   ],
   "source": [
    "df.isnull().sum()"
   ]
  },
  {
   "cell_type": "code",
   "execution_count": 10,
   "id": "b00fdd9a-75bb-4419-a32d-680fbfa47db1",
   "metadata": {},
   "outputs": [],
   "source": [
    "df.drop(columns='Loan_ID',axis=1,inplace=True)\n",
    "df.drop(columns='Dependents',axis=1,inplace=True)"
   ]
  },
  {
   "cell_type": "code",
   "execution_count": 11,
   "id": "32b9d245-72ae-4ced-a233-74a18f84cdc0",
   "metadata": {},
   "outputs": [
    {
     "data": {
      "text/html": [
       "<div>\n",
       "<style scoped>\n",
       "    .dataframe tbody tr th:only-of-type {\n",
       "        vertical-align: middle;\n",
       "    }\n",
       "\n",
       "    .dataframe tbody tr th {\n",
       "        vertical-align: top;\n",
       "    }\n",
       "\n",
       "    .dataframe thead th {\n",
       "        text-align: right;\n",
       "    }\n",
       "</style>\n",
       "<table border=\"1\" class=\"dataframe\">\n",
       "  <thead>\n",
       "    <tr style=\"text-align: right;\">\n",
       "      <th></th>\n",
       "      <th>Gender</th>\n",
       "      <th>Married</th>\n",
       "      <th>Education</th>\n",
       "      <th>Self_Employed</th>\n",
       "      <th>ApplicantIncome</th>\n",
       "      <th>CoapplicantIncome</th>\n",
       "      <th>LoanAmount</th>\n",
       "      <th>Loan_Amount_Term</th>\n",
       "      <th>Credit_History</th>\n",
       "      <th>Property_Area</th>\n",
       "      <th>Loan_Status</th>\n",
       "    </tr>\n",
       "  </thead>\n",
       "  <tbody>\n",
       "    <tr>\n",
       "      <th>0</th>\n",
       "      <td>Male</td>\n",
       "      <td>No</td>\n",
       "      <td>Graduate</td>\n",
       "      <td>No</td>\n",
       "      <td>5849</td>\n",
       "      <td>0.0</td>\n",
       "      <td>NaN</td>\n",
       "      <td>360.0</td>\n",
       "      <td>1.0</td>\n",
       "      <td>Urban</td>\n",
       "      <td>Y</td>\n",
       "    </tr>\n",
       "    <tr>\n",
       "      <th>1</th>\n",
       "      <td>Male</td>\n",
       "      <td>Yes</td>\n",
       "      <td>Graduate</td>\n",
       "      <td>No</td>\n",
       "      <td>4583</td>\n",
       "      <td>1508.0</td>\n",
       "      <td>128.0</td>\n",
       "      <td>360.0</td>\n",
       "      <td>1.0</td>\n",
       "      <td>Rural</td>\n",
       "      <td>N</td>\n",
       "    </tr>\n",
       "    <tr>\n",
       "      <th>2</th>\n",
       "      <td>Male</td>\n",
       "      <td>Yes</td>\n",
       "      <td>Graduate</td>\n",
       "      <td>Yes</td>\n",
       "      <td>3000</td>\n",
       "      <td>0.0</td>\n",
       "      <td>66.0</td>\n",
       "      <td>360.0</td>\n",
       "      <td>1.0</td>\n",
       "      <td>Urban</td>\n",
       "      <td>Y</td>\n",
       "    </tr>\n",
       "    <tr>\n",
       "      <th>3</th>\n",
       "      <td>Male</td>\n",
       "      <td>Yes</td>\n",
       "      <td>Not Graduate</td>\n",
       "      <td>No</td>\n",
       "      <td>2583</td>\n",
       "      <td>2358.0</td>\n",
       "      <td>120.0</td>\n",
       "      <td>360.0</td>\n",
       "      <td>1.0</td>\n",
       "      <td>Urban</td>\n",
       "      <td>Y</td>\n",
       "    </tr>\n",
       "    <tr>\n",
       "      <th>4</th>\n",
       "      <td>Male</td>\n",
       "      <td>No</td>\n",
       "      <td>Graduate</td>\n",
       "      <td>No</td>\n",
       "      <td>6000</td>\n",
       "      <td>0.0</td>\n",
       "      <td>141.0</td>\n",
       "      <td>360.0</td>\n",
       "      <td>1.0</td>\n",
       "      <td>Urban</td>\n",
       "      <td>Y</td>\n",
       "    </tr>\n",
       "  </tbody>\n",
       "</table>\n",
       "</div>"
      ],
      "text/plain": [
       "  Gender Married     Education Self_Employed  ApplicantIncome  \\\n",
       "0   Male      No      Graduate            No             5849   \n",
       "1   Male     Yes      Graduate            No             4583   \n",
       "2   Male     Yes      Graduate           Yes             3000   \n",
       "3   Male     Yes  Not Graduate            No             2583   \n",
       "4   Male      No      Graduate            No             6000   \n",
       "\n",
       "   CoapplicantIncome  LoanAmount  Loan_Amount_Term  Credit_History  \\\n",
       "0                0.0         NaN             360.0             1.0   \n",
       "1             1508.0       128.0             360.0             1.0   \n",
       "2                0.0        66.0             360.0             1.0   \n",
       "3             2358.0       120.0             360.0             1.0   \n",
       "4                0.0       141.0             360.0             1.0   \n",
       "\n",
       "  Property_Area Loan_Status  \n",
       "0         Urban           Y  \n",
       "1         Rural           N  \n",
       "2         Urban           Y  \n",
       "3         Urban           Y  \n",
       "4         Urban           Y  "
      ]
     },
     "execution_count": 11,
     "metadata": {},
     "output_type": "execute_result"
    }
   ],
   "source": [
    "df.head()"
   ]
  },
  {
   "cell_type": "code",
   "execution_count": 12,
   "id": "928d1d2c-e34c-4ef2-9085-ef9f5a10be36",
   "metadata": {},
   "outputs": [
    {
     "data": {
      "text/plain": [
       "array(['Graduate', 'Not Graduate'], dtype=object)"
      ]
     },
     "execution_count": 12,
     "metadata": {},
     "output_type": "execute_result"
    }
   ],
   "source": [
    "df['Education'].unique()"
   ]
  },
  {
   "cell_type": "code",
   "execution_count": 13,
   "id": "04f6413b-acb4-4d8b-b3e5-817be63f233b",
   "metadata": {},
   "outputs": [
    {
     "data": {
      "text/plain": [
       "0    Male\n",
       "Name: Gender, dtype: object"
      ]
     },
     "execution_count": 13,
     "metadata": {},
     "output_type": "execute_result"
    }
   ],
   "source": [
    "df['Gender'].mode()"
   ]
  },
  {
   "cell_type": "code",
   "execution_count": 14,
   "id": "4dc26b29-dcb0-4076-8ccc-f5f382394cd9",
   "metadata": {},
   "outputs": [
    {
     "data": {
      "text/plain": [
       "0        Male\n",
       "1        Male\n",
       "2        Male\n",
       "3        Male\n",
       "4        Male\n",
       "        ...  \n",
       "609    Female\n",
       "610      Male\n",
       "611      Male\n",
       "612      Male\n",
       "613    Female\n",
       "Name: Gender, Length: 614, dtype: object"
      ]
     },
     "execution_count": 14,
     "metadata": {},
     "output_type": "execute_result"
    }
   ],
   "source": [
    "df['Gender'].fillna('Male')"
   ]
  },
  {
   "cell_type": "code",
   "execution_count": 15,
   "id": "d215159e-013c-4e08-a870-607215e6f014",
   "metadata": {},
   "outputs": [
    {
     "data": {
      "text/plain": [
       "0    Yes\n",
       "Name: Married, dtype: object"
      ]
     },
     "execution_count": 15,
     "metadata": {},
     "output_type": "execute_result"
    }
   ],
   "source": [
    "df['Married'].mode()"
   ]
  },
  {
   "cell_type": "code",
   "execution_count": 16,
   "id": "24fd4e02-23b8-4f64-90c4-488ecc975416",
   "metadata": {},
   "outputs": [
    {
     "data": {
      "text/plain": [
       "0       No\n",
       "1      Yes\n",
       "2      Yes\n",
       "3      Yes\n",
       "4       No\n",
       "      ... \n",
       "609     No\n",
       "610    Yes\n",
       "611    Yes\n",
       "612    Yes\n",
       "613     No\n",
       "Name: Married, Length: 614, dtype: object"
      ]
     },
     "execution_count": 16,
     "metadata": {},
     "output_type": "execute_result"
    }
   ],
   "source": [
    "df['Married'].fillna('Yes')"
   ]
  },
  {
   "cell_type": "code",
   "execution_count": 17,
   "id": "d46695c6-06da-445a-9a40-3d4800c46f8d",
   "metadata": {},
   "outputs": [
    {
     "data": {
      "text/plain": [
       "0    No\n",
       "Name: Self_Employed, dtype: object"
      ]
     },
     "execution_count": 17,
     "metadata": {},
     "output_type": "execute_result"
    }
   ],
   "source": [
    "df['Self_Employed'].mode()"
   ]
  },
  {
   "cell_type": "code",
   "execution_count": 18,
   "id": "b2543e6b-9196-4619-ab93-5ba6ea50ebbd",
   "metadata": {},
   "outputs": [
    {
     "data": {
      "text/plain": [
       "0       No\n",
       "1       No\n",
       "2      Yes\n",
       "3       No\n",
       "4       No\n",
       "      ... \n",
       "609     No\n",
       "610     No\n",
       "611     No\n",
       "612     No\n",
       "613    Yes\n",
       "Name: Self_Employed, Length: 614, dtype: object"
      ]
     },
     "execution_count": 18,
     "metadata": {},
     "output_type": "execute_result"
    }
   ],
   "source": [
    "df['Self_Employed'].fillna('No')"
   ]
  },
  {
   "cell_type": "code",
   "execution_count": 19,
   "id": "76284162-28e4-44fa-a5f6-e0124b0ba25b",
   "metadata": {},
   "outputs": [
    {
     "data": {
      "text/plain": [
       "array(['No', 'Yes', nan], dtype=object)"
      ]
     },
     "execution_count": 19,
     "metadata": {},
     "output_type": "execute_result"
    }
   ],
   "source": [
    "df['Self_Employed'].unique()"
   ]
  },
  {
   "cell_type": "code",
   "execution_count": 20,
   "id": "d5106b74-9f44-4ff4-b6eb-93292573316b",
   "metadata": {},
   "outputs": [
    {
     "data": {
      "text/plain": [
       "146.41216216216216"
      ]
     },
     "execution_count": 20,
     "metadata": {},
     "output_type": "execute_result"
    }
   ],
   "source": [
    "df['LoanAmount'].mean()"
   ]
  },
  {
   "cell_type": "code",
   "execution_count": 21,
   "id": "29056858-8852-43f8-a289-ad7f96796ff8",
   "metadata": {},
   "outputs": [
    {
     "data": {
      "text/plain": [
       "0      146.41\n",
       "1      128.00\n",
       "2       66.00\n",
       "3      120.00\n",
       "4      141.00\n",
       "        ...  \n",
       "609     71.00\n",
       "610     40.00\n",
       "611    253.00\n",
       "612    187.00\n",
       "613    133.00\n",
       "Name: LoanAmount, Length: 614, dtype: float64"
      ]
     },
     "execution_count": 21,
     "metadata": {},
     "output_type": "execute_result"
    }
   ],
   "source": [
    "df['LoanAmount'].fillna(146.41)"
   ]
  },
  {
   "cell_type": "code",
   "execution_count": 22,
   "id": "f8db5d09-50e7-47d1-9578-2cbcb1cb4565",
   "metadata": {},
   "outputs": [
    {
     "data": {
      "text/plain": [
       "342.0"
      ]
     },
     "execution_count": 22,
     "metadata": {},
     "output_type": "execute_result"
    }
   ],
   "source": [
    "df['Loan_Amount_Term'].mean()"
   ]
  },
  {
   "cell_type": "code",
   "execution_count": 23,
   "id": "8bf233cb-f3a8-41fe-bf23-ce8b2d3c9a05",
   "metadata": {},
   "outputs": [
    {
     "data": {
      "text/plain": [
       "0      360.0\n",
       "1      360.0\n",
       "2      360.0\n",
       "3      360.0\n",
       "4      360.0\n",
       "       ...  \n",
       "609    360.0\n",
       "610    180.0\n",
       "611    360.0\n",
       "612    360.0\n",
       "613    360.0\n",
       "Name: Loan_Amount_Term, Length: 614, dtype: float64"
      ]
     },
     "execution_count": 23,
     "metadata": {},
     "output_type": "execute_result"
    }
   ],
   "source": [
    "df['Loan_Amount_Term'].fillna(342)"
   ]
  },
  {
   "cell_type": "code",
   "execution_count": 24,
   "id": "98ecb769-59f6-4da2-87a8-4fe593433b95",
   "metadata": {},
   "outputs": [
    {
     "data": {
      "text/plain": [
       "Gender               13\n",
       "Married               3\n",
       "Education             0\n",
       "Self_Employed        32\n",
       "ApplicantIncome       0\n",
       "CoapplicantIncome     0\n",
       "LoanAmount           22\n",
       "Loan_Amount_Term     14\n",
       "Credit_History       50\n",
       "Property_Area         0\n",
       "Loan_Status           0\n",
       "dtype: int64"
      ]
     },
     "execution_count": 24,
     "metadata": {},
     "output_type": "execute_result"
    }
   ],
   "source": [
    "df.isnull().sum()"
   ]
  },
  {
   "cell_type": "code",
   "execution_count": 25,
   "id": "1842f757-2f15-4274-b0ee-e82f90ca920e",
   "metadata": {},
   "outputs": [],
   "source": [
    "df.dropna(inplace=True)"
   ]
  },
  {
   "cell_type": "code",
   "execution_count": null,
   "id": "1238bf85-a0b9-4d4f-8fd6-7a57c73a8f01",
   "metadata": {},
   "outputs": [],
   "source": []
  },
  {
   "cell_type": "code",
   "execution_count": 26,
   "id": "3fbd2c25-11e5-4ffc-ae7b-6cdb6c21b82b",
   "metadata": {},
   "outputs": [
    {
     "data": {
      "text/plain": [
       "<AxesSubplot: xlabel='Gender', ylabel='Married'>"
      ]
     },
     "execution_count": 26,
     "metadata": {},
     "output_type": "execute_result"
    },
    {
     "data": {
      "image/png": "[encoded data removed]",
      "text/plain": [
       "<Figure size 640x480 with 1 Axes>"
      ]
     },
     "metadata": {},
     "output_type": "display_data"
    }
   ],
   "source": [
    "sns.histplot(data=df,x='Gender',y='Married',weights=True,bins=4)"
   ]
  },
  {
   "cell_type": "code",
   "execution_count": 27,
   "id": "ab7c8bc0-2c0f-42d5-bc7c-a1dc4953d250",
   "metadata": {},
   "outputs": [
    {
     "data": {
      "text/plain": [
       "<AxesSubplot: xlabel='LoanAmount', ylabel='Count'>"
      ]
     },
     "execution_count": 27,
     "metadata": {},
     "output_type": "execute_result"
    },
    {
     "data": {
      "image/png": "[encoded data removed]",
      "text/plain": [
       "<Figure size 640x480 with 1 Axes>"
      ]
     },
     "metadata": {},
     "output_type": "display_data"
    }
   ],
   "source": [
    "sns.histplot(df['LoanAmount'],kde=True)"
   ]
  },
  {
   "cell_type": "code",
   "execution_count": 28,
   "id": "dba87bee-dcd5-4e67-b810-a29b61afd527",
   "metadata": {},
   "outputs": [
    {
     "data": {
      "text/plain": [
       "<AxesSubplot: xlabel='Education', ylabel='count'>"
      ]
     },
     "execution_count": 28,
     "metadata": {},
     "output_type": "execute_result"
    },
    {
     "data": {
      "image/png": "[encoded data removed]",
      "text/plain": [
       "<Figure size 640x480 with 1 Axes>"
      ]
     },
     "metadata": {},
     "output_type": "display_data"
    }
   ],
   "source": [
    "sns.countplot(data=df,x='Education')"
   ]
  },
  {
   "cell_type": "code",
   "execution_count": 29,
   "id": "73f841a5-5a0f-45da-a19f-cc8932ba61bb",
   "metadata": {},
   "outputs": [
    {
     "data": {
      "text/plain": [
       "<AxesSubplot: >"
      ]
     },
     "execution_count": 29,
     "metadata": {},
     "output_type": "execute_result"
    },
    {
     "data": {
      "image/png": "[encoded data removed]",
      "text/plain": [
       "<Figure size 1500x800 with 2 Axes>"
      ]
     },
     "metadata": {},
     "output_type": "display_data"
    }
   ],
   "source": [
    "plt.figure(figsize=(15,8))\n",
    "sns.heatmap(df.corr(),annot=True)"
   ]
  },
  {
   "cell_type": "code",
   "execution_count": 30,
   "id": "3d61967b-0916-4dda-9ef5-66e16e812300",
   "metadata": {},
   "outputs": [
    {
     "data": {
      "text/plain": [
       "<AxesSubplot: xlabel='Loan_Status', ylabel='count'>"
      ]
     },
     "execution_count": 30,
     "metadata": {},
     "output_type": "execute_result"
    },
    {
     "data": {
      "image/png": "[encoded data removed]",
      "text/plain": [
       "<Figure size 640x480 with 1 Axes>"
      ]
     },
     "metadata": {},
     "output_type": "display_data"
    }
   ],
   "source": [
    "sns.countplot(data=df,x='Loan_Status')"
   ]
  },
  {
   "cell_type": "code",
   "execution_count": 31,
   "id": "6bde6904-e360-4e4d-9986-9de5de6b10e0",
   "metadata": {},
   "outputs": [
    {
     "data": {
      "text/html": [
       "<div>\n",
       "<style scoped>\n",
       "    .dataframe tbody tr th:only-of-type {\n",
       "        vertical-align: middle;\n",
       "    }\n",
       "\n",
       "    .dataframe tbody tr th {\n",
       "        vertical-align: top;\n",
       "    }\n",
       "\n",
       "    .dataframe thead th {\n",
       "        text-align: right;\n",
       "    }\n",
       "</style>\n",
       "<table border=\"1\" class=\"dataframe\">\n",
       "  <thead>\n",
       "    <tr style=\"text-align: right;\">\n",
       "      <th></th>\n",
       "      <th>Gender</th>\n",
       "      <th>Married</th>\n",
       "      <th>Education</th>\n",
       "      <th>Self_Employed</th>\n",
       "      <th>ApplicantIncome</th>\n",
       "      <th>CoapplicantIncome</th>\n",
       "      <th>LoanAmount</th>\n",
       "      <th>Loan_Amount_Term</th>\n",
       "      <th>Credit_History</th>\n",
       "      <th>Property_Area</th>\n",
       "      <th>Loan_Status</th>\n",
       "    </tr>\n",
       "  </thead>\n",
       "  <tbody>\n",
       "    <tr>\n",
       "      <th>1</th>\n",
       "      <td>Male</td>\n",
       "      <td>Yes</td>\n",
       "      <td>Graduate</td>\n",
       "      <td>No</td>\n",
       "      <td>4583</td>\n",
       "      <td>1508.0</td>\n",
       "      <td>128.0</td>\n",
       "      <td>360.0</td>\n",
       "      <td>1.0</td>\n",
       "      <td>Rural</td>\n",
       "      <td>N</td>\n",
       "    </tr>\n",
       "  </tbody>\n",
       "</table>\n",
       "</div>"
      ],
      "text/plain": [
       "  Gender Married Education Self_Employed  ApplicantIncome  CoapplicantIncome  \\\n",
       "1   Male     Yes  Graduate            No             4583             1508.0   \n",
       "\n",
       "   LoanAmount  Loan_Amount_Term  Credit_History Property_Area Loan_Status  \n",
       "1       128.0             360.0             1.0         Rural           N  "
      ]
     },
     "execution_count": 31,
     "metadata": {},
     "output_type": "execute_result"
    }
   ],
   "source": [
    "df.head(1)"
   ]
  },
  {
   "cell_type": "code",
   "execution_count": 32,
   "id": "ab03fbbb-e385-43e6-aac2-0552f9a11e84",
   "metadata": {},
   "outputs": [
    {
     "data": {
      "text/plain": [
       "array(['N', 'Y'], dtype=object)"
      ]
     },
     "execution_count": 32,
     "metadata": {},
     "output_type": "execute_result"
    }
   ],
   "source": [
    "df['Loan_Status'].unique()"
   ]
  },
  {
   "cell_type": "code",
   "execution_count": 33,
   "id": "193b6e76-7663-4280-a530-d5907e9d4e0b",
   "metadata": {},
   "outputs": [],
   "source": [
    "df.loc[df['Education']=='Graduate','Education']=1\n",
    "df.loc[df['Education']=='Not Graduate','Education']=0\n",
    "df['Education'] = df['Education'].astype(int)\n",
    "df.loc[df['Married']=='Yes','Married']=1\n",
    "df.loc[df['Married']=='No','Married']=0\n",
    "df['Married'] = df['Married'].astype(int)\n",
    "df.loc[df['Self_Employed']=='No','Self_Employed']=0\n",
    "df.loc[df['Self_Employed']=='Yes','Self_Employed']=1\n",
    "df['Self_Employed']=df['Self_Employed'].astype(int)\n",
    "\n",
    "df.loc[df['Loan_Status']=='Y','Loan_Status']=1\n",
    "df.loc[df['Loan_Status']=='N','Loan_Status']=0\n",
    "df['Loan_Status']=df['Loan_Status'].astype(int)"
   ]
  },
  {
   "cell_type": "code",
   "execution_count": 34,
   "id": "4493dc2c-f30c-496c-ba38-d2e708a8cc41",
   "metadata": {},
   "outputs": [],
   "source": [
    "from sklearn.preprocessing import OneHotEncoder"
   ]
  },
  {
   "cell_type": "code",
   "execution_count": 35,
   "id": "1f6ff402-de3a-4c7f-b08b-3718d5438643",
   "metadata": {},
   "outputs": [],
   "source": [
    "enc=OneHotEncoder(handle_unknown='ignore')"
   ]
  },
  {
   "cell_type": "code",
   "execution_count": 36,
   "id": "145e74f0-6ee0-4f8f-8e71-f1db1fa506a5",
   "metadata": {},
   "outputs": [],
   "source": [
    "encoded=enc.fit_transform(df[['Property_Area']])"
   ]
  },
  {
   "cell_type": "code",
   "execution_count": 37,
   "id": "f092788c-c1df-4813-8072-7f32a8ddee80",
   "metadata": {},
   "outputs": [],
   "source": [
    "enc_df=pd.DataFrame(encoded.toarray(),columns=enc.get_feature_names_out())"
   ]
  },
  {
   "cell_type": "code",
   "execution_count": 38,
   "id": "96e5769e-e9f6-4935-be6e-0c0a6d5a522d",
   "metadata": {},
   "outputs": [],
   "source": [
    "df=df.append(enc_df)\n",
    "df.drop('Property_Area',inplace=True,axis=1)\n",
    "df.drop('Gender',inplace=True,axis=1)"
   ]
  },
  {
   "cell_type": "code",
   "execution_count": 39,
   "id": "4eed52fb-43d4-4f56-b7dd-c9d2731e3595",
   "metadata": {},
   "outputs": [
    {
     "data": {
      "text/html": [
       "<div>\n",
       "<style scoped>\n",
       "    .dataframe tbody tr th:only-of-type {\n",
       "        vertical-align: middle;\n",
       "    }\n",
       "\n",
       "    .dataframe tbody tr th {\n",
       "        vertical-align: top;\n",
       "    }\n",
       "\n",
       "    .dataframe thead th {\n",
       "        text-align: right;\n",
       "    }\n",
       "</style>\n",
       "<table border=\"1\" class=\"dataframe\">\n",
       "  <thead>\n",
       "    <tr style=\"text-align: right;\">\n",
       "      <th></th>\n",
       "      <th>Married</th>\n",
       "      <th>Education</th>\n",
       "      <th>Self_Employed</th>\n",
       "      <th>ApplicantIncome</th>\n",
       "      <th>CoapplicantIncome</th>\n",
       "      <th>LoanAmount</th>\n",
       "      <th>Loan_Amount_Term</th>\n",
       "      <th>Credit_History</th>\n",
       "      <th>Loan_Status</th>\n",
       "      <th>Property_Area_Rural</th>\n",
       "      <th>Property_Area_Semiurban</th>\n",
       "      <th>Property_Area_Urban</th>\n",
       "    </tr>\n",
       "  </thead>\n",
       "  <tbody>\n",
       "    <tr>\n",
       "      <th>1</th>\n",
       "      <td>1.0</td>\n",
       "      <td>1.0</td>\n",
       "      <td>0.0</td>\n",
       "      <td>4583.0</td>\n",
       "      <td>1508.0</td>\n",
       "      <td>128.0</td>\n",
       "      <td>360.0</td>\n",
       "      <td>1.0</td>\n",
       "      <td>0.0</td>\n",
       "      <td>NaN</td>\n",
       "      <td>NaN</td>\n",
       "      <td>NaN</td>\n",
       "    </tr>\n",
       "    <tr>\n",
       "      <th>2</th>\n",
       "      <td>1.0</td>\n",
       "      <td>1.0</td>\n",
       "      <td>1.0</td>\n",
       "      <td>3000.0</td>\n",
       "      <td>0.0</td>\n",
       "      <td>66.0</td>\n",
       "      <td>360.0</td>\n",
       "      <td>1.0</td>\n",
       "      <td>1.0</td>\n",
       "      <td>NaN</td>\n",
       "      <td>NaN</td>\n",
       "      <td>NaN</td>\n",
       "    </tr>\n",
       "  </tbody>\n",
       "</table>\n",
       "</div>"
      ],
      "text/plain": [
       "   Married  Education  Self_Employed  ApplicantIncome  CoapplicantIncome  \\\n",
       "1      1.0        1.0            0.0           4583.0             1508.0   \n",
       "2      1.0        1.0            1.0           3000.0                0.0   \n",
       "\n",
       "   LoanAmount  Loan_Amount_Term  Credit_History  Loan_Status  \\\n",
       "1       128.0             360.0             1.0          0.0   \n",
       "2        66.0             360.0             1.0          1.0   \n",
       "\n",
       "   Property_Area_Rural  Property_Area_Semiurban  Property_Area_Urban  \n",
       "1                  NaN                      NaN                  NaN  \n",
       "2                  NaN                      NaN                  NaN  "
      ]
     },
     "execution_count": 39,
     "metadata": {},
     "output_type": "execute_result"
    }
   ],
   "source": [
    " df.head(2)"
   ]
  },
  {
   "cell_type": "code",
   "execution_count": 40,
   "id": "ca372ea7-fa21-48d6-8cdd-cc69887b4a9f",
   "metadata": {},
   "outputs": [
    {
     "name": "stdout",
     "output_type": "stream",
     "text": [
      "<class 'pandas.core.frame.DataFrame'>\n",
      "Int64Index: 980 entries, 1 to 489\n",
      "Data columns (total 12 columns):\n",
      " #   Column                   Non-Null Count  Dtype  \n",
      "---  ------                   --------------  -----  \n",
      " 0   Married                  490 non-null    float64\n",
      " 1   Education                490 non-null    float64\n",
      " 2   Self_Employed            490 non-null    float64\n",
      " 3   ApplicantIncome          490 non-null    float64\n",
      " 4   CoapplicantIncome        490 non-null    float64\n",
      " 5   LoanAmount               490 non-null    float64\n",
      " 6   Loan_Amount_Term         490 non-null    float64\n",
      " 7   Credit_History           490 non-null    float64\n",
      " 8   Loan_Status              490 non-null    float64\n",
      " 9   Property_Area_Rural      490 non-null    float64\n",
      " 10  Property_Area_Semiurban  490 non-null    float64\n",
      " 11  Property_Area_Urban      490 non-null    float64\n",
      "dtypes: float64(12)\n",
      "memory usage: 99.5 KB\n"
     ]
    }
   ],
   "source": [
    "df.info()"
   ]
  },
  {
   "cell_type": "code",
   "execution_count": 41,
   "id": "ae0a2e89-739d-40cc-8d9a-2a6138361a42",
   "metadata": {},
   "outputs": [],
   "source": [
    "df.fillna(0,inplace=True)"
   ]
  },
  {
   "cell_type": "markdown",
   "id": "d474955d-b9bd-4113-927f-89ee74612de2",
   "metadata": {},
   "source": [
    "# data segrigation "
   ]
  },
  {
   "cell_type": "code",
   "execution_count": 42,
   "id": "f12570c1-7165-4d71-9fc4-db882fff877c",
   "metadata": {},
   "outputs": [],
   "source": [
    "y=df['Loan_Status']"
   ]
  },
  {
   "cell_type": "code",
   "execution_count": 43,
   "id": "37ff1df7-91e3-4299-87e9-b7a0329820d5",
   "metadata": {},
   "outputs": [],
   "source": [
    "X=df.iloc[:,:]"
   ]
  },
  {
   "cell_type": "code",
   "execution_count": 44,
   "id": "4d89e26f-84fe-412f-9b46-95e70c8fbc89",
   "metadata": {},
   "outputs": [],
   "source": [
    "df_c=df.drop(columns='Loan_Status')"
   ]
  },
  {
   "cell_type": "code",
   "execution_count": 45,
   "id": "2f7d453b-cceb-415a-b6c0-6a65621bb32a",
   "metadata": {},
   "outputs": [],
   "source": [
    "X=df_c.iloc[:]"
   ]
  },
  {
   "cell_type": "code",
   "execution_count": 46,
   "id": "4b592439-72a6-4668-b631-4123db59b859",
   "metadata": {},
   "outputs": [],
   "source": [
    "from sklearn.model_selection import train_test_split"
   ]
  },
  {
   "cell_type": "code",
   "execution_count": 47,
   "id": "e7d89265-c9f0-46e1-a735-585486f503f5",
   "metadata": {},
   "outputs": [],
   "source": [
    "X_train,X_test,y_train,y_test = train_test_split(X,y,test_size=0.2,random_state=7)"
   ]
  },
  {
   "cell_type": "markdown",
   "id": "3c022049-4bd3-4100-a9bf-bbad0b1106a6",
   "metadata": {},
   "source": [
    "# Logistic regression"
   ]
  },
  {
   "cell_type": "code",
   "execution_count": 48,
   "id": "df551ef1-e757-4668-b63d-e091968111ff",
   "metadata": {},
   "outputs": [],
   "source": [
    "from sklearn.linear_model import LogisticRegression\n",
    "from sklearn.model_selection import GridSearchCV"
   ]
  },
  {
   "cell_type": "code",
   "execution_count": 49,
   "id": "77a0037d-5337-4d51-ae28-88331ca95c06",
   "metadata": {},
   "outputs": [],
   "source": [
    "classifier_LR = LogisticRegression()"
   ]
  },
  {
   "cell_type": "code",
   "execution_count": 50,
   "id": "e41dc9cb-a812-47e0-b3d1-b25ae646dfdc",
   "metadata": {},
   "outputs": [],
   "source": [
    "#HYPER PARAMETER TUNNING "
   ]
  },
  {
   "cell_type": "code",
   "execution_count": 51,
   "id": "dc8273be-83f1-4f95-a915-89655c3c756b",
   "metadata": {},
   "outputs": [],
   "source": [
    "parameters={'penalty':('l1','l2','elasticnet',None),'C':np.logspace(-3,3,7),'solver':('lbfgs', 'liblinear', 'newton-cg','newton-cholesky', 'sag','saga')}"
   ]
  },
  {
   "cell_type": "code",
   "execution_count": 52,
   "id": "f3e7e5bd-8558-4bff-a0be-48831d441151",
   "metadata": {},
   "outputs": [
    {
     "data": {
      "text/html": [
       "<style>#sk-container-id-1 {color: black;background-color: white;}#sk-container-id-1 pre{padding: 0;}#sk-container-id-1 div.sk-toggleable {background-color: white;}#sk-container-id-1 label.sk-toggleable__label {cursor: pointer;display: block;width: 100%;margin-bottom: 0;padding: 0.3em;box-sizing: border-box;text-align: center;}#sk-container-id-1 label.sk-toggleable__label-arrow:before {content: \"▸\";float: left;margin-right: 0.25em;color: #696969;}#sk-container-id-1 label.sk-toggleable__label-arrow:hover:before {color: black;}#sk-container-id-1 div.sk-estimator:hover label.sk-toggleable__label-arrow:before {color: black;}#sk-container-id-1 div.sk-toggleable__content {max-height: 0;max-width: 0;overflow: hidden;text-align: left;background-color: #f0f8ff;}#sk-container-id-1 div.sk-toggleable__content pre {margin: 0.2em;color: black;border-radius: 0.25em;background-color: #f0f8ff;}#sk-container-id-1 input.sk-toggleable__control:checked~div.sk-toggleable__content {max-height: 200px;max-width: 100%;overflow: auto;}#sk-container-id-1 input.sk-toggleable__control:checked~label.sk-toggleable__label-arrow:before {content: \"▾\";}#sk-container-id-1 div.sk-estimator input.sk-toggleable__control:checked~label.sk-toggleable__label {background-color: #d4ebff;}#sk-container-id-1 div.sk-label input.sk-toggleable__control:checked~label.sk-toggleable__label {background-color: #d4ebff;}#sk-container-id-1 input.sk-hidden--visually {border: 0;clip: rect(1px 1px 1px 1px);clip: rect(1px, 1px, 1px, 1px);height: 1px;margin: -1px;overflow: hidden;padding: 0;position: absolute;width: 1px;}#sk-container-id-1 div.sk-estimator {font-family: monospace;background-color: #f0f8ff;border: 1px dotted black;border-radius: 0.25em;box-sizing: border-box;margin-bottom: 0.5em;}#sk-container-id-1 div.sk-estimator:hover {background-color: #d4ebff;}#sk-container-id-1 div.sk-parallel-item::after {content: \"\";width: 100%;border-bottom: 1px solid gray;flex-grow: 1;}#sk-container-id-1 div.sk-label:hover label.sk-toggleable__label {background-color: #d4ebff;}#sk-container-id-1 div.sk-serial::before {content: \"\";position: absolute;border-left: 1px solid gray;box-sizing: border-box;top: 0;bottom: 0;left: 50%;z-index: 0;}#sk-container-id-1 div.sk-serial {display: flex;flex-direction: column;align-items: center;background-color: white;padding-right: 0.2em;padding-left: 0.2em;position: relative;}#sk-container-id-1 div.sk-item {position: relative;z-index: 1;}#sk-container-id-1 div.sk-parallel {display: flex;align-items: stretch;justify-content: center;background-color: white;position: relative;}#sk-container-id-1 div.sk-item::before, #sk-container-id-1 div.sk-parallel-item::before {content: \"\";position: absolute;border-left: 1px solid gray;box-sizing: border-box;top: 0;bottom: 0;left: 50%;z-index: -1;}#sk-container-id-1 div.sk-parallel-item {display: flex;flex-direction: column;z-index: 1;position: relative;background-color: white;}#sk-container-id-1 div.sk-parallel-item:first-child::after {align-self: flex-end;width: 50%;}#sk-container-id-1 div.sk-parallel-item:last-child::after {align-self: flex-start;width: 50%;}#sk-container-id-1 div.sk-parallel-item:only-child::after {width: 0;}#sk-container-id-1 div.sk-dashed-wrapped {border: 1px dashed gray;margin: 0 0.4em 0.5em 0.4em;box-sizing: border-box;padding-bottom: 0.4em;background-color: white;}#sk-container-id-1 div.sk-label label {font-family: monospace;font-weight: bold;display: inline-block;line-height: 1.2em;}#sk-container-id-1 div.sk-label-container {text-align: center;}#sk-container-id-1 div.sk-container {/* jupyter's `normalize.less` sets `[hidden] { display: none; }` but bootstrap.min.css set `[hidden] { display: none !important; }` so we also need the `!important` here to be able to override the default hidden behavior on the sphinx rendered scikit-learn.org. See: https://github.com/scikit-learn/scikit-learn/issues/21755 */display: inline-block !important;position: relative;}#sk-container-id-1 div.sk-text-repr-fallback {display: none;}</style><div id=\"sk-container-id-1\" class=\"sk-top-container\"><div class=\"sk-text-repr-fallback\"><pre>LogisticRegression()</pre><b>In a Jupyter environment, please rerun this cell to show the HTML representation or trust the notebook. <br />On GitHub, the HTML representation is unable to render, please try loading this page with nbviewer.org.</b></div><div class=\"sk-container\" hidden><div class=\"sk-item\"><div class=\"sk-estimator sk-toggleable\"><input class=\"sk-toggleable__control sk-hidden--visually\" id=\"sk-estimator-id-1\" type=\"checkbox\" checked><label for=\"sk-estimator-id-1\" class=\"sk-toggleable__label sk-toggleable__label-arrow\">LogisticRegression</label><div class=\"sk-toggleable__content\"><pre>LogisticRegression()</pre></div></div></div></div></div>"
      ],
      "text/plain": [
       "LogisticRegression()"
      ]
     },
     "execution_count": 52,
     "metadata": {},
     "output_type": "execute_result"
    }
   ],
   "source": [
    "classifier_LR.fit(X_train,y_train)"
   ]
  },
  {
   "cell_type": "code",
   "execution_count": 53,
   "id": "740355bf-cbb6-44f6-aa34-f4f7933bead0",
   "metadata": {},
   "outputs": [],
   "source": [
    "grid= GridSearchCV(estimator=classifier_LR,param_grid=parameters,cv=5,verbose=3)"
   ]
  },
  {
   "cell_type": "code",
   "execution_count": 54,
   "id": "1b2c18de-bfa0-40b4-9f5e-ef04f27cb8be",
   "metadata": {},
   "outputs": [
    {
     "name": "stdout",
     "output_type": "stream",
     "text": [
      "Fitting 5 folds for each of 168 candidates, totalling 840 fits\n",
      "[CV 1/5] END ...C=0.001, penalty=l1, solver=lbfgs;, score=nan total time=   0.0s\n",
      "[CV 2/5] END ...C=0.001, penalty=l1, solver=lbfgs;, score=nan total time=   0.0s\n",
      "[CV 3/5] END ...C=0.001, penalty=l1, solver=lbfgs;, score=nan total time=   0.0s\n",
      "[CV 4/5] END ...C=0.001, penalty=l1, solver=lbfgs;, score=nan total time=   0.0s\n",
      "[CV 5/5] END ...C=0.001, penalty=l1, solver=lbfgs;, score=nan total time=   0.0s\n",
      "[CV 1/5] END C=0.001, penalty=l1, solver=liblinear;, score=0.873 total time=   0.0s\n",
      "[CV 2/5] END C=0.001, penalty=l1, solver=liblinear;, score=0.796 total time=   0.0s\n",
      "[CV 3/5] END C=0.001, penalty=l1, solver=liblinear;, score=0.771 total time=   0.0s\n",
      "[CV 4/5] END C=0.001, penalty=l1, solver=liblinear;, score=0.904 total time=   0.0s\n",
      "[CV 5/5] END C=0.001, penalty=l1, solver=liblinear;, score=0.853 total time=   0.0s\n",
      "[CV 1/5] END C=0.001, penalty=l1, solver=newton-cg;, score=nan total time=   0.0s\n",
      "[CV 2/5] END C=0.001, penalty=l1, solver=newton-cg;, score=nan total time=   0.0s\n",
      "[CV 3/5] END C=0.001, penalty=l1, solver=newton-cg;, score=nan total time=   0.0s\n",
      "[CV 4/5] END C=0.001, penalty=l1, solver=newton-cg;, score=nan total time=   0.0s\n",
      "[CV 5/5] END C=0.001, penalty=l1, solver=newton-cg;, score=nan total time=   0.0s\n",
      "[CV 1/5] END C=0.001, penalty=l1, solver=newton-cholesky;, score=nan total time=   0.0s\n",
      "[CV 2/5] END C=0.001, penalty=l1, solver=newton-cholesky;, score=nan total time=   0.0s\n",
      "[CV 3/5] END C=0.001, penalty=l1, solver=newton-cholesky;, score=nan total time=   0.0s\n",
      "[CV 4/5] END C=0.001, penalty=l1, solver=newton-cholesky;, score=nan total time=   0.0s\n",
      "[CV 5/5] END C=0.001, penalty=l1, solver=newton-cholesky;, score=nan total time=   0.0s\n",
      "[CV 1/5] END .....C=0.001, penalty=l1, solver=sag;, score=nan total time=   0.0s\n",
      "[CV 2/5] END .....C=0.001, penalty=l1, solver=sag;, score=nan total time=   0.0s\n",
      "[CV 3/5] END .....C=0.001, penalty=l1, solver=sag;, score=nan total time=   0.0s\n",
      "[CV 4/5] END .....C=0.001, penalty=l1, solver=sag;, score=nan total time=   0.0s\n",
      "[CV 5/5] END .....C=0.001, penalty=l1, solver=sag;, score=nan total time=   0.0s\n",
      "[CV 1/5] END ..C=0.001, penalty=l1, solver=saga;, score=0.873 total time=   0.0s\n",
      "[CV 2/5] END ..C=0.001, penalty=l1, solver=saga;, score=0.796 total time=   0.0s\n",
      "[CV 3/5] END ..C=0.001, penalty=l1, solver=saga;, score=0.771 total time=   0.0s\n",
      "[CV 4/5] END ..C=0.001, penalty=l1, solver=saga;, score=0.904 total time=   0.0s\n",
      "[CV 5/5] END ..C=0.001, penalty=l1, solver=saga;, score=0.859 total time=   0.0s\n",
      "[CV 1/5] END .C=0.001, penalty=l2, solver=lbfgs;, score=0.847 total time=   0.0s\n",
      "[CV 2/5] END .C=0.001, penalty=l2, solver=lbfgs;, score=0.796 total time=   0.0s\n",
      "[CV 3/5] END .C=0.001, penalty=l2, solver=lbfgs;, score=0.752 total time=   0.0s\n",
      "[CV 4/5] END .C=0.001, penalty=l2, solver=lbfgs;, score=0.866 total time=   0.0s\n",
      "[CV 5/5] END .C=0.001, penalty=l2, solver=lbfgs;, score=0.859 total time=   0.0s\n",
      "[CV 1/5] END C=0.001, penalty=l2, solver=liblinear;, score=0.873 total time=   0.0s\n",
      "[CV 2/5] END C=0.001, penalty=l2, solver=liblinear;, score=0.796 total time=   0.0s\n",
      "[CV 3/5] END C=0.001, penalty=l2, solver=liblinear;, score=0.764 total time=   0.0s\n",
      "[CV 4/5] END C=0.001, penalty=l2, solver=liblinear;, score=0.898 total time=   0.0s\n",
      "[CV 5/5] END C=0.001, penalty=l2, solver=liblinear;, score=0.853 total time=   0.0s\n",
      "[CV 1/5] END C=0.001, penalty=l2, solver=newton-cg;, score=0.847 total time=   0.0s\n",
      "[CV 2/5] END C=0.001, penalty=l2, solver=newton-cg;, score=0.796 total time=   0.0s\n",
      "[CV 3/5] END C=0.001, penalty=l2, solver=newton-cg;, score=0.752 total time=   0.0s\n",
      "[CV 4/5] END C=0.001, penalty=l2, solver=newton-cg;, score=0.866 total time=   0.0s\n",
      "[CV 5/5] END C=0.001, penalty=l2, solver=newton-cg;, score=0.859 total time=   0.0s\n",
      "[CV 1/5] END C=0.001, penalty=l2, solver=newton-cholesky;, score=0.847 total time=   0.0s\n",
      "[CV 2/5] END C=0.001, penalty=l2, solver=newton-cholesky;, score=0.796 total time=   0.0s\n",
      "[CV 3/5] END C=0.001, penalty=l2, solver=newton-cholesky;, score=0.752 total time=   0.0s\n",
      "[CV 4/5] END C=0.001, penalty=l2, solver=newton-cholesky;, score=0.866 total time=   0.0s\n",
      "[CV 5/5] END C=0.001, penalty=l2, solver=newton-cholesky;, score=0.859 total time=   0.0s\n",
      "[CV 1/5] END ...C=0.001, penalty=l2, solver=sag;, score=0.873 total time=   0.0s\n",
      "[CV 2/5] END ...C=0.001, penalty=l2, solver=sag;, score=0.796 total time=   0.0s\n",
      "[CV 3/5] END ...C=0.001, penalty=l2, solver=sag;, score=0.771 total time=   0.0s\n",
      "[CV 4/5] END ...C=0.001, penalty=l2, solver=sag;, score=0.904 total time=   0.0s\n",
      "[CV 5/5] END ...C=0.001, penalty=l2, solver=sag;, score=0.859 total time=   0.0s\n",
      "[CV 1/5] END ..C=0.001, penalty=l2, solver=saga;, score=0.873 total time=   0.0s\n",
      "[CV 2/5] END ..C=0.001, penalty=l2, solver=saga;, score=0.796 total time=   0.0s\n",
      "[CV 3/5] END ..C=0.001, penalty=l2, solver=saga;, score=0.771 total time=   0.0s\n",
      "[CV 4/5] END ..C=0.001, penalty=l2, solver=saga;, score=0.904 total time=   0.0s\n",
      "[CV 5/5] END ..C=0.001, penalty=l2, solver=saga;, score=0.859 total time=   0.0s\n",
      "[CV 1/5] END C=0.001, penalty=elasticnet, solver=lbfgs;, score=nan total time=   0.0s\n",
      "[CV 2/5] END C=0.001, penalty=elasticnet, solver=lbfgs;, score=nan total time=   0.0s\n",
      "[CV 3/5] END C=0.001, penalty=elasticnet, solver=lbfgs;, score=nan total time=   0.0s\n",
      "[CV 4/5] END C=0.001, penalty=elasticnet, solver=lbfgs;, score=nan total time=   0.0s\n",
      "[CV 5/5] END C=0.001, penalty=elasticnet, solver=lbfgs;, score=nan total time=   0.0s\n",
      "[CV 1/5] END C=0.001, penalty=elasticnet, solver=liblinear;, score=nan total time=   0.0s\n",
      "[CV 2/5] END C=0.001, penalty=elasticnet, solver=liblinear;, score=nan total time=   0.0s\n",
      "[CV 3/5] END C=0.001, penalty=elasticnet, solver=liblinear;, score=nan total time=   0.0s\n",
      "[CV 4/5] END C=0.001, penalty=elasticnet, solver=liblinear;, score=nan total time=   0.0s\n",
      "[CV 5/5] END C=0.001, penalty=elasticnet, solver=liblinear;, score=nan total time=   0.0s\n",
      "[CV 1/5] END C=0.001, penalty=elasticnet, solver=newton-cg;, score=nan total time=   0.0s\n",
      "[CV 2/5] END C=0.001, penalty=elasticnet, solver=newton-cg;, score=nan total time=   0.0s\n",
      "[CV 3/5] END C=0.001, penalty=elasticnet, solver=newton-cg;, score=nan total time=   0.0s\n",
      "[CV 4/5] END C=0.001, penalty=elasticnet, solver=newton-cg;, score=nan total time=   0.0s\n",
      "[CV 5/5] END C=0.001, penalty=elasticnet, solver=newton-cg;, score=nan total time=   0.0s\n",
      "[CV 1/5] END C=0.001, penalty=elasticnet, solver=newton-cholesky;, score=nan total time=   0.0s\n",
      "[CV 2/5] END C=0.001, penalty=elasticnet, solver=newton-cholesky;, score=nan total time=   0.0s\n",
      "[CV 3/5] END C=0.001, penalty=elasticnet, solver=newton-cholesky;, score=nan total time=   0.0s\n",
      "[CV 4/5] END C=0.001, penalty=elasticnet, solver=newton-cholesky;, score=nan total time=   0.0s\n",
      "[CV 5/5] END C=0.001, penalty=elasticnet, solver=newton-cholesky;, score=nan total time=   0.0s\n",
      "[CV 1/5] END C=0.001, penalty=elasticnet, solver=sag;, score=nan total time=   0.0s\n",
      "[CV 2/5] END C=0.001, penalty=elasticnet, solver=sag;, score=nan total time=   0.0s\n",
      "[CV 3/5] END C=0.001, penalty=elasticnet, solver=sag;, score=nan total time=   0.0s\n",
      "[CV 4/5] END C=0.001, penalty=elasticnet, solver=sag;, score=nan total time=   0.0s\n",
      "[CV 5/5] END C=0.001, penalty=elasticnet, solver=sag;, score=nan total time=   0.0s\n",
      "[CV 1/5] END C=0.001, penalty=elasticnet, solver=saga;, score=nan total time=   0.0s\n",
      "[CV 2/5] END C=0.001, penalty=elasticnet, solver=saga;, score=nan total time=   0.0s\n",
      "[CV 3/5] END C=0.001, penalty=elasticnet, solver=saga;, score=nan total time=   0.0s\n",
      "[CV 4/5] END C=0.001, penalty=elasticnet, solver=saga;, score=nan total time=   0.0s\n",
      "[CV 5/5] END C=0.001, penalty=elasticnet, solver=saga;, score=nan total time=   0.0s\n",
      "[CV 1/5] END C=0.001, penalty=None, solver=lbfgs;, score=0.917 total time=   0.0s\n",
      "[CV 2/5] END C=0.001, penalty=None, solver=lbfgs;, score=0.860 total time=   0.0s\n",
      "[CV 3/5] END C=0.001, penalty=None, solver=lbfgs;, score=0.828 total time=   0.0s\n",
      "[CV 4/5] END C=0.001, penalty=None, solver=lbfgs;, score=0.943 total time=   0.0s\n",
      "[CV 5/5] END C=0.001, penalty=None, solver=lbfgs;, score=0.917 total time=   0.0s\n",
      "[CV 1/5] END C=0.001, penalty=None, solver=liblinear;, score=nan total time=   0.0s\n",
      "[CV 2/5] END C=0.001, penalty=None, solver=liblinear;, score=nan total time=   0.0s\n",
      "[CV 3/5] END C=0.001, penalty=None, solver=liblinear;, score=nan total time=   0.0s\n",
      "[CV 4/5] END C=0.001, penalty=None, solver=liblinear;, score=nan total time=   0.0s\n",
      "[CV 5/5] END C=0.001, penalty=None, solver=liblinear;, score=nan total time=   0.0s\n",
      "[CV 1/5] END C=0.001, penalty=None, solver=newton-cg;, score=0.917 total time=   0.0s\n",
      "[CV 2/5] END C=0.001, penalty=None, solver=newton-cg;, score=0.873 total time=   0.0s\n",
      "[CV 3/5] END C=0.001, penalty=None, solver=newton-cg;, score=0.847 total time=   0.0s\n",
      "[CV 4/5] END C=0.001, penalty=None, solver=newton-cg;, score=0.943 total time=   0.0s\n",
      "[CV 5/5] END C=0.001, penalty=None, solver=newton-cg;, score=0.936 total time=   0.0s\n",
      "[CV 1/5] END C=0.001, penalty=None, solver=newton-cholesky;, score=0.917 total time=   0.0s\n",
      "[CV 2/5] END C=0.001, penalty=None, solver=newton-cholesky;, score=0.873 total time=   0.0s\n",
      "[CV 3/5] END C=0.001, penalty=None, solver=newton-cholesky;, score=0.847 total time=   0.0s\n",
      "[CV 4/5] END C=0.001, penalty=None, solver=newton-cholesky;, score=0.943 total time=   0.0s\n",
      "[CV 5/5] END C=0.001, penalty=None, solver=newton-cholesky;, score=0.936 total time=   0.0s\n",
      "[CV 1/5] END .C=0.001, penalty=None, solver=sag;, score=0.873 total time=   0.0s\n",
      "[CV 2/5] END .C=0.001, penalty=None, solver=sag;, score=0.796 total time=   0.0s\n",
      "[CV 3/5] END .C=0.001, penalty=None, solver=sag;, score=0.771 total time=   0.0s\n",
      "[CV 4/5] END .C=0.001, penalty=None, solver=sag;, score=0.904 total time=   0.0s\n",
      "[CV 5/5] END .C=0.001, penalty=None, solver=sag;, score=0.859 total time=   0.0s\n",
      "[CV 1/5] END C=0.001, penalty=None, solver=saga;, score=0.873 total time=   0.0s\n",
      "[CV 2/5] END C=0.001, penalty=None, solver=saga;, score=0.796 total time=   0.0s\n",
      "[CV 3/5] END C=0.001, penalty=None, solver=saga;, score=0.771 total time=   0.0s\n",
      "[CV 4/5] END C=0.001, penalty=None, solver=saga;, score=0.904 total time=   0.0s\n",
      "[CV 5/5] END C=0.001, penalty=None, solver=saga;, score=0.859 total time=   0.0s\n",
      "[CV 1/5] END ....C=0.01, penalty=l1, solver=lbfgs;, score=nan total time=   0.0s\n",
      "[CV 2/5] END ....C=0.01, penalty=l1, solver=lbfgs;, score=nan total time=   0.0s\n",
      "[CV 3/5] END ....C=0.01, penalty=l1, solver=lbfgs;, score=nan total time=   0.0s\n",
      "[CV 4/5] END ....C=0.01, penalty=l1, solver=lbfgs;, score=nan total time=   0.0s\n",
      "[CV 5/5] END ....C=0.01, penalty=l1, solver=lbfgs;, score=nan total time=   0.0s\n",
      "[CV 1/5] END C=0.01, penalty=l1, solver=liblinear;, score=0.866 total time=   0.0s\n",
      "[CV 2/5] END C=0.01, penalty=l1, solver=liblinear;, score=0.803 total time=   0.0s\n",
      "[CV 3/5] END C=0.01, penalty=l1, solver=liblinear;, score=0.764 total time=   0.0s\n",
      "[CV 4/5] END C=0.01, penalty=l1, solver=liblinear;, score=0.892 total time=   0.0s\n",
      "[CV 5/5] END C=0.01, penalty=l1, solver=liblinear;, score=0.853 total time=   0.0s\n",
      "[CV 1/5] END C=0.01, penalty=l1, solver=newton-cg;, score=nan total time=   0.0s\n",
      "[CV 2/5] END C=0.01, penalty=l1, solver=newton-cg;, score=nan total time=   0.0s\n",
      "[CV 3/5] END C=0.01, penalty=l1, solver=newton-cg;, score=nan total time=   0.0s\n",
      "[CV 4/5] END C=0.01, penalty=l1, solver=newton-cg;, score=nan total time=   0.0s\n",
      "[CV 5/5] END C=0.01, penalty=l1, solver=newton-cg;, score=nan total time=   0.0s\n",
      "[CV 1/5] END C=0.01, penalty=l1, solver=newton-cholesky;, score=nan total time=   0.0s\n",
      "[CV 2/5] END C=0.01, penalty=l1, solver=newton-cholesky;, score=nan total time=   0.0s\n",
      "[CV 3/5] END C=0.01, penalty=l1, solver=newton-cholesky;, score=nan total time=   0.0s\n",
      "[CV 4/5] END C=0.01, penalty=l1, solver=newton-cholesky;, score=nan total time=   0.0s\n",
      "[CV 5/5] END C=0.01, penalty=l1, solver=newton-cholesky;, score=nan total time=   0.0s\n",
      "[CV 1/5] END ......C=0.01, penalty=l1, solver=sag;, score=nan total time=   0.0s\n",
      "[CV 2/5] END ......C=0.01, penalty=l1, solver=sag;, score=nan total time=   0.0s\n",
      "[CV 3/5] END ......C=0.01, penalty=l1, solver=sag;, score=nan total time=   0.0s\n",
      "[CV 4/5] END ......C=0.01, penalty=l1, solver=sag;, score=nan total time=   0.0s\n",
      "[CV 5/5] END ......C=0.01, penalty=l1, solver=sag;, score=nan total time=   0.0s\n",
      "[CV 1/5] END ...C=0.01, penalty=l1, solver=saga;, score=0.873 total time=   0.0s\n",
      "[CV 2/5] END ...C=0.01, penalty=l1, solver=saga;, score=0.796 total time=   0.0s\n",
      "[CV 3/5] END ...C=0.01, penalty=l1, solver=saga;, score=0.771 total time=   0.0s\n",
      "[CV 4/5] END ...C=0.01, penalty=l1, solver=saga;, score=0.904 total time=   0.0s\n",
      "[CV 5/5] END ...C=0.01, penalty=l1, solver=saga;, score=0.859 total time=   0.0s\n",
      "[CV 1/5] END ..C=0.01, penalty=l2, solver=lbfgs;, score=0.847 total time=   0.0s\n",
      "[CV 2/5] END ..C=0.01, penalty=l2, solver=lbfgs;, score=0.796 total time=   0.0s\n",
      "[CV 3/5] END ..C=0.01, penalty=l2, solver=lbfgs;, score=0.752 total time=   0.0s\n",
      "[CV 4/5] END ..C=0.01, penalty=l2, solver=lbfgs;, score=0.866 total time=   0.0s\n",
      "[CV 5/5] END ..C=0.01, penalty=l2, solver=lbfgs;, score=0.859 total time=   0.0s\n",
      "[CV 1/5] END C=0.01, penalty=l2, solver=liblinear;, score=0.866 total time=   0.0s\n",
      "[CV 2/5] END C=0.01, penalty=l2, solver=liblinear;, score=0.809 total time=   0.0s\n",
      "[CV 3/5] END C=0.01, penalty=l2, solver=liblinear;, score=0.771 total time=   0.0s\n",
      "[CV 4/5] END C=0.01, penalty=l2, solver=liblinear;, score=0.904 total time=   0.0s\n",
      "[CV 5/5] END C=0.01, penalty=l2, solver=liblinear;, score=0.853 total time=   0.0s\n",
      "[CV 1/5] END C=0.01, penalty=l2, solver=newton-cg;, score=0.847 total time=   0.0s\n",
      "[CV 2/5] END C=0.01, penalty=l2, solver=newton-cg;, score=0.796 total time=   0.0s\n",
      "[CV 3/5] END C=0.01, penalty=l2, solver=newton-cg;, score=0.752 total time=   0.0s\n",
      "[CV 4/5] END C=0.01, penalty=l2, solver=newton-cg;, score=0.866 total time=   0.0s\n",
      "[CV 5/5] END C=0.01, penalty=l2, solver=newton-cg;, score=0.859 total time=   0.0s\n",
      "[CV 1/5] END C=0.01, penalty=l2, solver=newton-cholesky;, score=0.847 total time=   0.0s\n",
      "[CV 2/5] END C=0.01, penalty=l2, solver=newton-cholesky;, score=0.796 total time=   0.0s\n",
      "[CV 3/5] END C=0.01, penalty=l2, solver=newton-cholesky;, score=0.752 total time=   0.0s\n",
      "[CV 4/5] END C=0.01, penalty=l2, solver=newton-cholesky;, score=0.866 total time=   0.0s\n",
      "[CV 5/5] END C=0.01, penalty=l2, solver=newton-cholesky;, score=0.859 total time=   0.0s\n",
      "[CV 1/5] END ....C=0.01, penalty=l2, solver=sag;, score=0.873 total time=   0.0s\n",
      "[CV 2/5] END ....C=0.01, penalty=l2, solver=sag;, score=0.796 total time=   0.0s\n",
      "[CV 3/5] END ....C=0.01, penalty=l2, solver=sag;, score=0.771 total time=   0.0s\n",
      "[CV 4/5] END ....C=0.01, penalty=l2, solver=sag;, score=0.904 total time=   0.0s\n",
      "[CV 5/5] END ....C=0.01, penalty=l2, solver=sag;, score=0.859 total time=   0.0s\n",
      "[CV 1/5] END ...C=0.01, penalty=l2, solver=saga;, score=0.873 total time=   0.0s\n",
      "[CV 2/5] END ...C=0.01, penalty=l2, solver=saga;, score=0.796 total time=   0.0s\n",
      "[CV 3/5] END ...C=0.01, penalty=l2, solver=saga;, score=0.771 total time=   0.0s\n",
      "[CV 4/5] END ...C=0.01, penalty=l2, solver=saga;, score=0.904 total time=   0.0s\n",
      "[CV 5/5] END ...C=0.01, penalty=l2, solver=saga;, score=0.859 total time=   0.0s\n",
      "[CV 1/5] END C=0.01, penalty=elasticnet, solver=lbfgs;, score=nan total time=   0.0s\n",
      "[CV 2/5] END C=0.01, penalty=elasticnet, solver=lbfgs;, score=nan total time=   0.0s\n",
      "[CV 3/5] END C=0.01, penalty=elasticnet, solver=lbfgs;, score=nan total time=   0.0s\n",
      "[CV 4/5] END C=0.01, penalty=elasticnet, solver=lbfgs;, score=nan total time=   0.0s\n",
      "[CV 5/5] END C=0.01, penalty=elasticnet, solver=lbfgs;, score=nan total time=   0.0s\n",
      "[CV 1/5] END C=0.01, penalty=elasticnet, solver=liblinear;, score=nan total time=   0.0s\n",
      "[CV 2/5] END C=0.01, penalty=elasticnet, solver=liblinear;, score=nan total time=   0.0s\n",
      "[CV 3/5] END C=0.01, penalty=elasticnet, solver=liblinear;, score=nan total time=   0.0s\n",
      "[CV 4/5] END C=0.01, penalty=elasticnet, solver=liblinear;, score=nan total time=   0.0s\n",
      "[CV 5/5] END C=0.01, penalty=elasticnet, solver=liblinear;, score=nan total time=   0.0s\n",
      "[CV 1/5] END C=0.01, penalty=elasticnet, solver=newton-cg;, score=nan total time=   0.0s\n",
      "[CV 2/5] END C=0.01, penalty=elasticnet, solver=newton-cg;, score=nan total time=   0.0s\n",
      "[CV 3/5] END C=0.01, penalty=elasticnet, solver=newton-cg;, score=nan total time=   0.0s\n",
      "[CV 4/5] END C=0.01, penalty=elasticnet, solver=newton-cg;, score=nan total time=   0.0s\n",
      "[CV 5/5] END C=0.01, penalty=elasticnet, solver=newton-cg;, score=nan total time=   0.0s\n",
      "[CV 1/5] END C=0.01, penalty=elasticnet, solver=newton-cholesky;, score=nan total time=   0.0s\n",
      "[CV 2/5] END C=0.01, penalty=elasticnet, solver=newton-cholesky;, score=nan total time=   0.0s\n",
      "[CV 3/5] END C=0.01, penalty=elasticnet, solver=newton-cholesky;, score=nan total time=   0.0s\n",
      "[CV 4/5] END C=0.01, penalty=elasticnet, solver=newton-cholesky;, score=nan total time=   0.0s\n",
      "[CV 5/5] END C=0.01, penalty=elasticnet, solver=newton-cholesky;, score=nan total time=   0.0s\n",
      "[CV 1/5] END C=0.01, penalty=elasticnet, solver=sag;, score=nan total time=   0.0s\n",
      "[CV 2/5] END C=0.01, penalty=elasticnet, solver=sag;, score=nan total time=   0.0s\n",
      "[CV 3/5] END C=0.01, penalty=elasticnet, solver=sag;, score=nan total time=   0.0s\n",
      "[CV 4/5] END C=0.01, penalty=elasticnet, solver=sag;, score=nan total time=   0.0s\n",
      "[CV 5/5] END C=0.01, penalty=elasticnet, solver=sag;, score=nan total time=   0.0s\n",
      "[CV 1/5] END C=0.01, penalty=elasticnet, solver=saga;, score=nan total time=   0.0s\n",
      "[CV 2/5] END C=0.01, penalty=elasticnet, solver=saga;, score=nan total time=   0.0s\n",
      "[CV 3/5] END C=0.01, penalty=elasticnet, solver=saga;, score=nan total time=   0.0s\n",
      "[CV 4/5] END C=0.01, penalty=elasticnet, solver=saga;, score=nan total time=   0.0s\n",
      "[CV 5/5] END C=0.01, penalty=elasticnet, solver=saga;, score=nan total time=   0.0s\n",
      "[CV 1/5] END C=0.01, penalty=None, solver=lbfgs;, score=0.917 total time=   0.0s\n",
      "[CV 2/5] END C=0.01, penalty=None, solver=lbfgs;, score=0.860 total time=   0.0s\n",
      "[CV 3/5] END C=0.01, penalty=None, solver=lbfgs;, score=0.828 total time=   0.0s\n",
      "[CV 4/5] END C=0.01, penalty=None, solver=lbfgs;, score=0.943 total time=   0.0s\n",
      "[CV 5/5] END C=0.01, penalty=None, solver=lbfgs;, score=0.917 total time=   0.0s\n",
      "[CV 1/5] END C=0.01, penalty=None, solver=liblinear;, score=nan total time=   0.0s\n",
      "[CV 2/5] END C=0.01, penalty=None, solver=liblinear;, score=nan total time=   0.0s\n",
      "[CV 3/5] END C=0.01, penalty=None, solver=liblinear;, score=nan total time=   0.0s\n",
      "[CV 4/5] END C=0.01, penalty=None, solver=liblinear;, score=nan total time=   0.0s\n",
      "[CV 5/5] END C=0.01, penalty=None, solver=liblinear;, score=nan total time=   0.0s\n",
      "[CV 1/5] END C=0.01, penalty=None, solver=newton-cg;, score=0.917 total time=   0.0s\n",
      "[CV 2/5] END C=0.01, penalty=None, solver=newton-cg;, score=0.873 total time=   0.0s\n",
      "[CV 3/5] END C=0.01, penalty=None, solver=newton-cg;, score=0.847 total time=   0.0s\n",
      "[CV 4/5] END C=0.01, penalty=None, solver=newton-cg;, score=0.943 total time=   0.0s\n",
      "[CV 5/5] END C=0.01, penalty=None, solver=newton-cg;, score=0.936 total time=   0.0s\n",
      "[CV 1/5] END C=0.01, penalty=None, solver=newton-cholesky;, score=0.917 total time=   0.0s\n",
      "[CV 2/5] END C=0.01, penalty=None, solver=newton-cholesky;, score=0.873 total time=   0.0s\n",
      "[CV 3/5] END C=0.01, penalty=None, solver=newton-cholesky;, score=0.847 total time=   0.0s\n",
      "[CV 4/5] END C=0.01, penalty=None, solver=newton-cholesky;, score=0.943 total time=   0.0s\n",
      "[CV 5/5] END C=0.01, penalty=None, solver=newton-cholesky;, score=0.936 total time=   0.0s\n",
      "[CV 1/5] END ..C=0.01, penalty=None, solver=sag;, score=0.873 total time=   0.0s\n",
      "[CV 2/5] END ..C=0.01, penalty=None, solver=sag;, score=0.796 total time=   0.0s\n",
      "[CV 3/5] END ..C=0.01, penalty=None, solver=sag;, score=0.771 total time=   0.0s\n",
      "[CV 4/5] END ..C=0.01, penalty=None, solver=sag;, score=0.904 total time=   0.0s\n",
      "[CV 5/5] END ..C=0.01, penalty=None, solver=sag;, score=0.859 total time=   0.0s\n",
      "[CV 1/5] END .C=0.01, penalty=None, solver=saga;, score=0.873 total time=   0.0s\n",
      "[CV 2/5] END .C=0.01, penalty=None, solver=saga;, score=0.796 total time=   0.0s\n",
      "[CV 3/5] END .C=0.01, penalty=None, solver=saga;, score=0.771 total time=   0.0s\n",
      "[CV 4/5] END .C=0.01, penalty=None, solver=saga;, score=0.904 total time=   0.0s\n",
      "[CV 5/5] END .C=0.01, penalty=None, solver=saga;, score=0.859 total time=   0.0s\n",
      "[CV 1/5] END .....C=0.1, penalty=l1, solver=lbfgs;, score=nan total time=   0.0s\n",
      "[CV 2/5] END .....C=0.1, penalty=l1, solver=lbfgs;, score=nan total time=   0.0s\n",
      "[CV 3/5] END .....C=0.1, penalty=l1, solver=lbfgs;, score=nan total time=   0.0s\n",
      "[CV 4/5] END .....C=0.1, penalty=l1, solver=lbfgs;, score=nan total time=   0.0s\n",
      "[CV 5/5] END .....C=0.1, penalty=l1, solver=lbfgs;, score=nan total time=   0.0s\n",
      "[CV 1/5] END C=0.1, penalty=l1, solver=liblinear;, score=0.911 total time=   0.0s\n",
      "[CV 2/5] END C=0.1, penalty=l1, solver=liblinear;, score=0.873 total time=   0.0s\n",
      "[CV 3/5] END C=0.1, penalty=l1, solver=liblinear;, score=0.854 total time=   0.0s\n",
      "[CV 4/5] END C=0.1, penalty=l1, solver=liblinear;, score=0.943 total time=   0.0s\n",
      "[CV 5/5] END C=0.1, penalty=l1, solver=liblinear;, score=0.936 total time=   0.0s\n",
      "[CV 1/5] END .C=0.1, penalty=l1, solver=newton-cg;, score=nan total time=   0.0s\n",
      "[CV 2/5] END .C=0.1, penalty=l1, solver=newton-cg;, score=nan total time=   0.0s\n",
      "[CV 3/5] END .C=0.1, penalty=l1, solver=newton-cg;, score=nan total time=   0.0s\n",
      "[CV 4/5] END .C=0.1, penalty=l1, solver=newton-cg;, score=nan total time=   0.0s\n",
      "[CV 5/5] END .C=0.1, penalty=l1, solver=newton-cg;, score=nan total time=   0.0s\n",
      "[CV 1/5] END C=0.1, penalty=l1, solver=newton-cholesky;, score=nan total time=   0.0s\n",
      "[CV 2/5] END C=0.1, penalty=l1, solver=newton-cholesky;, score=nan total time=   0.0s\n",
      "[CV 3/5] END C=0.1, penalty=l1, solver=newton-cholesky;, score=nan total time=   0.0s\n",
      "[CV 4/5] END C=0.1, penalty=l1, solver=newton-cholesky;, score=nan total time=   0.0s\n",
      "[CV 5/5] END C=0.1, penalty=l1, solver=newton-cholesky;, score=nan total time=   0.0s\n",
      "[CV 1/5] END .......C=0.1, penalty=l1, solver=sag;, score=nan total time=   0.0s\n",
      "[CV 2/5] END .......C=0.1, penalty=l1, solver=sag;, score=nan total time=   0.0s\n",
      "[CV 3/5] END .......C=0.1, penalty=l1, solver=sag;, score=nan total time=   0.0s\n",
      "[CV 4/5] END .......C=0.1, penalty=l1, solver=sag;, score=nan total time=   0.0s\n",
      "[CV 5/5] END .......C=0.1, penalty=l1, solver=sag;, score=nan total time=   0.0s\n",
      "[CV 1/5] END ....C=0.1, penalty=l1, solver=saga;, score=0.873 total time=   0.0s\n",
      "[CV 2/5] END ....C=0.1, penalty=l1, solver=saga;, score=0.796 total time=   0.0s\n",
      "[CV 3/5] END ....C=0.1, penalty=l1, solver=saga;, score=0.771 total time=   0.0s\n",
      "[CV 4/5] END ....C=0.1, penalty=l1, solver=saga;, score=0.904 total time=   0.0s\n",
      "[CV 5/5] END ....C=0.1, penalty=l1, solver=saga;, score=0.859 total time=   0.0s\n",
      "[CV 1/5] END ...C=0.1, penalty=l2, solver=lbfgs;, score=0.917 total time=   0.0s\n",
      "[CV 2/5] END ...C=0.1, penalty=l2, solver=lbfgs;, score=0.873 total time=   0.0s\n",
      "[CV 3/5] END ...C=0.1, penalty=l2, solver=lbfgs;, score=0.841 total time=   0.0s\n",
      "[CV 4/5] END ...C=0.1, penalty=l2, solver=lbfgs;, score=0.943 total time=   0.0s\n",
      "[CV 5/5] END ...C=0.1, penalty=l2, solver=lbfgs;, score=0.936 total time=   0.0s\n",
      "[CV 1/5] END C=0.1, penalty=l2, solver=liblinear;, score=0.911 total time=   0.0s\n",
      "[CV 2/5] END C=0.1, penalty=l2, solver=liblinear;, score=0.860 total time=   0.0s\n",
      "[CV 3/5] END C=0.1, penalty=l2, solver=liblinear;, score=0.822 total time=   0.0s\n",
      "[CV 4/5] END C=0.1, penalty=l2, solver=liblinear;, score=0.943 total time=   0.0s\n",
      "[CV 5/5] END C=0.1, penalty=l2, solver=liblinear;, score=0.942 total time=   0.0s\n",
      "[CV 1/5] END C=0.1, penalty=l2, solver=newton-cg;, score=0.917 total time=   0.0s\n",
      "[CV 2/5] END C=0.1, penalty=l2, solver=newton-cg;, score=0.854 total time=   0.0s\n",
      "[CV 3/5] END C=0.1, penalty=l2, solver=newton-cg;, score=0.847 total time=   0.0s\n",
      "[CV 4/5] END C=0.1, penalty=l2, solver=newton-cg;, score=0.924 total time=   0.0s\n",
      "[CV 5/5] END C=0.1, penalty=l2, solver=newton-cg;, score=0.917 total time=   0.0s\n",
      "[CV 1/5] END C=0.1, penalty=l2, solver=newton-cholesky;, score=0.917 total time=   0.0s\n",
      "[CV 2/5] END C=0.1, penalty=l2, solver=newton-cholesky;, score=0.854 total time=   0.0s\n",
      "[CV 3/5] END C=0.1, penalty=l2, solver=newton-cholesky;, score=0.847 total time=   0.0s\n",
      "[CV 4/5] END C=0.1, penalty=l2, solver=newton-cholesky;, score=0.924 total time=   0.0s\n",
      "[CV 5/5] END C=0.1, penalty=l2, solver=newton-cholesky;, score=0.917 total time=   0.0s\n",
      "[CV 1/5] END .....C=0.1, penalty=l2, solver=sag;, score=0.873 total time=   0.0s\n",
      "[CV 2/5] END .....C=0.1, penalty=l2, solver=sag;, score=0.796 total time=   0.0s\n",
      "[CV 3/5] END .....C=0.1, penalty=l2, solver=sag;, score=0.771 total time=   0.0s\n",
      "[CV 4/5] END .....C=0.1, penalty=l2, solver=sag;, score=0.904 total time=   0.0s\n",
      "[CV 5/5] END .....C=0.1, penalty=l2, solver=sag;, score=0.859 total time=   0.0s\n",
      "[CV 1/5] END ....C=0.1, penalty=l2, solver=saga;, score=0.873 total time=   0.0s\n",
      "[CV 2/5] END ....C=0.1, penalty=l2, solver=saga;, score=0.796 total time=   0.0s\n",
      "[CV 3/5] END ....C=0.1, penalty=l2, solver=saga;, score=0.771 total time=   0.0s\n",
      "[CV 4/5] END ....C=0.1, penalty=l2, solver=saga;, score=0.904 total time=   0.0s\n",
      "[CV 5/5] END ....C=0.1, penalty=l2, solver=saga;, score=0.859 total time=   0.0s\n",
      "[CV 1/5] END C=0.1, penalty=elasticnet, solver=lbfgs;, score=nan total time=   0.0s\n",
      "[CV 2/5] END C=0.1, penalty=elasticnet, solver=lbfgs;, score=nan total time=   0.0s\n",
      "[CV 3/5] END C=0.1, penalty=elasticnet, solver=lbfgs;, score=nan total time=   0.0s\n",
      "[CV 4/5] END C=0.1, penalty=elasticnet, solver=lbfgs;, score=nan total time=   0.0s\n",
      "[CV 5/5] END C=0.1, penalty=elasticnet, solver=lbfgs;, score=nan total time=   0.0s\n",
      "[CV 1/5] END C=0.1, penalty=elasticnet, solver=liblinear;, score=nan total time=   0.0s\n",
      "[CV 2/5] END C=0.1, penalty=elasticnet, solver=liblinear;, score=nan total time=   0.0s\n",
      "[CV 3/5] END C=0.1, penalty=elasticnet, solver=liblinear;, score=nan total time=   0.0s\n",
      "[CV 4/5] END C=0.1, penalty=elasticnet, solver=liblinear;, score=nan total time=   0.0s\n",
      "[CV 5/5] END C=0.1, penalty=elasticnet, solver=liblinear;, score=nan total time=   0.0s\n",
      "[CV 1/5] END C=0.1, penalty=elasticnet, solver=newton-cg;, score=nan total time=   0.0s\n",
      "[CV 2/5] END C=0.1, penalty=elasticnet, solver=newton-cg;, score=nan total time=   0.0s\n",
      "[CV 3/5] END C=0.1, penalty=elasticnet, solver=newton-cg;, score=nan total time=   0.0s\n",
      "[CV 4/5] END C=0.1, penalty=elasticnet, solver=newton-cg;, score=nan total time=   0.0s\n",
      "[CV 5/5] END C=0.1, penalty=elasticnet, solver=newton-cg;, score=nan total time=   0.0s\n",
      "[CV 1/5] END C=0.1, penalty=elasticnet, solver=newton-cholesky;, score=nan total time=   0.0s\n",
      "[CV 2/5] END C=0.1, penalty=elasticnet, solver=newton-cholesky;, score=nan total time=   0.0s\n",
      "[CV 3/5] END C=0.1, penalty=elasticnet, solver=newton-cholesky;, score=nan total time=   0.0s\n",
      "[CV 4/5] END C=0.1, penalty=elasticnet, solver=newton-cholesky;, score=nan total time=   0.0s\n",
      "[CV 5/5] END C=0.1, penalty=elasticnet, solver=newton-cholesky;, score=nan total time=   0.0s\n",
      "[CV 1/5] END C=0.1, penalty=elasticnet, solver=sag;, score=nan total time=   0.0s\n",
      "[CV 2/5] END C=0.1, penalty=elasticnet, solver=sag;, score=nan total time=   0.0s\n",
      "[CV 3/5] END C=0.1, penalty=elasticnet, solver=sag;, score=nan total time=   0.0s\n",
      "[CV 4/5] END C=0.1, penalty=elasticnet, solver=sag;, score=nan total time=   0.0s\n",
      "[CV 5/5] END C=0.1, penalty=elasticnet, solver=sag;, score=nan total time=   0.0s\n",
      "[CV 1/5] END C=0.1, penalty=elasticnet, solver=saga;, score=nan total time=   0.0s\n",
      "[CV 2/5] END C=0.1, penalty=elasticnet, solver=saga;, score=nan total time=   0.0s\n",
      "[CV 3/5] END C=0.1, penalty=elasticnet, solver=saga;, score=nan total time=   0.0s\n",
      "[CV 4/5] END C=0.1, penalty=elasticnet, solver=saga;, score=nan total time=   0.0s\n",
      "[CV 5/5] END C=0.1, penalty=elasticnet, solver=saga;, score=nan total time=   0.0s\n",
      "[CV 1/5] END .C=0.1, penalty=None, solver=lbfgs;, score=0.917 total time=   0.0s\n",
      "[CV 2/5] END .C=0.1, penalty=None, solver=lbfgs;, score=0.860 total time=   0.0s\n",
      "[CV 3/5] END .C=0.1, penalty=None, solver=lbfgs;, score=0.828 total time=   0.0s\n",
      "[CV 4/5] END .C=0.1, penalty=None, solver=lbfgs;, score=0.943 total time=   0.0s\n",
      "[CV 5/5] END .C=0.1, penalty=None, solver=lbfgs;, score=0.917 total time=   0.0s\n",
      "[CV 1/5] END C=0.1, penalty=None, solver=liblinear;, score=nan total time=   0.0s\n",
      "[CV 2/5] END C=0.1, penalty=None, solver=liblinear;, score=nan total time=   0.0s\n",
      "[CV 3/5] END C=0.1, penalty=None, solver=liblinear;, score=nan total time=   0.0s\n",
      "[CV 4/5] END C=0.1, penalty=None, solver=liblinear;, score=nan total time=   0.0s\n",
      "[CV 5/5] END C=0.1, penalty=None, solver=liblinear;, score=nan total time=   0.0s\n",
      "[CV 1/5] END C=0.1, penalty=None, solver=newton-cg;, score=0.917 total time=   0.0s\n",
      "[CV 2/5] END C=0.1, penalty=None, solver=newton-cg;, score=0.873 total time=   0.0s\n",
      "[CV 3/5] END C=0.1, penalty=None, solver=newton-cg;, score=0.847 total time=   0.0s\n",
      "[CV 4/5] END C=0.1, penalty=None, solver=newton-cg;, score=0.943 total time=   0.0s\n",
      "[CV 5/5] END C=0.1, penalty=None, solver=newton-cg;, score=0.936 total time=   0.0s\n",
      "[CV 1/5] END C=0.1, penalty=None, solver=newton-cholesky;, score=0.917 total time=   0.0s\n",
      "[CV 2/5] END C=0.1, penalty=None, solver=newton-cholesky;, score=0.873 total time=   0.0s\n",
      "[CV 3/5] END C=0.1, penalty=None, solver=newton-cholesky;, score=0.847 total time=   0.0s\n",
      "[CV 4/5] END C=0.1, penalty=None, solver=newton-cholesky;, score=0.943 total time=   0.0s\n",
      "[CV 5/5] END C=0.1, penalty=None, solver=newton-cholesky;, score=0.936 total time=   0.0s\n",
      "[CV 1/5] END ...C=0.1, penalty=None, solver=sag;, score=0.873 total time=   0.0s\n",
      "[CV 2/5] END ...C=0.1, penalty=None, solver=sag;, score=0.796 total time=   0.0s\n",
      "[CV 3/5] END ...C=0.1, penalty=None, solver=sag;, score=0.771 total time=   0.0s\n",
      "[CV 4/5] END ...C=0.1, penalty=None, solver=sag;, score=0.904 total time=   0.0s\n",
      "[CV 5/5] END ...C=0.1, penalty=None, solver=sag;, score=0.859 total time=   0.0s\n",
      "[CV 1/5] END ..C=0.1, penalty=None, solver=saga;, score=0.873 total time=   0.0s\n",
      "[CV 2/5] END ..C=0.1, penalty=None, solver=saga;, score=0.796 total time=   0.0s\n",
      "[CV 3/5] END ..C=0.1, penalty=None, solver=saga;, score=0.771 total time=   0.0s\n",
      "[CV 4/5] END ..C=0.1, penalty=None, solver=saga;, score=0.904 total time=   0.0s\n",
      "[CV 5/5] END ..C=0.1, penalty=None, solver=saga;, score=0.859 total time=   0.0s\n",
      "[CV 1/5] END .....C=1.0, penalty=l1, solver=lbfgs;, score=nan total time=   0.0s\n",
      "[CV 2/5] END .....C=1.0, penalty=l1, solver=lbfgs;, score=nan total time=   0.0s\n",
      "[CV 3/5] END .....C=1.0, penalty=l1, solver=lbfgs;, score=nan total time=   0.0s\n",
      "[CV 4/5] END .....C=1.0, penalty=l1, solver=lbfgs;, score=nan total time=   0.0s\n",
      "[CV 5/5] END .....C=1.0, penalty=l1, solver=lbfgs;, score=nan total time=   0.0s\n",
      "[CV 1/5] END C=1.0, penalty=l1, solver=liblinear;, score=0.917 total time=   0.0s\n",
      "[CV 2/5] END C=1.0, penalty=l1, solver=liblinear;, score=0.866 total time=   0.0s\n",
      "[CV 3/5] END C=1.0, penalty=l1, solver=liblinear;, score=0.847 total time=   0.0s\n",
      "[CV 4/5] END C=1.0, penalty=l1, solver=liblinear;, score=0.943 total time=   0.0s\n",
      "[CV 5/5] END C=1.0, penalty=l1, solver=liblinear;, score=0.942 total time=   0.0s\n",
      "[CV 1/5] END .C=1.0, penalty=l1, solver=newton-cg;, score=nan total time=   0.0s\n",
      "[CV 2/5] END .C=1.0, penalty=l1, solver=newton-cg;, score=nan total time=   0.0s\n",
      "[CV 3/5] END .C=1.0, penalty=l1, solver=newton-cg;, score=nan total time=   0.0s\n",
      "[CV 4/5] END .C=1.0, penalty=l1, solver=newton-cg;, score=nan total time=   0.0s\n",
      "[CV 5/5] END .C=1.0, penalty=l1, solver=newton-cg;, score=nan total time=   0.0s\n",
      "[CV 1/5] END C=1.0, penalty=l1, solver=newton-cholesky;, score=nan total time=   0.0s\n",
      "[CV 2/5] END C=1.0, penalty=l1, solver=newton-cholesky;, score=nan total time=   0.0s\n",
      "[CV 3/5] END C=1.0, penalty=l1, solver=newton-cholesky;, score=nan total time=   0.0s\n",
      "[CV 4/5] END C=1.0, penalty=l1, solver=newton-cholesky;, score=nan total time=   0.0s\n",
      "[CV 5/5] END C=1.0, penalty=l1, solver=newton-cholesky;, score=nan total time=   0.0s\n",
      "[CV 1/5] END .......C=1.0, penalty=l1, solver=sag;, score=nan total time=   0.0s\n",
      "[CV 2/5] END .......C=1.0, penalty=l1, solver=sag;, score=nan total time=   0.0s\n",
      "[CV 3/5] END .......C=1.0, penalty=l1, solver=sag;, score=nan total time=   0.0s\n",
      "[CV 4/5] END .......C=1.0, penalty=l1, solver=sag;, score=nan total time=   0.0s\n",
      "[CV 5/5] END .......C=1.0, penalty=l1, solver=sag;, score=nan total time=   0.0s\n",
      "[CV 1/5] END ....C=1.0, penalty=l1, solver=saga;, score=0.873 total time=   0.0s\n",
      "[CV 2/5] END ....C=1.0, penalty=l1, solver=saga;, score=0.796 total time=   0.0s\n",
      "[CV 3/5] END ....C=1.0, penalty=l1, solver=saga;, score=0.771 total time=   0.0s\n",
      "[CV 4/5] END ....C=1.0, penalty=l1, solver=saga;, score=0.904 total time=   0.0s\n",
      "[CV 5/5] END ....C=1.0, penalty=l1, solver=saga;, score=0.859 total time=   0.0s\n",
      "[CV 1/5] END ...C=1.0, penalty=l2, solver=lbfgs;, score=0.911 total time=   0.0s\n",
      "[CV 2/5] END ...C=1.0, penalty=l2, solver=lbfgs;, score=0.860 total time=   0.0s\n",
      "[CV 3/5] END ...C=1.0, penalty=l2, solver=lbfgs;, score=0.834 total time=   0.0s\n",
      "[CV 4/5] END ...C=1.0, penalty=l2, solver=lbfgs;, score=0.943 total time=   0.0s\n",
      "[CV 5/5] END ...C=1.0, penalty=l2, solver=lbfgs;, score=0.923 total time=   0.0s\n",
      "[CV 1/5] END C=1.0, penalty=l2, solver=liblinear;, score=0.917 total time=   0.0s\n",
      "[CV 2/5] END C=1.0, penalty=l2, solver=liblinear;, score=0.873 total time=   0.0s\n",
      "[CV 3/5] END C=1.0, penalty=l2, solver=liblinear;, score=0.847 total time=   0.0s\n",
      "[CV 4/5] END C=1.0, penalty=l2, solver=liblinear;, score=0.943 total time=   0.0s\n",
      "[CV 5/5] END C=1.0, penalty=l2, solver=liblinear;, score=0.942 total time=   0.0s\n",
      "[CV 1/5] END C=1.0, penalty=l2, solver=newton-cg;, score=0.911 total time=   0.0s\n",
      "[CV 2/5] END C=1.0, penalty=l2, solver=newton-cg;, score=0.866 total time=   0.0s\n",
      "[CV 3/5] END C=1.0, penalty=l2, solver=newton-cg;, score=0.847 total time=   0.0s\n",
      "[CV 4/5] END C=1.0, penalty=l2, solver=newton-cg;, score=0.943 total time=   0.0s\n",
      "[CV 5/5] END C=1.0, penalty=l2, solver=newton-cg;, score=0.929 total time=   0.0s\n",
      "[CV 1/5] END C=1.0, penalty=l2, solver=newton-cholesky;, score=0.911 total time=   0.0s\n",
      "[CV 2/5] END C=1.0, penalty=l2, solver=newton-cholesky;, score=0.866 total time=   0.0s\n",
      "[CV 3/5] END C=1.0, penalty=l2, solver=newton-cholesky;, score=0.847 total time=   0.0s\n",
      "[CV 4/5] END C=1.0, penalty=l2, solver=newton-cholesky;, score=0.943 total time=   0.0s\n",
      "[CV 5/5] END C=1.0, penalty=l2, solver=newton-cholesky;, score=0.929 total time=   0.0s\n",
      "[CV 1/5] END .....C=1.0, penalty=l2, solver=sag;, score=0.873 total time=   0.0s\n",
      "[CV 2/5] END .....C=1.0, penalty=l2, solver=sag;, score=0.796 total time=   0.0s\n",
      "[CV 3/5] END .....C=1.0, penalty=l2, solver=sag;, score=0.771 total time=   0.0s\n",
      "[CV 4/5] END .....C=1.0, penalty=l2, solver=sag;, score=0.904 total time=   0.0s\n",
      "[CV 5/5] END .....C=1.0, penalty=l2, solver=sag;, score=0.859 total time=   0.0s\n",
      "[CV 1/5] END ....C=1.0, penalty=l2, solver=saga;, score=0.873 total time=   0.0s\n",
      "[CV 2/5] END ....C=1.0, penalty=l2, solver=saga;, score=0.796 total time=   0.0s\n",
      "[CV 3/5] END ....C=1.0, penalty=l2, solver=saga;, score=0.771 total time=   0.0s\n",
      "[CV 4/5] END ....C=1.0, penalty=l2, solver=saga;, score=0.904 total time=   0.0s\n",
      "[CV 5/5] END ....C=1.0, penalty=l2, solver=saga;, score=0.859 total time=   0.0s\n",
      "[CV 1/5] END C=1.0, penalty=elasticnet, solver=lbfgs;, score=nan total time=   0.0s\n",
      "[CV 2/5] END C=1.0, penalty=elasticnet, solver=lbfgs;, score=nan total time=   0.0s\n",
      "[CV 3/5] END C=1.0, penalty=elasticnet, solver=lbfgs;, score=nan total time=   0.0s\n",
      "[CV 4/5] END C=1.0, penalty=elasticnet, solver=lbfgs;, score=nan total time=   0.0s\n",
      "[CV 5/5] END C=1.0, penalty=elasticnet, solver=lbfgs;, score=nan total time=   0.0s\n",
      "[CV 1/5] END C=1.0, penalty=elasticnet, solver=liblinear;, score=nan total time=   0.0s\n",
      "[CV 2/5] END C=1.0, penalty=elasticnet, solver=liblinear;, score=nan total time=   0.0s\n",
      "[CV 3/5] END C=1.0, penalty=elasticnet, solver=liblinear;, score=nan total time=   0.0s\n",
      "[CV 4/5] END C=1.0, penalty=elasticnet, solver=liblinear;, score=nan total time=   0.0s\n",
      "[CV 5/5] END C=1.0, penalty=elasticnet, solver=liblinear;, score=nan total time=   0.0s\n",
      "[CV 1/5] END C=1.0, penalty=elasticnet, solver=newton-cg;, score=nan total time=   0.0s\n",
      "[CV 2/5] END C=1.0, penalty=elasticnet, solver=newton-cg;, score=nan total time=   0.0s\n",
      "[CV 3/5] END C=1.0, penalty=elasticnet, solver=newton-cg;, score=nan total time=   0.0s\n",
      "[CV 4/5] END C=1.0, penalty=elasticnet, solver=newton-cg;, score=nan total time=   0.0s\n",
      "[CV 5/5] END C=1.0, penalty=elasticnet, solver=newton-cg;, score=nan total time=   0.0s\n",
      "[CV 1/5] END C=1.0, penalty=elasticnet, solver=newton-cholesky;, score=nan total time=   0.0s\n",
      "[CV 2/5] END C=1.0, penalty=elasticnet, solver=newton-cholesky;, score=nan total time=   0.0s\n",
      "[CV 3/5] END C=1.0, penalty=elasticnet, solver=newton-cholesky;, score=nan total time=   0.0s\n",
      "[CV 4/5] END C=1.0, penalty=elasticnet, solver=newton-cholesky;, score=nan total time=   0.0s\n",
      "[CV 5/5] END C=1.0, penalty=elasticnet, solver=newton-cholesky;, score=nan total time=   0.0s\n",
      "[CV 1/5] END C=1.0, penalty=elasticnet, solver=sag;, score=nan total time=   0.0s\n",
      "[CV 2/5] END C=1.0, penalty=elasticnet, solver=sag;, score=nan total time=   0.0s\n",
      "[CV 3/5] END C=1.0, penalty=elasticnet, solver=sag;, score=nan total time=   0.0s\n",
      "[CV 4/5] END C=1.0, penalty=elasticnet, solver=sag;, score=nan total time=   0.0s\n",
      "[CV 5/5] END C=1.0, penalty=elasticnet, solver=sag;, score=nan total time=   0.0s\n",
      "[CV 1/5] END C=1.0, penalty=elasticnet, solver=saga;, score=nan total time=   0.0s\n",
      "[CV 2/5] END C=1.0, penalty=elasticnet, solver=saga;, score=nan total time=   0.0s\n",
      "[CV 3/5] END C=1.0, penalty=elasticnet, solver=saga;, score=nan total time=   0.0s\n",
      "[CV 4/5] END C=1.0, penalty=elasticnet, solver=saga;, score=nan total time=   0.0s\n",
      "[CV 5/5] END C=1.0, penalty=elasticnet, solver=saga;, score=nan total time=   0.0s\n",
      "[CV 1/5] END .C=1.0, penalty=None, solver=lbfgs;, score=0.917 total time=   0.0s\n",
      "[CV 2/5] END .C=1.0, penalty=None, solver=lbfgs;, score=0.860 total time=   0.0s\n",
      "[CV 3/5] END .C=1.0, penalty=None, solver=lbfgs;, score=0.828 total time=   0.0s\n",
      "[CV 4/5] END .C=1.0, penalty=None, solver=lbfgs;, score=0.943 total time=   0.0s\n",
      "[CV 5/5] END .C=1.0, penalty=None, solver=lbfgs;, score=0.917 total time=   0.0s\n",
      "[CV 1/5] END C=1.0, penalty=None, solver=liblinear;, score=nan total time=   0.0s\n",
      "[CV 2/5] END C=1.0, penalty=None, solver=liblinear;, score=nan total time=   0.0s\n",
      "[CV 3/5] END C=1.0, penalty=None, solver=liblinear;, score=nan total time=   0.0s\n",
      "[CV 4/5] END C=1.0, penalty=None, solver=liblinear;, score=nan total time=   0.0s\n",
      "[CV 5/5] END C=1.0, penalty=None, solver=liblinear;, score=nan total time=   0.0s\n",
      "[CV 1/5] END C=1.0, penalty=None, solver=newton-cg;, score=0.917 total time=   0.0s\n",
      "[CV 2/5] END C=1.0, penalty=None, solver=newton-cg;, score=0.873 total time=   0.0s\n",
      "[CV 3/5] END C=1.0, penalty=None, solver=newton-cg;, score=0.847 total time=   0.0s\n",
      "[CV 4/5] END C=1.0, penalty=None, solver=newton-cg;, score=0.943 total time=   0.0s\n",
      "[CV 5/5] END C=1.0, penalty=None, solver=newton-cg;, score=0.936 total time=   0.0s\n",
      "[CV 1/5] END C=1.0, penalty=None, solver=newton-cholesky;, score=0.917 total time=   0.0s\n",
      "[CV 2/5] END C=1.0, penalty=None, solver=newton-cholesky;, score=0.873 total time=   0.0s\n",
      "[CV 3/5] END C=1.0, penalty=None, solver=newton-cholesky;, score=0.847 total time=   0.0s\n",
      "[CV 4/5] END C=1.0, penalty=None, solver=newton-cholesky;, score=0.943 total time=   0.0s\n",
      "[CV 5/5] END C=1.0, penalty=None, solver=newton-cholesky;, score=0.936 total time=   0.0s\n",
      "[CV 1/5] END ...C=1.0, penalty=None, solver=sag;, score=0.873 total time=   0.0s\n",
      "[CV 2/5] END ...C=1.0, penalty=None, solver=sag;, score=0.796 total time=   0.0s\n",
      "[CV 3/5] END ...C=1.0, penalty=None, solver=sag;, score=0.771 total time=   0.0s\n",
      "[CV 4/5] END ...C=1.0, penalty=None, solver=sag;, score=0.904 total time=   0.0s\n",
      "[CV 5/5] END ...C=1.0, penalty=None, solver=sag;, score=0.859 total time=   0.0s\n",
      "[CV 1/5] END ..C=1.0, penalty=None, solver=saga;, score=0.873 total time=   0.0s\n",
      "[CV 2/5] END ..C=1.0, penalty=None, solver=saga;, score=0.796 total time=   0.0s\n",
      "[CV 3/5] END ..C=1.0, penalty=None, solver=saga;, score=0.771 total time=   0.0s\n",
      "[CV 4/5] END ..C=1.0, penalty=None, solver=saga;, score=0.904 total time=   0.0s\n",
      "[CV 5/5] END ..C=1.0, penalty=None, solver=saga;, score=0.859 total time=   0.0s\n",
      "[CV 1/5] END ....C=10.0, penalty=l1, solver=lbfgs;, score=nan total time=   0.0s\n",
      "[CV 2/5] END ....C=10.0, penalty=l1, solver=lbfgs;, score=nan total time=   0.0s\n",
      "[CV 3/5] END ....C=10.0, penalty=l1, solver=lbfgs;, score=nan total time=   0.0s\n",
      "[CV 4/5] END ....C=10.0, penalty=l1, solver=lbfgs;, score=nan total time=   0.0s\n",
      "[CV 5/5] END ....C=10.0, penalty=l1, solver=lbfgs;, score=nan total time=   0.0s\n",
      "[CV 1/5] END C=10.0, penalty=l1, solver=liblinear;, score=0.917 total time=   0.0s\n",
      "[CV 2/5] END C=10.0, penalty=l1, solver=liblinear;, score=0.873 total time=   0.0s\n",
      "[CV 3/5] END C=10.0, penalty=l1, solver=liblinear;, score=0.847 total time=   0.0s\n",
      "[CV 4/5] END C=10.0, penalty=l1, solver=liblinear;, score=0.943 total time=   0.0s\n",
      "[CV 5/5] END C=10.0, penalty=l1, solver=liblinear;, score=0.936 total time=   0.0s\n",
      "[CV 1/5] END C=10.0, penalty=l1, solver=newton-cg;, score=nan total time=   0.0s\n",
      "[CV 2/5] END C=10.0, penalty=l1, solver=newton-cg;, score=nan total time=   0.0s\n",
      "[CV 3/5] END C=10.0, penalty=l1, solver=newton-cg;, score=nan total time=   0.0s\n",
      "[CV 4/5] END C=10.0, penalty=l1, solver=newton-cg;, score=nan total time=   0.0s\n",
      "[CV 5/5] END C=10.0, penalty=l1, solver=newton-cg;, score=nan total time=   0.0s\n",
      "[CV 1/5] END C=10.0, penalty=l1, solver=newton-cholesky;, score=nan total time=   0.0s\n",
      "[CV 2/5] END C=10.0, penalty=l1, solver=newton-cholesky;, score=nan total time=   0.0s\n",
      "[CV 3/5] END C=10.0, penalty=l1, solver=newton-cholesky;, score=nan total time=   0.0s\n",
      "[CV 4/5] END C=10.0, penalty=l1, solver=newton-cholesky;, score=nan total time=   0.0s\n",
      "[CV 5/5] END C=10.0, penalty=l1, solver=newton-cholesky;, score=nan total time=   0.0s\n",
      "[CV 1/5] END ......C=10.0, penalty=l1, solver=sag;, score=nan total time=   0.0s\n",
      "[CV 2/5] END ......C=10.0, penalty=l1, solver=sag;, score=nan total time=   0.0s\n",
      "[CV 3/5] END ......C=10.0, penalty=l1, solver=sag;, score=nan total time=   0.0s\n",
      "[CV 4/5] END ......C=10.0, penalty=l1, solver=sag;, score=nan total time=   0.0s\n",
      "[CV 5/5] END ......C=10.0, penalty=l1, solver=sag;, score=nan total time=   0.0s\n",
      "[CV 1/5] END ...C=10.0, penalty=l1, solver=saga;, score=0.873 total time=   0.0s\n",
      "[CV 2/5] END ...C=10.0, penalty=l1, solver=saga;, score=0.796 total time=   0.0s\n",
      "[CV 3/5] END ...C=10.0, penalty=l1, solver=saga;, score=0.771 total time=   0.0s\n",
      "[CV 4/5] END ...C=10.0, penalty=l1, solver=saga;, score=0.904 total time=   0.0s\n",
      "[CV 5/5] END ...C=10.0, penalty=l1, solver=saga;, score=0.859 total time=   0.0s\n",
      "[CV 1/5] END ..C=10.0, penalty=l2, solver=lbfgs;, score=0.911 total time=   0.0s\n",
      "[CV 2/5] END ..C=10.0, penalty=l2, solver=lbfgs;, score=0.860 total time=   0.0s\n",
      "[CV 3/5] END ..C=10.0, penalty=l2, solver=lbfgs;, score=0.828 total time=   0.0s\n",
      "[CV 4/5] END ..C=10.0, penalty=l2, solver=lbfgs;, score=0.930 total time=   0.0s\n",
      "[CV 5/5] END ..C=10.0, penalty=l2, solver=lbfgs;, score=0.917 total time=   0.0s\n",
      "[CV 1/5] END C=10.0, penalty=l2, solver=liblinear;, score=0.917 total time=   0.0s\n",
      "[CV 2/5] END C=10.0, penalty=l2, solver=liblinear;, score=0.873 total time=   0.0s\n",
      "[CV 3/5] END C=10.0, penalty=l2, solver=liblinear;, score=0.847 total time=   0.0s\n",
      "[CV 4/5] END C=10.0, penalty=l2, solver=liblinear;, score=0.943 total time=   0.0s\n",
      "[CV 5/5] END C=10.0, penalty=l2, solver=liblinear;, score=0.942 total time=   0.0s\n",
      "[CV 1/5] END C=10.0, penalty=l2, solver=newton-cg;, score=0.917 total time=   0.0s\n",
      "[CV 2/5] END C=10.0, penalty=l2, solver=newton-cg;, score=0.873 total time=   0.0s\n",
      "[CV 3/5] END C=10.0, penalty=l2, solver=newton-cg;, score=0.847 total time=   0.0s\n",
      "[CV 4/5] END C=10.0, penalty=l2, solver=newton-cg;, score=0.943 total time=   0.0s\n",
      "[CV 5/5] END C=10.0, penalty=l2, solver=newton-cg;, score=0.936 total time=   0.0s\n",
      "[CV 1/5] END C=10.0, penalty=l2, solver=newton-cholesky;, score=0.917 total time=   0.0s\n",
      "[CV 2/5] END C=10.0, penalty=l2, solver=newton-cholesky;, score=0.873 total time=   0.0s\n",
      "[CV 3/5] END C=10.0, penalty=l2, solver=newton-cholesky;, score=0.847 total time=   0.0s\n",
      "[CV 4/5] END C=10.0, penalty=l2, solver=newton-cholesky;, score=0.943 total time=   0.0s\n",
      "[CV 5/5] END C=10.0, penalty=l2, solver=newton-cholesky;, score=0.936 total time=   0.0s\n",
      "[CV 1/5] END ....C=10.0, penalty=l2, solver=sag;, score=0.873 total time=   0.0s\n",
      "[CV 2/5] END ....C=10.0, penalty=l2, solver=sag;, score=0.796 total time=   0.0s\n",
      "[CV 3/5] END ....C=10.0, penalty=l2, solver=sag;, score=0.771 total time=   0.0s\n",
      "[CV 4/5] END ....C=10.0, penalty=l2, solver=sag;, score=0.904 total time=   0.0s\n",
      "[CV 5/5] END ....C=10.0, penalty=l2, solver=sag;, score=0.859 total time=   0.0s\n",
      "[CV 1/5] END ...C=10.0, penalty=l2, solver=saga;, score=0.873 total time=   0.0s\n",
      "[CV 2/5] END ...C=10.0, penalty=l2, solver=saga;, score=0.796 total time=   0.0s\n",
      "[CV 3/5] END ...C=10.0, penalty=l2, solver=saga;, score=0.771 total time=   0.0s\n",
      "[CV 4/5] END ...C=10.0, penalty=l2, solver=saga;, score=0.904 total time=   0.0s\n",
      "[CV 5/5] END ...C=10.0, penalty=l2, solver=saga;, score=0.859 total time=   0.0s\n",
      "[CV 1/5] END C=10.0, penalty=elasticnet, solver=lbfgs;, score=nan total time=   0.0s\n",
      "[CV 2/5] END C=10.0, penalty=elasticnet, solver=lbfgs;, score=nan total time=   0.0s\n",
      "[CV 3/5] END C=10.0, penalty=elasticnet, solver=lbfgs;, score=nan total time=   0.0s\n",
      "[CV 4/5] END C=10.0, penalty=elasticnet, solver=lbfgs;, score=nan total time=   0.0s\n",
      "[CV 5/5] END C=10.0, penalty=elasticnet, solver=lbfgs;, score=nan total time=   0.0s\n",
      "[CV 1/5] END C=10.0, penalty=elasticnet, solver=liblinear;, score=nan total time=   0.0s\n",
      "[CV 2/5] END C=10.0, penalty=elasticnet, solver=liblinear;, score=nan total time=   0.0s\n",
      "[CV 3/5] END C=10.0, penalty=elasticnet, solver=liblinear;, score=nan total time=   0.0s\n",
      "[CV 4/5] END C=10.0, penalty=elasticnet, solver=liblinear;, score=nan total time=   0.0s\n",
      "[CV 5/5] END C=10.0, penalty=elasticnet, solver=liblinear;, score=nan total time=   0.0s\n",
      "[CV 1/5] END C=10.0, penalty=elasticnet, solver=newton-cg;, score=nan total time=   0.0s\n",
      "[CV 2/5] END C=10.0, penalty=elasticnet, solver=newton-cg;, score=nan total time=   0.0s\n",
      "[CV 3/5] END C=10.0, penalty=elasticnet, solver=newton-cg;, score=nan total time=   0.0s\n",
      "[CV 4/5] END C=10.0, penalty=elasticnet, solver=newton-cg;, score=nan total time=   0.0s\n",
      "[CV 5/5] END C=10.0, penalty=elasticnet, solver=newton-cg;, score=nan total time=   0.0s\n",
      "[CV 1/5] END C=10.0, penalty=elasticnet, solver=newton-cholesky;, score=nan total time=   0.0s\n",
      "[CV 2/5] END C=10.0, penalty=elasticnet, solver=newton-cholesky;, score=nan total time=   0.0s\n",
      "[CV 3/5] END C=10.0, penalty=elasticnet, solver=newton-cholesky;, score=nan total time=   0.0s\n",
      "[CV 4/5] END C=10.0, penalty=elasticnet, solver=newton-cholesky;, score=nan total time=   0.0s\n",
      "[CV 5/5] END C=10.0, penalty=elasticnet, solver=newton-cholesky;, score=nan total time=   0.0s\n",
      "[CV 1/5] END C=10.0, penalty=elasticnet, solver=sag;, score=nan total time=   0.0s\n",
      "[CV 2/5] END C=10.0, penalty=elasticnet, solver=sag;, score=nan total time=   0.0s\n",
      "[CV 3/5] END C=10.0, penalty=elasticnet, solver=sag;, score=nan total time=   0.0s\n",
      "[CV 4/5] END C=10.0, penalty=elasticnet, solver=sag;, score=nan total time=   0.0s\n",
      "[CV 5/5] END C=10.0, penalty=elasticnet, solver=sag;, score=nan total time=   0.0s\n",
      "[CV 1/5] END C=10.0, penalty=elasticnet, solver=saga;, score=nan total time=   0.0s\n",
      "[CV 2/5] END C=10.0, penalty=elasticnet, solver=saga;, score=nan total time=   0.0s\n",
      "[CV 3/5] END C=10.0, penalty=elasticnet, solver=saga;, score=nan total time=   0.0s\n",
      "[CV 4/5] END C=10.0, penalty=elasticnet, solver=saga;, score=nan total time=   0.0s\n",
      "[CV 5/5] END C=10.0, penalty=elasticnet, solver=saga;, score=nan total time=   0.0s\n",
      "[CV 1/5] END C=10.0, penalty=None, solver=lbfgs;, score=0.917 total time=   0.0s\n",
      "[CV 2/5] END C=10.0, penalty=None, solver=lbfgs;, score=0.860 total time=   0.0s\n",
      "[CV 3/5] END C=10.0, penalty=None, solver=lbfgs;, score=0.828 total time=   0.0s\n",
      "[CV 4/5] END C=10.0, penalty=None, solver=lbfgs;, score=0.943 total time=   0.0s\n",
      "[CV 5/5] END C=10.0, penalty=None, solver=lbfgs;, score=0.917 total time=   0.0s\n",
      "[CV 1/5] END C=10.0, penalty=None, solver=liblinear;, score=nan total time=   0.0s\n",
      "[CV 2/5] END C=10.0, penalty=None, solver=liblinear;, score=nan total time=   0.0s\n",
      "[CV 3/5] END C=10.0, penalty=None, solver=liblinear;, score=nan total time=   0.0s\n",
      "[CV 4/5] END C=10.0, penalty=None, solver=liblinear;, score=nan total time=   0.0s\n",
      "[CV 5/5] END C=10.0, penalty=None, solver=liblinear;, score=nan total time=   0.0s\n",
      "[CV 1/5] END C=10.0, penalty=None, solver=newton-cg;, score=0.917 total time=   0.0s\n",
      "[CV 2/5] END C=10.0, penalty=None, solver=newton-cg;, score=0.873 total time=   0.0s\n",
      "[CV 3/5] END C=10.0, penalty=None, solver=newton-cg;, score=0.847 total time=   0.0s\n",
      "[CV 4/5] END C=10.0, penalty=None, solver=newton-cg;, score=0.943 total time=   0.0s\n",
      "[CV 5/5] END C=10.0, penalty=None, solver=newton-cg;, score=0.936 total time=   0.0s\n",
      "[CV 1/5] END C=10.0, penalty=None, solver=newton-cholesky;, score=0.917 total time=   0.0s\n",
      "[CV 2/5] END C=10.0, penalty=None, solver=newton-cholesky;, score=0.873 total time=   0.0s\n",
      "[CV 3/5] END C=10.0, penalty=None, solver=newton-cholesky;, score=0.847 total time=   0.0s\n",
      "[CV 4/5] END C=10.0, penalty=None, solver=newton-cholesky;, score=0.943 total time=   0.0s\n",
      "[CV 5/5] END C=10.0, penalty=None, solver=newton-cholesky;, score=0.936 total time=   0.0s\n",
      "[CV 1/5] END ..C=10.0, penalty=None, solver=sag;, score=0.873 total time=   0.0s\n",
      "[CV 2/5] END ..C=10.0, penalty=None, solver=sag;, score=0.796 total time=   0.0s\n",
      "[CV 3/5] END ..C=10.0, penalty=None, solver=sag;, score=0.771 total time=   0.0s\n",
      "[CV 4/5] END ..C=10.0, penalty=None, solver=sag;, score=0.904 total time=   0.0s\n",
      "[CV 5/5] END ..C=10.0, penalty=None, solver=sag;, score=0.859 total time=   0.0s\n",
      "[CV 1/5] END .C=10.0, penalty=None, solver=saga;, score=0.873 total time=   0.0s\n",
      "[CV 2/5] END .C=10.0, penalty=None, solver=saga;, score=0.796 total time=   0.0s\n",
      "[CV 3/5] END .C=10.0, penalty=None, solver=saga;, score=0.771 total time=   0.0s\n",
      "[CV 4/5] END .C=10.0, penalty=None, solver=saga;, score=0.904 total time=   0.0s\n",
      "[CV 5/5] END .C=10.0, penalty=None, solver=saga;, score=0.859 total time=   0.0s\n",
      "[CV 1/5] END ...C=100.0, penalty=l1, solver=lbfgs;, score=nan total time=   0.0s\n",
      "[CV 2/5] END ...C=100.0, penalty=l1, solver=lbfgs;, score=nan total time=   0.0s\n",
      "[CV 3/5] END ...C=100.0, penalty=l1, solver=lbfgs;, score=nan total time=   0.0s\n",
      "[CV 4/5] END ...C=100.0, penalty=l1, solver=lbfgs;, score=nan total time=   0.0s\n",
      "[CV 5/5] END ...C=100.0, penalty=l1, solver=lbfgs;, score=nan total time=   0.0s\n",
      "[CV 1/5] END C=100.0, penalty=l1, solver=liblinear;, score=0.917 total time=   0.0s\n",
      "[CV 2/5] END C=100.0, penalty=l1, solver=liblinear;, score=0.873 total time=   0.0s\n",
      "[CV 3/5] END C=100.0, penalty=l1, solver=liblinear;, score=0.847 total time=   0.0s\n",
      "[CV 4/5] END C=100.0, penalty=l1, solver=liblinear;, score=0.943 total time=   0.0s\n",
      "[CV 5/5] END C=100.0, penalty=l1, solver=liblinear;, score=0.936 total time=   0.0s\n",
      "[CV 1/5] END C=100.0, penalty=l1, solver=newton-cg;, score=nan total time=   0.0s\n",
      "[CV 2/5] END C=100.0, penalty=l1, solver=newton-cg;, score=nan total time=   0.0s\n",
      "[CV 3/5] END C=100.0, penalty=l1, solver=newton-cg;, score=nan total time=   0.0s\n",
      "[CV 4/5] END C=100.0, penalty=l1, solver=newton-cg;, score=nan total time=   0.0s\n",
      "[CV 5/5] END C=100.0, penalty=l1, solver=newton-cg;, score=nan total time=   0.0s\n",
      "[CV 1/5] END C=100.0, penalty=l1, solver=newton-cholesky;, score=nan total time=   0.0s\n",
      "[CV 2/5] END C=100.0, penalty=l1, solver=newton-cholesky;, score=nan total time=   0.0s\n",
      "[CV 3/5] END C=100.0, penalty=l1, solver=newton-cholesky;, score=nan total time=   0.0s\n",
      "[CV 4/5] END C=100.0, penalty=l1, solver=newton-cholesky;, score=nan total time=   0.0s\n",
      "[CV 5/5] END C=100.0, penalty=l1, solver=newton-cholesky;, score=nan total time=   0.0s\n",
      "[CV 1/5] END .....C=100.0, penalty=l1, solver=sag;, score=nan total time=   0.0s\n",
      "[CV 2/5] END .....C=100.0, penalty=l1, solver=sag;, score=nan total time=   0.0s\n",
      "[CV 3/5] END .....C=100.0, penalty=l1, solver=sag;, score=nan total time=   0.0s\n",
      "[CV 4/5] END .....C=100.0, penalty=l1, solver=sag;, score=nan total time=   0.0s\n",
      "[CV 5/5] END .....C=100.0, penalty=l1, solver=sag;, score=nan total time=   0.0s\n",
      "[CV 1/5] END ..C=100.0, penalty=l1, solver=saga;, score=0.873 total time=   0.0s\n",
      "[CV 2/5] END ..C=100.0, penalty=l1, solver=saga;, score=0.796 total time=   0.0s\n",
      "[CV 3/5] END ..C=100.0, penalty=l1, solver=saga;, score=0.771 total time=   0.0s\n",
      "[CV 4/5] END ..C=100.0, penalty=l1, solver=saga;, score=0.904 total time=   0.0s\n",
      "[CV 5/5] END ..C=100.0, penalty=l1, solver=saga;, score=0.859 total time=   0.0s\n",
      "[CV 1/5] END .C=100.0, penalty=l2, solver=lbfgs;, score=0.911 total time=   0.0s\n",
      "[CV 2/5] END .C=100.0, penalty=l2, solver=lbfgs;, score=0.860 total time=   0.0s\n",
      "[CV 3/5] END .C=100.0, penalty=l2, solver=lbfgs;, score=0.828 total time=   0.0s\n",
      "[CV 4/5] END .C=100.0, penalty=l2, solver=lbfgs;, score=0.936 total time=   0.0s\n",
      "[CV 5/5] END .C=100.0, penalty=l2, solver=lbfgs;, score=0.917 total time=   0.0s\n",
      "[CV 1/5] END C=100.0, penalty=l2, solver=liblinear;, score=0.917 total time=   0.0s\n",
      "[CV 2/5] END C=100.0, penalty=l2, solver=liblinear;, score=0.873 total time=   0.0s\n",
      "[CV 3/5] END C=100.0, penalty=l2, solver=liblinear;, score=0.847 total time=   0.0s\n",
      "[CV 4/5] END C=100.0, penalty=l2, solver=liblinear;, score=0.943 total time=   0.0s\n",
      "[CV 5/5] END C=100.0, penalty=l2, solver=liblinear;, score=0.942 total time=   0.0s\n",
      "[CV 1/5] END C=100.0, penalty=l2, solver=newton-cg;, score=0.917 total time=   0.0s\n",
      "[CV 2/5] END C=100.0, penalty=l2, solver=newton-cg;, score=0.873 total time=   0.0s\n",
      "[CV 3/5] END C=100.0, penalty=l2, solver=newton-cg;, score=0.847 total time=   0.0s\n",
      "[CV 4/5] END C=100.0, penalty=l2, solver=newton-cg;, score=0.943 total time=   0.0s\n",
      "[CV 5/5] END C=100.0, penalty=l2, solver=newton-cg;, score=0.936 total time=   0.0s\n",
      "[CV 1/5] END C=100.0, penalty=l2, solver=newton-cholesky;, score=0.917 total time=   0.0s\n",
      "[CV 2/5] END C=100.0, penalty=l2, solver=newton-cholesky;, score=0.873 total time=   0.0s\n",
      "[CV 3/5] END C=100.0, penalty=l2, solver=newton-cholesky;, score=0.847 total time=   0.0s\n",
      "[CV 4/5] END C=100.0, penalty=l2, solver=newton-cholesky;, score=0.943 total time=   0.0s\n",
      "[CV 5/5] END C=100.0, penalty=l2, solver=newton-cholesky;, score=0.936 total time=   0.0s\n",
      "[CV 1/5] END ...C=100.0, penalty=l2, solver=sag;, score=0.873 total time=   0.0s\n",
      "[CV 2/5] END ...C=100.0, penalty=l2, solver=sag;, score=0.796 total time=   0.0s\n",
      "[CV 3/5] END ...C=100.0, penalty=l2, solver=sag;, score=0.771 total time=   0.0s\n",
      "[CV 4/5] END ...C=100.0, penalty=l2, solver=sag;, score=0.904 total time=   0.0s\n",
      "[CV 5/5] END ...C=100.0, penalty=l2, solver=sag;, score=0.859 total time=   0.0s\n",
      "[CV 1/5] END ..C=100.0, penalty=l2, solver=saga;, score=0.873 total time=   0.0s\n",
      "[CV 2/5] END ..C=100.0, penalty=l2, solver=saga;, score=0.796 total time=   0.0s\n",
      "[CV 3/5] END ..C=100.0, penalty=l2, solver=saga;, score=0.771 total time=   0.0s\n",
      "[CV 4/5] END ..C=100.0, penalty=l2, solver=saga;, score=0.904 total time=   0.0s\n",
      "[CV 5/5] END ..C=100.0, penalty=l2, solver=saga;, score=0.859 total time=   0.0s\n",
      "[CV 1/5] END C=100.0, penalty=elasticnet, solver=lbfgs;, score=nan total time=   0.0s\n",
      "[CV 2/5] END C=100.0, penalty=elasticnet, solver=lbfgs;, score=nan total time=   0.0s\n",
      "[CV 3/5] END C=100.0, penalty=elasticnet, solver=lbfgs;, score=nan total time=   0.0s\n",
      "[CV 4/5] END C=100.0, penalty=elasticnet, solver=lbfgs;, score=nan total time=   0.0s\n",
      "[CV 5/5] END C=100.0, penalty=elasticnet, solver=lbfgs;, score=nan total time=   0.0s\n",
      "[CV 1/5] END C=100.0, penalty=elasticnet, solver=liblinear;, score=nan total time=   0.0s\n",
      "[CV 2/5] END C=100.0, penalty=elasticnet, solver=liblinear;, score=nan total time=   0.0s\n",
      "[CV 3/5] END C=100.0, penalty=elasticnet, solver=liblinear;, score=nan total time=   0.0s\n",
      "[CV 4/5] END C=100.0, penalty=elasticnet, solver=liblinear;, score=nan total time=   0.0s\n",
      "[CV 5/5] END C=100.0, penalty=elasticnet, solver=liblinear;, score=nan total time=   0.0s\n",
      "[CV 1/5] END C=100.0, penalty=elasticnet, solver=newton-cg;, score=nan total time=   0.0s\n",
      "[CV 2/5] END C=100.0, penalty=elasticnet, solver=newton-cg;, score=nan total time=   0.0s\n",
      "[CV 3/5] END C=100.0, penalty=elasticnet, solver=newton-cg;, score=nan total time=   0.0s\n",
      "[CV 4/5] END C=100.0, penalty=elasticnet, solver=newton-cg;, score=nan total time=   0.0s\n",
      "[CV 5/5] END C=100.0, penalty=elasticnet, solver=newton-cg;, score=nan total time=   0.0s\n",
      "[CV 1/5] END C=100.0, penalty=elasticnet, solver=newton-cholesky;, score=nan total time=   0.0s\n",
      "[CV 2/5] END C=100.0, penalty=elasticnet, solver=newton-cholesky;, score=nan total time=   0.0s\n",
      "[CV 3/5] END C=100.0, penalty=elasticnet, solver=newton-cholesky;, score=nan total time=   0.0s\n",
      "[CV 4/5] END C=100.0, penalty=elasticnet, solver=newton-cholesky;, score=nan total time=   0.0s\n",
      "[CV 5/5] END C=100.0, penalty=elasticnet, solver=newton-cholesky;, score=nan total time=   0.0s\n",
      "[CV 1/5] END C=100.0, penalty=elasticnet, solver=sag;, score=nan total time=   0.0s\n",
      "[CV 2/5] END C=100.0, penalty=elasticnet, solver=sag;, score=nan total time=   0.0s\n",
      "[CV 3/5] END C=100.0, penalty=elasticnet, solver=sag;, score=nan total time=   0.0s\n",
      "[CV 4/5] END C=100.0, penalty=elasticnet, solver=sag;, score=nan total time=   0.0s\n",
      "[CV 5/5] END C=100.0, penalty=elasticnet, solver=sag;, score=nan total time=   0.0s\n",
      "[CV 1/5] END C=100.0, penalty=elasticnet, solver=saga;, score=nan total time=   0.0s\n",
      "[CV 2/5] END C=100.0, penalty=elasticnet, solver=saga;, score=nan total time=   0.0s\n",
      "[CV 3/5] END C=100.0, penalty=elasticnet, solver=saga;, score=nan total time=   0.0s\n",
      "[CV 4/5] END C=100.0, penalty=elasticnet, solver=saga;, score=nan total time=   0.0s\n",
      "[CV 5/5] END C=100.0, penalty=elasticnet, solver=saga;, score=nan total time=   0.0s\n",
      "[CV 1/5] END C=100.0, penalty=None, solver=lbfgs;, score=0.917 total time=   0.0s\n",
      "[CV 2/5] END C=100.0, penalty=None, solver=lbfgs;, score=0.860 total time=   0.0s\n",
      "[CV 3/5] END C=100.0, penalty=None, solver=lbfgs;, score=0.828 total time=   0.0s\n",
      "[CV 4/5] END C=100.0, penalty=None, solver=lbfgs;, score=0.943 total time=   0.0s\n",
      "[CV 5/5] END C=100.0, penalty=None, solver=lbfgs;, score=0.917 total time=   0.0s\n",
      "[CV 1/5] END C=100.0, penalty=None, solver=liblinear;, score=nan total time=   0.0s\n",
      "[CV 2/5] END C=100.0, penalty=None, solver=liblinear;, score=nan total time=   0.0s\n",
      "[CV 3/5] END C=100.0, penalty=None, solver=liblinear;, score=nan total time=   0.0s\n",
      "[CV 4/5] END C=100.0, penalty=None, solver=liblinear;, score=nan total time=   0.0s\n",
      "[CV 5/5] END C=100.0, penalty=None, solver=liblinear;, score=nan total time=   0.0s\n",
      "[CV 1/5] END C=100.0, penalty=None, solver=newton-cg;, score=0.917 total time=   0.0s\n",
      "[CV 2/5] END C=100.0, penalty=None, solver=newton-cg;, score=0.873 total time=   0.0s\n",
      "[CV 3/5] END C=100.0, penalty=None, solver=newton-cg;, score=0.847 total time=   0.0s\n",
      "[CV 4/5] END C=100.0, penalty=None, solver=newton-cg;, score=0.943 total time=   0.0s\n",
      "[CV 5/5] END C=100.0, penalty=None, solver=newton-cg;, score=0.936 total time=   0.0s\n",
      "[CV 1/5] END C=100.0, penalty=None, solver=newton-cholesky;, score=0.917 total time=   0.0s\n",
      "[CV 2/5] END C=100.0, penalty=None, solver=newton-cholesky;, score=0.873 total time=   0.0s\n",
      "[CV 3/5] END C=100.0, penalty=None, solver=newton-cholesky;, score=0.847 total time=   0.0s\n",
      "[CV 4/5] END C=100.0, penalty=None, solver=newton-cholesky;, score=0.943 total time=   0.0s\n",
      "[CV 5/5] END C=100.0, penalty=None, solver=newton-cholesky;, score=0.936 total time=   0.0s\n",
      "[CV 1/5] END .C=100.0, penalty=None, solver=sag;, score=0.873 total time=   0.0s\n",
      "[CV 2/5] END .C=100.0, penalty=None, solver=sag;, score=0.796 total time=   0.0s\n",
      "[CV 3/5] END .C=100.0, penalty=None, solver=sag;, score=0.771 total time=   0.0s\n",
      "[CV 4/5] END .C=100.0, penalty=None, solver=sag;, score=0.904 total time=   0.0s\n",
      "[CV 5/5] END .C=100.0, penalty=None, solver=sag;, score=0.859 total time=   0.0s\n",
      "[CV 1/5] END C=100.0, penalty=None, solver=saga;, score=0.873 total time=   0.0s\n",
      "[CV 2/5] END C=100.0, penalty=None, solver=saga;, score=0.796 total time=   0.0s\n",
      "[CV 3/5] END C=100.0, penalty=None, solver=saga;, score=0.771 total time=   0.0s\n",
      "[CV 4/5] END C=100.0, penalty=None, solver=saga;, score=0.904 total time=   0.0s\n",
      "[CV 5/5] END C=100.0, penalty=None, solver=saga;, score=0.859 total time=   0.0s\n",
      "[CV 1/5] END ..C=1000.0, penalty=l1, solver=lbfgs;, score=nan total time=   0.0s\n",
      "[CV 2/5] END ..C=1000.0, penalty=l1, solver=lbfgs;, score=nan total time=   0.0s\n",
      "[CV 3/5] END ..C=1000.0, penalty=l1, solver=lbfgs;, score=nan total time=   0.0s\n",
      "[CV 4/5] END ..C=1000.0, penalty=l1, solver=lbfgs;, score=nan total time=   0.0s\n",
      "[CV 5/5] END ..C=1000.0, penalty=l1, solver=lbfgs;, score=nan total time=   0.0s\n",
      "[CV 1/5] END C=1000.0, penalty=l1, solver=liblinear;, score=0.917 total time=   0.0s\n",
      "[CV 2/5] END C=1000.0, penalty=l1, solver=liblinear;, score=0.873 total time=   0.0s\n",
      "[CV 3/5] END C=1000.0, penalty=l1, solver=liblinear;, score=0.847 total time=   0.0s\n",
      "[CV 4/5] END C=1000.0, penalty=l1, solver=liblinear;, score=0.943 total time=   0.0s\n",
      "[CV 5/5] END C=1000.0, penalty=l1, solver=liblinear;, score=0.936 total time=   0.0s\n",
      "[CV 1/5] END C=1000.0, penalty=l1, solver=newton-cg;, score=nan total time=   0.0s\n",
      "[CV 2/5] END C=1000.0, penalty=l1, solver=newton-cg;, score=nan total time=   0.0s\n",
      "[CV 3/5] END C=1000.0, penalty=l1, solver=newton-cg;, score=nan total time=   0.0s\n",
      "[CV 4/5] END C=1000.0, penalty=l1, solver=newton-cg;, score=nan total time=   0.0s\n",
      "[CV 5/5] END C=1000.0, penalty=l1, solver=newton-cg;, score=nan total time=   0.0s\n",
      "[CV 1/5] END C=1000.0, penalty=l1, solver=newton-cholesky;, score=nan total time=   0.0s\n",
      "[CV 2/5] END C=1000.0, penalty=l1, solver=newton-cholesky;, score=nan total time=   0.0s\n",
      "[CV 3/5] END C=1000.0, penalty=l1, solver=newton-cholesky;, score=nan total time=   0.0s\n",
      "[CV 4/5] END C=1000.0, penalty=l1, solver=newton-cholesky;, score=nan total time=   0.0s\n",
      "[CV 5/5] END C=1000.0, penalty=l1, solver=newton-cholesky;, score=nan total time=   0.0s\n",
      "[CV 1/5] END ....C=1000.0, penalty=l1, solver=sag;, score=nan total time=   0.0s\n",
      "[CV 2/5] END ....C=1000.0, penalty=l1, solver=sag;, score=nan total time=   0.0s\n",
      "[CV 3/5] END ....C=1000.0, penalty=l1, solver=sag;, score=nan total time=   0.0s\n",
      "[CV 4/5] END ....C=1000.0, penalty=l1, solver=sag;, score=nan total time=   0.0s\n",
      "[CV 5/5] END ....C=1000.0, penalty=l1, solver=sag;, score=nan total time=   0.0s\n",
      "[CV 1/5] END .C=1000.0, penalty=l1, solver=saga;, score=0.873 total time=   0.0s\n",
      "[CV 2/5] END .C=1000.0, penalty=l1, solver=saga;, score=0.796 total time=   0.0s\n",
      "[CV 3/5] END .C=1000.0, penalty=l1, solver=saga;, score=0.771 total time=   0.0s\n",
      "[CV 4/5] END .C=1000.0, penalty=l1, solver=saga;, score=0.904 total time=   0.0s\n",
      "[CV 5/5] END .C=1000.0, penalty=l1, solver=saga;, score=0.859 total time=   0.0s\n",
      "[CV 1/5] END C=1000.0, penalty=l2, solver=lbfgs;, score=0.917 total time=   0.0s\n",
      "[CV 2/5] END C=1000.0, penalty=l2, solver=lbfgs;, score=0.860 total time=   0.0s\n",
      "[CV 3/5] END C=1000.0, penalty=l2, solver=lbfgs;, score=0.828 total time=   0.0s\n",
      "[CV 4/5] END C=1000.0, penalty=l2, solver=lbfgs;, score=0.936 total time=   0.0s\n",
      "[CV 5/5] END C=1000.0, penalty=l2, solver=lbfgs;, score=0.917 total time=   0.0s\n",
      "[CV 1/5] END C=1000.0, penalty=l2, solver=liblinear;, score=0.917 total time=   0.0s\n",
      "[CV 2/5] END C=1000.0, penalty=l2, solver=liblinear;, score=0.873 total time=   0.0s\n",
      "[CV 3/5] END C=1000.0, penalty=l2, solver=liblinear;, score=0.847 total time=   0.0s\n",
      "[CV 4/5] END C=1000.0, penalty=l2, solver=liblinear;, score=0.943 total time=   0.0s\n",
      "[CV 5/5] END C=1000.0, penalty=l2, solver=liblinear;, score=0.942 total time=   0.0s\n",
      "[CV 1/5] END C=1000.0, penalty=l2, solver=newton-cg;, score=0.917 total time=   0.0s\n",
      "[CV 2/5] END C=1000.0, penalty=l2, solver=newton-cg;, score=0.873 total time=   0.0s\n",
      "[CV 3/5] END C=1000.0, penalty=l2, solver=newton-cg;, score=0.847 total time=   0.0s\n",
      "[CV 4/5] END C=1000.0, penalty=l2, solver=newton-cg;, score=0.943 total time=   0.0s\n",
      "[CV 5/5] END C=1000.0, penalty=l2, solver=newton-cg;, score=0.936 total time=   0.0s\n",
      "[CV 1/5] END C=1000.0, penalty=l2, solver=newton-cholesky;, score=0.917 total time=   0.0s\n",
      "[CV 2/5] END C=1000.0, penalty=l2, solver=newton-cholesky;, score=0.873 total time=   0.0s\n",
      "[CV 3/5] END C=1000.0, penalty=l2, solver=newton-cholesky;, score=0.847 total time=   0.0s\n",
      "[CV 4/5] END C=1000.0, penalty=l2, solver=newton-cholesky;, score=0.943 total time=   0.0s\n",
      "[CV 5/5] END C=1000.0, penalty=l2, solver=newton-cholesky;, score=0.936 total time=   0.0s\n",
      "[CV 1/5] END ..C=1000.0, penalty=l2, solver=sag;, score=0.873 total time=   0.0s\n",
      "[CV 2/5] END ..C=1000.0, penalty=l2, solver=sag;, score=0.796 total time=   0.0s\n",
      "[CV 3/5] END ..C=1000.0, penalty=l2, solver=sag;, score=0.771 total time=   0.0s\n",
      "[CV 4/5] END ..C=1000.0, penalty=l2, solver=sag;, score=0.904 total time=   0.0s\n",
      "[CV 5/5] END ..C=1000.0, penalty=l2, solver=sag;, score=0.859 total time=   0.0s\n",
      "[CV 1/5] END .C=1000.0, penalty=l2, solver=saga;, score=0.873 total time=   0.0s\n",
      "[CV 2/5] END .C=1000.0, penalty=l2, solver=saga;, score=0.796 total time=   0.0s\n",
      "[CV 3/5] END .C=1000.0, penalty=l2, solver=saga;, score=0.771 total time=   0.0s\n",
      "[CV 4/5] END .C=1000.0, penalty=l2, solver=saga;, score=0.904 total time=   0.0s\n",
      "[CV 5/5] END .C=1000.0, penalty=l2, solver=saga;, score=0.859 total time=   0.0s\n",
      "[CV 1/5] END C=1000.0, penalty=elasticnet, solver=lbfgs;, score=nan total time=   0.0s\n",
      "[CV 2/5] END C=1000.0, penalty=elasticnet, solver=lbfgs;, score=nan total time=   0.0s\n",
      "[CV 3/5] END C=1000.0, penalty=elasticnet, solver=lbfgs;, score=nan total time=   0.0s\n",
      "[CV 4/5] END C=1000.0, penalty=elasticnet, solver=lbfgs;, score=nan total time=   0.0s\n",
      "[CV 5/5] END C=1000.0, penalty=elasticnet, solver=lbfgs;, score=nan total time=   0.0s\n",
      "[CV 1/5] END C=1000.0, penalty=elasticnet, solver=liblinear;, score=nan total time=   0.0s\n",
      "[CV 2/5] END C=1000.0, penalty=elasticnet, solver=liblinear;, score=nan total time=   0.0s\n",
      "[CV 3/5] END C=1000.0, penalty=elasticnet, solver=liblinear;, score=nan total time=   0.0s\n",
      "[CV 4/5] END C=1000.0, penalty=elasticnet, solver=liblinear;, score=nan total time=   0.0s\n",
      "[CV 5/5] END C=1000.0, penalty=elasticnet, solver=liblinear;, score=nan total time=   0.0s\n",
      "[CV 1/5] END C=1000.0, penalty=elasticnet, solver=newton-cg;, score=nan total time=   0.0s\n",
      "[CV 2/5] END C=1000.0, penalty=elasticnet, solver=newton-cg;, score=nan total time=   0.0s\n",
      "[CV 3/5] END C=1000.0, penalty=elasticnet, solver=newton-cg;, score=nan total time=   0.0s\n",
      "[CV 4/5] END C=1000.0, penalty=elasticnet, solver=newton-cg;, score=nan total time=   0.0s\n",
      "[CV 5/5] END C=1000.0, penalty=elasticnet, solver=newton-cg;, score=nan total time=   0.0s\n",
      "[CV 1/5] END C=1000.0, penalty=elasticnet, solver=newton-cholesky;, score=nan total time=   0.0s\n",
      "[CV 2/5] END C=1000.0, penalty=elasticnet, solver=newton-cholesky;, score=nan total time=   0.0s\n",
      "[CV 3/5] END C=1000.0, penalty=elasticnet, solver=newton-cholesky;, score=nan total time=   0.0s\n",
      "[CV 4/5] END C=1000.0, penalty=elasticnet, solver=newton-cholesky;, score=nan total time=   0.0s\n",
      "[CV 5/5] END C=1000.0, penalty=elasticnet, solver=newton-cholesky;, score=nan total time=   0.0s\n",
      "[CV 1/5] END C=1000.0, penalty=elasticnet, solver=sag;, score=nan total time=   0.0s\n",
      "[CV 2/5] END C=1000.0, penalty=elasticnet, solver=sag;, score=nan total time=   0.0s\n",
      "[CV 3/5] END C=1000.0, penalty=elasticnet, solver=sag;, score=nan total time=   0.0s\n",
      "[CV 4/5] END C=1000.0, penalty=elasticnet, solver=sag;, score=nan total time=   0.0s\n",
      "[CV 5/5] END C=1000.0, penalty=elasticnet, solver=sag;, score=nan total time=   0.0s\n",
      "[CV 1/5] END C=1000.0, penalty=elasticnet, solver=saga;, score=nan total time=   0.0s\n",
      "[CV 2/5] END C=1000.0, penalty=elasticnet, solver=saga;, score=nan total time=   0.0s\n",
      "[CV 3/5] END C=1000.0, penalty=elasticnet, solver=saga;, score=nan total time=   0.0s\n",
      "[CV 4/5] END C=1000.0, penalty=elasticnet, solver=saga;, score=nan total time=   0.0s\n",
      "[CV 5/5] END C=1000.0, penalty=elasticnet, solver=saga;, score=nan total time=   0.0s\n",
      "[CV 1/5] END C=1000.0, penalty=None, solver=lbfgs;, score=0.917 total time=   0.0s\n",
      "[CV 2/5] END C=1000.0, penalty=None, solver=lbfgs;, score=0.860 total time=   0.0s\n",
      "[CV 3/5] END C=1000.0, penalty=None, solver=lbfgs;, score=0.828 total time=   0.0s\n",
      "[CV 4/5] END C=1000.0, penalty=None, solver=lbfgs;, score=0.943 total time=   0.0s\n",
      "[CV 5/5] END C=1000.0, penalty=None, solver=lbfgs;, score=0.917 total time=   0.0s\n",
      "[CV 1/5] END C=1000.0, penalty=None, solver=liblinear;, score=nan total time=   0.0s\n",
      "[CV 2/5] END C=1000.0, penalty=None, solver=liblinear;, score=nan total time=   0.0s\n",
      "[CV 3/5] END C=1000.0, penalty=None, solver=liblinear;, score=nan total time=   0.0s\n",
      "[CV 4/5] END C=1000.0, penalty=None, solver=liblinear;, score=nan total time=   0.0s\n",
      "[CV 5/5] END C=1000.0, penalty=None, solver=liblinear;, score=nan total time=   0.0s\n",
      "[CV 1/5] END C=1000.0, penalty=None, solver=newton-cg;, score=0.917 total time=   0.0s\n",
      "[CV 2/5] END C=1000.0, penalty=None, solver=newton-cg;, score=0.873 total time=   0.0s\n",
      "[CV 3/5] END C=1000.0, penalty=None, solver=newton-cg;, score=0.847 total time=   0.0s\n",
      "[CV 4/5] END C=1000.0, penalty=None, solver=newton-cg;, score=0.943 total time=   0.0s\n",
      "[CV 5/5] END C=1000.0, penalty=None, solver=newton-cg;, score=0.936 total time=   0.0s\n",
      "[CV 1/5] END C=1000.0, penalty=None, solver=newton-cholesky;, score=0.917 total time=   0.0s\n",
      "[CV 2/5] END C=1000.0, penalty=None, solver=newton-cholesky;, score=0.873 total time=   0.0s\n",
      "[CV 3/5] END C=1000.0, penalty=None, solver=newton-cholesky;, score=0.847 total time=   0.0s\n",
      "[CV 4/5] END C=1000.0, penalty=None, solver=newton-cholesky;, score=0.943 total time=   0.0s\n",
      "[CV 5/5] END C=1000.0, penalty=None, solver=newton-cholesky;, score=0.936 total time=   0.0s\n",
      "[CV 1/5] END C=1000.0, penalty=None, solver=sag;, score=0.873 total time=   0.0s\n",
      "[CV 2/5] END C=1000.0, penalty=None, solver=sag;, score=0.796 total time=   0.0s\n",
      "[CV 3/5] END C=1000.0, penalty=None, solver=sag;, score=0.771 total time=   0.0s\n",
      "[CV 4/5] END C=1000.0, penalty=None, solver=sag;, score=0.904 total time=   0.0s\n",
      "[CV 5/5] END C=1000.0, penalty=None, solver=sag;, score=0.859 total time=   0.0s\n",
      "[CV 1/5] END C=1000.0, penalty=None, solver=saga;, score=0.873 total time=   0.0s\n",
      "[CV 2/5] END C=1000.0, penalty=None, solver=saga;, score=0.796 total time=   0.0s\n",
      "[CV 3/5] END C=1000.0, penalty=None, solver=saga;, score=0.771 total time=   0.0s\n",
      "[CV 4/5] END C=1000.0, penalty=None, solver=saga;, score=0.904 total time=   0.0s\n",
      "[CV 5/5] END C=1000.0, penalty=None, solver=saga;, score=0.859 total time=   0.0s\n"
     ]
    },
    {
     "data": {
      "text/html": [
       "<style>#sk-container-id-2 {color: black;background-color: white;}#sk-container-id-2 pre{padding: 0;}#sk-container-id-2 div.sk-toggleable {background-color: white;}#sk-container-id-2 label.sk-toggleable__label {cursor: pointer;display: block;width: 100%;margin-bottom: 0;padding: 0.3em;box-sizing: border-box;text-align: center;}#sk-container-id-2 label.sk-toggleable__label-arrow:before {content: \"▸\";float: left;margin-right: 0.25em;color: #696969;}#sk-container-id-2 label.sk-toggleable__label-arrow:hover:before {color: black;}#sk-container-id-2 div.sk-estimator:hover label.sk-toggleable__label-arrow:before {color: black;}#sk-container-id-2 div.sk-toggleable__content {max-height: 0;max-width: 0;overflow: hidden;text-align: left;background-color: #f0f8ff;}#sk-container-id-2 div.sk-toggleable__content pre {margin: 0.2em;color: black;border-radius: 0.25em;background-color: #f0f8ff;}#sk-container-id-2 input.sk-toggleable__control:checked~div.sk-toggleable__content {max-height: 200px;max-width: 100%;overflow: auto;}#sk-container-id-2 input.sk-toggleable__control:checked~label.sk-toggleable__label-arrow:before {content: \"▾\";}#sk-container-id-2 div.sk-estimator input.sk-toggleable__control:checked~label.sk-toggleable__label {background-color: #d4ebff;}#sk-container-id-2 div.sk-label input.sk-toggleable__control:checked~label.sk-toggleable__label {background-color: #d4ebff;}#sk-container-id-2 input.sk-hidden--visually {border: 0;clip: rect(1px 1px 1px 1px);clip: rect(1px, 1px, 1px, 1px);height: 1px;margin: -1px;overflow: hidden;padding: 0;position: absolute;width: 1px;}#sk-container-id-2 div.sk-estimator {font-family: monospace;background-color: #f0f8ff;border: 1px dotted black;border-radius: 0.25em;box-sizing: border-box;margin-bottom: 0.5em;}#sk-container-id-2 div.sk-estimator:hover {background-color: #d4ebff;}#sk-container-id-2 div.sk-parallel-item::after {content: \"\";width: 100%;border-bottom: 1px solid gray;flex-grow: 1;}#sk-container-id-2 div.sk-label:hover label.sk-toggleable__label {background-color: #d4ebff;}#sk-container-id-2 div.sk-serial::before {content: \"\";position: absolute;border-left: 1px solid gray;box-sizing: border-box;top: 0;bottom: 0;left: 50%;z-index: 0;}#sk-container-id-2 div.sk-serial {display: flex;flex-direction: column;align-items: center;background-color: white;padding-right: 0.2em;padding-left: 0.2em;position: relative;}#sk-container-id-2 div.sk-item {position: relative;z-index: 1;}#sk-container-id-2 div.sk-parallel {display: flex;align-items: stretch;justify-content: center;background-color: white;position: relative;}#sk-container-id-2 div.sk-item::before, #sk-container-id-2 div.sk-parallel-item::before {content: \"\";position: absolute;border-left: 1px solid gray;box-sizing: border-box;top: 0;bottom: 0;left: 50%;z-index: -1;}#sk-container-id-2 div.sk-parallel-item {display: flex;flex-direction: column;z-index: 1;position: relative;background-color: white;}#sk-container-id-2 div.sk-parallel-item:first-child::after {align-self: flex-end;width: 50%;}#sk-container-id-2 div.sk-parallel-item:last-child::after {align-self: flex-start;width: 50%;}#sk-container-id-2 div.sk-parallel-item:only-child::after {width: 0;}#sk-container-id-2 div.sk-dashed-wrapped {border: 1px dashed gray;margin: 0 0.4em 0.5em 0.4em;box-sizing: border-box;padding-bottom: 0.4em;background-color: white;}#sk-container-id-2 div.sk-label label {font-family: monospace;font-weight: bold;display: inline-block;line-height: 1.2em;}#sk-container-id-2 div.sk-label-container {text-align: center;}#sk-container-id-2 div.sk-container {/* jupyter's `normalize.less` sets `[hidden] { display: none; }` but bootstrap.min.css set `[hidden] { display: none !important; }` so we also need the `!important` here to be able to override the default hidden behavior on the sphinx rendered scikit-learn.org. See: https://github.com/scikit-learn/scikit-learn/issues/21755 */display: inline-block !important;position: relative;}#sk-container-id-2 div.sk-text-repr-fallback {display: none;}</style><div id=\"sk-container-id-2\" class=\"sk-top-container\"><div class=\"sk-text-repr-fallback\"><pre>GridSearchCV(cv=5, estimator=LogisticRegression(),\n",
       "             param_grid={&#x27;C&#x27;: array([1.e-03, 1.e-02, 1.e-01, 1.e+00, 1.e+01, 1.e+02, 1.e+03]),\n",
       "                         &#x27;penalty&#x27;: (&#x27;l1&#x27;, &#x27;l2&#x27;, &#x27;elasticnet&#x27;, None),\n",
       "                         &#x27;solver&#x27;: (&#x27;lbfgs&#x27;, &#x27;liblinear&#x27;, &#x27;newton-cg&#x27;,\n",
       "                                    &#x27;newton-cholesky&#x27;, &#x27;sag&#x27;, &#x27;saga&#x27;)},\n",
       "             verbose=3)</pre><b>In a Jupyter environment, please rerun this cell to show the HTML representation or trust the notebook. <br />On GitHub, the HTML representation is unable to render, please try loading this page with nbviewer.org.</b></div><div class=\"sk-container\" hidden><div class=\"sk-item sk-dashed-wrapped\"><div class=\"sk-label-container\"><div class=\"sk-label sk-toggleable\"><input class=\"sk-toggleable__control sk-hidden--visually\" id=\"sk-estimator-id-2\" type=\"checkbox\" ><label for=\"sk-estimator-id-2\" class=\"sk-toggleable__label sk-toggleable__label-arrow\">GridSearchCV</label><div class=\"sk-toggleable__content\"><pre>GridSearchCV(cv=5, estimator=LogisticRegression(),\n",
       "             param_grid={&#x27;C&#x27;: array([1.e-03, 1.e-02, 1.e-01, 1.e+00, 1.e+01, 1.e+02, 1.e+03]),\n",
       "                         &#x27;penalty&#x27;: (&#x27;l1&#x27;, &#x27;l2&#x27;, &#x27;elasticnet&#x27;, None),\n",
       "                         &#x27;solver&#x27;: (&#x27;lbfgs&#x27;, &#x27;liblinear&#x27;, &#x27;newton-cg&#x27;,\n",
       "                                    &#x27;newton-cholesky&#x27;, &#x27;sag&#x27;, &#x27;saga&#x27;)},\n",
       "             verbose=3)</pre></div></div></div><div class=\"sk-parallel\"><div class=\"sk-parallel-item\"><div class=\"sk-item\"><div class=\"sk-label-container\"><div class=\"sk-label sk-toggleable\"><input class=\"sk-toggleable__control sk-hidden--visually\" id=\"sk-estimator-id-3\" type=\"checkbox\" ><label for=\"sk-estimator-id-3\" class=\"sk-toggleable__label sk-toggleable__label-arrow\">estimator: LogisticRegression</label><div class=\"sk-toggleable__content\"><pre>LogisticRegression()</pre></div></div></div><div class=\"sk-serial\"><div class=\"sk-item\"><div class=\"sk-estimator sk-toggleable\"><input class=\"sk-toggleable__control sk-hidden--visually\" id=\"sk-estimator-id-4\" type=\"checkbox\" ><label for=\"sk-estimator-id-4\" class=\"sk-toggleable__label sk-toggleable__label-arrow\">LogisticRegression</label><div class=\"sk-toggleable__content\"><pre>LogisticRegression()</pre></div></div></div></div></div></div></div></div></div></div>"
      ],
      "text/plain": [
       "GridSearchCV(cv=5, estimator=LogisticRegression(),\n",
       "             param_grid={'C': array([1.e-03, 1.e-02, 1.e-01, 1.e+00, 1.e+01, 1.e+02, 1.e+03]),\n",
       "                         'penalty': ('l1', 'l2', 'elasticnet', None),\n",
       "                         'solver': ('lbfgs', 'liblinear', 'newton-cg',\n",
       "                                    'newton-cholesky', 'sag', 'saga')},\n",
       "             verbose=3)"
      ]
     },
     "execution_count": 54,
     "metadata": {},
     "output_type": "execute_result"
    }
   ],
   "source": [
    "grid.fit(X_train,y_train)"
   ]
  },
  {
   "cell_type": "code",
   "execution_count": 55,
   "id": "e037f702-4b36-41d4-a38e-af64635f3071",
   "metadata": {},
   "outputs": [
    {
     "data": {
      "text/plain": [
       "{'C': 1.0, 'penalty': 'l2', 'solver': 'liblinear'}"
      ]
     },
     "execution_count": 55,
     "metadata": {},
     "output_type": "execute_result"
    }
   ],
   "source": [
    "grid.best_params_"
   ]
  },
  {
   "cell_type": "code",
   "execution_count": 56,
   "id": "d268edc3-ec0d-46bf-9623-2ae1be311f78",
   "metadata": {},
   "outputs": [],
   "source": [
    "y_pred=grid.predict(X_test)"
   ]
  },
  {
   "cell_type": "code",
   "execution_count": 57,
   "id": "23691a29-ef3b-4d14-b0ab-e6c399551d5f",
   "metadata": {},
   "outputs": [],
   "source": [
    "from sklearn.metrics import accuracy_score"
   ]
  },
  {
   "cell_type": "code",
   "execution_count": 58,
   "id": "d643d175-5cae-49ec-a5f4-198368308ca6",
   "metadata": {},
   "outputs": [
    {
     "data": {
      "text/plain": [
       "0.9081632653061225"
      ]
     },
     "execution_count": 58,
     "metadata": {},
     "output_type": "execute_result"
    }
   ],
   "source": [
    "accuracy_score(y_test,y_pred)"
   ]
  },
  {
   "cell_type": "code",
   "execution_count": null,
   "id": "87c0ad95-ff92-4b15-89f8-ae9385c275c3",
   "metadata": {},
   "outputs": [],
   "source": []
  },
  {
   "cell_type": "markdown",
   "id": "bd2ce0b6-277b-494c-bd4c-4e7ea79f576b",
   "metadata": {},
   "source": [
    "# Decision Tree"
   ]
  },
  {
   "cell_type": "code",
   "execution_count": 59,
   "id": "7e847e45-2b22-42e0-978d-f141422f39a0",
   "metadata": {},
   "outputs": [],
   "source": [
    "from sklearn.tree import DecisionTreeClassifier"
   ]
  },
  {
   "cell_type": "code",
   "execution_count": 60,
   "id": "d1805210-e437-4f5c-a422-96d584c684d9",
   "metadata": {},
   "outputs": [],
   "source": [
    "classifier_DT = DecisionTreeClassifier()"
   ]
  },
  {
   "cell_type": "code",
   "execution_count": 61,
   "id": "1fb3e6a7-bccc-4e42-b4e9-79cbb2733ec0",
   "metadata": {},
   "outputs": [
    {
     "data": {
      "text/html": [
       "<style>#sk-container-id-3 {color: black;background-color: white;}#sk-container-id-3 pre{padding: 0;}#sk-container-id-3 div.sk-toggleable {background-color: white;}#sk-container-id-3 label.sk-toggleable__label {cursor: pointer;display: block;width: 100%;margin-bottom: 0;padding: 0.3em;box-sizing: border-box;text-align: center;}#sk-container-id-3 label.sk-toggleable__label-arrow:before {content: \"▸\";float: left;margin-right: 0.25em;color: #696969;}#sk-container-id-3 label.sk-toggleable__label-arrow:hover:before {color: black;}#sk-container-id-3 div.sk-estimator:hover label.sk-toggleable__label-arrow:before {color: black;}#sk-container-id-3 div.sk-toggleable__content {max-height: 0;max-width: 0;overflow: hidden;text-align: left;background-color: #f0f8ff;}#sk-container-id-3 div.sk-toggleable__content pre {margin: 0.2em;color: black;border-radius: 0.25em;background-color: #f0f8ff;}#sk-container-id-3 input.sk-toggleable__control:checked~div.sk-toggleable__content {max-height: 200px;max-width: 100%;overflow: auto;}#sk-container-id-3 input.sk-toggleable__control:checked~label.sk-toggleable__label-arrow:before {content: \"▾\";}#sk-container-id-3 div.sk-estimator input.sk-toggleable__control:checked~label.sk-toggleable__label {background-color: #d4ebff;}#sk-container-id-3 div.sk-label input.sk-toggleable__control:checked~label.sk-toggleable__label {background-color: #d4ebff;}#sk-container-id-3 input.sk-hidden--visually {border: 0;clip: rect(1px 1px 1px 1px);clip: rect(1px, 1px, 1px, 1px);height: 1px;margin: -1px;overflow: hidden;padding: 0;position: absolute;width: 1px;}#sk-container-id-3 div.sk-estimator {font-family: monospace;background-color: #f0f8ff;border: 1px dotted black;border-radius: 0.25em;box-sizing: border-box;margin-bottom: 0.5em;}#sk-container-id-3 div.sk-estimator:hover {background-color: #d4ebff;}#sk-container-id-3 div.sk-parallel-item::after {content: \"\";width: 100%;border-bottom: 1px solid gray;flex-grow: 1;}#sk-container-id-3 div.sk-label:hover label.sk-toggleable__label {background-color: #d4ebff;}#sk-container-id-3 div.sk-serial::before {content: \"\";position: absolute;border-left: 1px solid gray;box-sizing: border-box;top: 0;bottom: 0;left: 50%;z-index: 0;}#sk-container-id-3 div.sk-serial {display: flex;flex-direction: column;align-items: center;background-color: white;padding-right: 0.2em;padding-left: 0.2em;position: relative;}#sk-container-id-3 div.sk-item {position: relative;z-index: 1;}#sk-container-id-3 div.sk-parallel {display: flex;align-items: stretch;justify-content: center;background-color: white;position: relative;}#sk-container-id-3 div.sk-item::before, #sk-container-id-3 div.sk-parallel-item::before {content: \"\";position: absolute;border-left: 1px solid gray;box-sizing: border-box;top: 0;bottom: 0;left: 50%;z-index: -1;}#sk-container-id-3 div.sk-parallel-item {display: flex;flex-direction: column;z-index: 1;position: relative;background-color: white;}#sk-container-id-3 div.sk-parallel-item:first-child::after {align-self: flex-end;width: 50%;}#sk-container-id-3 div.sk-parallel-item:last-child::after {align-self: flex-start;width: 50%;}#sk-container-id-3 div.sk-parallel-item:only-child::after {width: 0;}#sk-container-id-3 div.sk-dashed-wrapped {border: 1px dashed gray;margin: 0 0.4em 0.5em 0.4em;box-sizing: border-box;padding-bottom: 0.4em;background-color: white;}#sk-container-id-3 div.sk-label label {font-family: monospace;font-weight: bold;display: inline-block;line-height: 1.2em;}#sk-container-id-3 div.sk-label-container {text-align: center;}#sk-container-id-3 div.sk-container {/* jupyter's `normalize.less` sets `[hidden] { display: none; }` but bootstrap.min.css set `[hidden] { display: none !important; }` so we also need the `!important` here to be able to override the default hidden behavior on the sphinx rendered scikit-learn.org. See: https://github.com/scikit-learn/scikit-learn/issues/21755 */display: inline-block !important;position: relative;}#sk-container-id-3 div.sk-text-repr-fallback {display: none;}</style><div id=\"sk-container-id-3\" class=\"sk-top-container\"><div class=\"sk-text-repr-fallback\"><pre>DecisionTreeClassifier()</pre><b>In a Jupyter environment, please rerun this cell to show the HTML representation or trust the notebook. <br />On GitHub, the HTML representation is unable to render, please try loading this page with nbviewer.org.</b></div><div class=\"sk-container\" hidden><div class=\"sk-item\"><div class=\"sk-estimator sk-toggleable\"><input class=\"sk-toggleable__control sk-hidden--visually\" id=\"sk-estimator-id-5\" type=\"checkbox\" checked><label for=\"sk-estimator-id-5\" class=\"sk-toggleable__label sk-toggleable__label-arrow\">DecisionTreeClassifier</label><div class=\"sk-toggleable__content\"><pre>DecisionTreeClassifier()</pre></div></div></div></div></div>"
      ],
      "text/plain": [
       "DecisionTreeClassifier()"
      ]
     },
     "execution_count": 61,
     "metadata": {},
     "output_type": "execute_result"
    }
   ],
   "source": [
    "classifier_DT.fit(X_train,y_train)"
   ]
  },
  {
   "cell_type": "code",
   "execution_count": 62,
   "id": "92e855d9-9279-478f-8727-2a74608ecce9",
   "metadata": {},
   "outputs": [],
   "source": [
    "# hyper parameter tunning "
   ]
  },
  {
   "cell_type": "code",
   "execution_count": 63,
   "id": "11d56150-a493-47bf-9002-8083c30fda4c",
   "metadata": {},
   "outputs": [],
   "source": [
    "parameters = {'criterion':('gini','entropy','log_loss'),\n",
    "              'splitter':('best', 'random')\n",
    "               }"
   ]
  },
  {
   "cell_type": "code",
   "execution_count": 64,
   "id": "03a1fa26-0404-4c75-ac8d-c9b899625f53",
   "metadata": {},
   "outputs": [],
   "source": [
    "grid_dt = GridSearchCV(estimator=classifier_DT,param_grid=parameters,cv=5,verbose=3)"
   ]
  },
  {
   "cell_type": "code",
   "execution_count": 65,
   "id": "897962cf-2458-4021-af9f-bed380568b6d",
   "metadata": {},
   "outputs": [
    {
     "name": "stdout",
     "output_type": "stream",
     "text": [
      "Fitting 5 folds for each of 6 candidates, totalling 30 fits\n",
      "[CV 1/5] END .....criterion=gini, splitter=best;, score=0.847 total time=   0.0s\n",
      "[CV 2/5] END .....criterion=gini, splitter=best;, score=0.777 total time=   0.0s\n",
      "[CV 3/5] END .....criterion=gini, splitter=best;, score=0.790 total time=   0.0s\n",
      "[CV 4/5] END .....criterion=gini, splitter=best;, score=0.860 total time=   0.0s\n",
      "[CV 5/5] END .....criterion=gini, splitter=best;, score=0.904 total time=   0.0s\n",
      "[CV 1/5] END ...criterion=gini, splitter=random;, score=0.854 total time=   0.0s\n",
      "[CV 2/5] END ...criterion=gini, splitter=random;, score=0.790 total time=   0.0s\n",
      "[CV 3/5] END ...criterion=gini, splitter=random;, score=0.834 total time=   0.0s\n",
      "[CV 4/5] END ...criterion=gini, splitter=random;, score=0.885 total time=   0.0s\n",
      "[CV 5/5] END ...criterion=gini, splitter=random;, score=0.859 total time=   0.0s\n",
      "[CV 1/5] END ..criterion=entropy, splitter=best;, score=0.854 total time=   0.0s\n",
      "[CV 2/5] END ..criterion=entropy, splitter=best;, score=0.828 total time=   0.0s\n",
      "[CV 3/5] END ..criterion=entropy, splitter=best;, score=0.834 total time=   0.0s\n",
      "[CV 4/5] END ..criterion=entropy, splitter=best;, score=0.873 total time=   0.0s\n",
      "[CV 5/5] END ..criterion=entropy, splitter=best;, score=0.897 total time=   0.0s\n",
      "[CV 1/5] END criterion=entropy, splitter=random;, score=0.879 total time=   0.0s\n",
      "[CV 2/5] END criterion=entropy, splitter=random;, score=0.822 total time=   0.0s\n",
      "[CV 3/5] END criterion=entropy, splitter=random;, score=0.873 total time=   0.0s\n",
      "[CV 4/5] END criterion=entropy, splitter=random;, score=0.854 total time=   0.0s\n",
      "[CV 5/5] END criterion=entropy, splitter=random;, score=0.878 total time=   0.0s\n",
      "[CV 1/5] END .criterion=log_loss, splitter=best;, score=0.866 total time=   0.0s\n",
      "[CV 2/5] END .criterion=log_loss, splitter=best;, score=0.815 total time=   0.0s\n",
      "[CV 3/5] END .criterion=log_loss, splitter=best;, score=0.815 total time=   0.0s\n",
      "[CV 4/5] END .criterion=log_loss, splitter=best;, score=0.898 total time=   0.0s\n",
      "[CV 5/5] END .criterion=log_loss, splitter=best;, score=0.904 total time=   0.0s\n",
      "[CV 1/5] END criterion=log_loss, splitter=random;, score=0.860 total time=   0.0s\n",
      "[CV 2/5] END criterion=log_loss, splitter=random;, score=0.841 total time=   0.0s\n",
      "[CV 3/5] END criterion=log_loss, splitter=random;, score=0.841 total time=   0.0s\n",
      "[CV 4/5] END criterion=log_loss, splitter=random;, score=0.860 total time=   0.0s\n",
      "[CV 5/5] END criterion=log_loss, splitter=random;, score=0.872 total time=   0.0s\n"
     ]
    },
    {
     "data": {
      "text/html": [
       "<style>#sk-container-id-4 {color: black;background-color: white;}#sk-container-id-4 pre{padding: 0;}#sk-container-id-4 div.sk-toggleable {background-color: white;}#sk-container-id-4 label.sk-toggleable__label {cursor: pointer;display: block;width: 100%;margin-bottom: 0;padding: 0.3em;box-sizing: border-box;text-align: center;}#sk-container-id-4 label.sk-toggleable__label-arrow:before {content: \"▸\";float: left;margin-right: 0.25em;color: #696969;}#sk-container-id-4 label.sk-toggleable__label-arrow:hover:before {color: black;}#sk-container-id-4 div.sk-estimator:hover label.sk-toggleable__label-arrow:before {color: black;}#sk-container-id-4 div.sk-toggleable__content {max-height: 0;max-width: 0;overflow: hidden;text-align: left;background-color: #f0f8ff;}#sk-container-id-4 div.sk-toggleable__content pre {margin: 0.2em;color: black;border-radius: 0.25em;background-color: #f0f8ff;}#sk-container-id-4 input.sk-toggleable__control:checked~div.sk-toggleable__content {max-height: 200px;max-width: 100%;overflow: auto;}#sk-container-id-4 input.sk-toggleable__control:checked~label.sk-toggleable__label-arrow:before {content: \"▾\";}#sk-container-id-4 div.sk-estimator input.sk-toggleable__control:checked~label.sk-toggleable__label {background-color: #d4ebff;}#sk-container-id-4 div.sk-label input.sk-toggleable__control:checked~label.sk-toggleable__label {background-color: #d4ebff;}#sk-container-id-4 input.sk-hidden--visually {border: 0;clip: rect(1px 1px 1px 1px);clip: rect(1px, 1px, 1px, 1px);height: 1px;margin: -1px;overflow: hidden;padding: 0;position: absolute;width: 1px;}#sk-container-id-4 div.sk-estimator {font-family: monospace;background-color: #f0f8ff;border: 1px dotted black;border-radius: 0.25em;box-sizing: border-box;margin-bottom: 0.5em;}#sk-container-id-4 div.sk-estimator:hover {background-color: #d4ebff;}#sk-container-id-4 div.sk-parallel-item::after {content: \"\";width: 100%;border-bottom: 1px solid gray;flex-grow: 1;}#sk-container-id-4 div.sk-label:hover label.sk-toggleable__label {background-color: #d4ebff;}#sk-container-id-4 div.sk-serial::before {content: \"\";position: absolute;border-left: 1px solid gray;box-sizing: border-box;top: 0;bottom: 0;left: 50%;z-index: 0;}#sk-container-id-4 div.sk-serial {display: flex;flex-direction: column;align-items: center;background-color: white;padding-right: 0.2em;padding-left: 0.2em;position: relative;}#sk-container-id-4 div.sk-item {position: relative;z-index: 1;}#sk-container-id-4 div.sk-parallel {display: flex;align-items: stretch;justify-content: center;background-color: white;position: relative;}#sk-container-id-4 div.sk-item::before, #sk-container-id-4 div.sk-parallel-item::before {content: \"\";position: absolute;border-left: 1px solid gray;box-sizing: border-box;top: 0;bottom: 0;left: 50%;z-index: -1;}#sk-container-id-4 div.sk-parallel-item {display: flex;flex-direction: column;z-index: 1;position: relative;background-color: white;}#sk-container-id-4 div.sk-parallel-item:first-child::after {align-self: flex-end;width: 50%;}#sk-container-id-4 div.sk-parallel-item:last-child::after {align-self: flex-start;width: 50%;}#sk-container-id-4 div.sk-parallel-item:only-child::after {width: 0;}#sk-container-id-4 div.sk-dashed-wrapped {border: 1px dashed gray;margin: 0 0.4em 0.5em 0.4em;box-sizing: border-box;padding-bottom: 0.4em;background-color: white;}#sk-container-id-4 div.sk-label label {font-family: monospace;font-weight: bold;display: inline-block;line-height: 1.2em;}#sk-container-id-4 div.sk-label-container {text-align: center;}#sk-container-id-4 div.sk-container {/* jupyter's `normalize.less` sets `[hidden] { display: none; }` but bootstrap.min.css set `[hidden] { display: none !important; }` so we also need the `!important` here to be able to override the default hidden behavior on the sphinx rendered scikit-learn.org. See: https://github.com/scikit-learn/scikit-learn/issues/21755 */display: inline-block !important;position: relative;}#sk-container-id-4 div.sk-text-repr-fallback {display: none;}</style><div id=\"sk-container-id-4\" class=\"sk-top-container\"><div class=\"sk-text-repr-fallback\"><pre>GridSearchCV(cv=5, estimator=DecisionTreeClassifier(),\n",
       "             param_grid={&#x27;criterion&#x27;: (&#x27;gini&#x27;, &#x27;entropy&#x27;, &#x27;log_loss&#x27;),\n",
       "                         &#x27;splitter&#x27;: (&#x27;best&#x27;, &#x27;random&#x27;)},\n",
       "             verbose=3)</pre><b>In a Jupyter environment, please rerun this cell to show the HTML representation or trust the notebook. <br />On GitHub, the HTML representation is unable to render, please try loading this page with nbviewer.org.</b></div><div class=\"sk-container\" hidden><div class=\"sk-item sk-dashed-wrapped\"><div class=\"sk-label-container\"><div class=\"sk-label sk-toggleable\"><input class=\"sk-toggleable__control sk-hidden--visually\" id=\"sk-estimator-id-6\" type=\"checkbox\" ><label for=\"sk-estimator-id-6\" class=\"sk-toggleable__label sk-toggleable__label-arrow\">GridSearchCV</label><div class=\"sk-toggleable__content\"><pre>GridSearchCV(cv=5, estimator=DecisionTreeClassifier(),\n",
       "             param_grid={&#x27;criterion&#x27;: (&#x27;gini&#x27;, &#x27;entropy&#x27;, &#x27;log_loss&#x27;),\n",
       "                         &#x27;splitter&#x27;: (&#x27;best&#x27;, &#x27;random&#x27;)},\n",
       "             verbose=3)</pre></div></div></div><div class=\"sk-parallel\"><div class=\"sk-parallel-item\"><div class=\"sk-item\"><div class=\"sk-label-container\"><div class=\"sk-label sk-toggleable\"><input class=\"sk-toggleable__control sk-hidden--visually\" id=\"sk-estimator-id-7\" type=\"checkbox\" ><label for=\"sk-estimator-id-7\" class=\"sk-toggleable__label sk-toggleable__label-arrow\">estimator: DecisionTreeClassifier</label><div class=\"sk-toggleable__content\"><pre>DecisionTreeClassifier()</pre></div></div></div><div class=\"sk-serial\"><div class=\"sk-item\"><div class=\"sk-estimator sk-toggleable\"><input class=\"sk-toggleable__control sk-hidden--visually\" id=\"sk-estimator-id-8\" type=\"checkbox\" ><label for=\"sk-estimator-id-8\" class=\"sk-toggleable__label sk-toggleable__label-arrow\">DecisionTreeClassifier</label><div class=\"sk-toggleable__content\"><pre>DecisionTreeClassifier()</pre></div></div></div></div></div></div></div></div></div></div>"
      ],
      "text/plain": [
       "GridSearchCV(cv=5, estimator=DecisionTreeClassifier(),\n",
       "             param_grid={'criterion': ('gini', 'entropy', 'log_loss'),\n",
       "                         'splitter': ('best', 'random')},\n",
       "             verbose=3)"
      ]
     },
     "execution_count": 65,
     "metadata": {},
     "output_type": "execute_result"
    }
   ],
   "source": [
    "grid_dt.fit(X_train,y_train)"
   ]
  },
  {
   "cell_type": "code",
   "execution_count": 67,
   "id": "c86559d4-511f-4b3d-a893-cb720b9b8e0d",
   "metadata": {},
   "outputs": [],
   "source": [
    "y_pred=grid_dt.predict(X_test)"
   ]
  },
  {
   "cell_type": "code",
   "execution_count": 68,
   "id": "8df0e6c2-e971-4ad2-8dcd-57b582b70e53",
   "metadata": {},
   "outputs": [
    {
     "data": {
      "text/plain": [
       "0.8469387755102041"
      ]
     },
     "execution_count": 68,
     "metadata": {},
     "output_type": "execute_result"
    }
   ],
   "source": [
    "accuracy_score(y_test,y_pred)"
   ]
  },
  {
   "cell_type": "markdown",
   "id": "0a672d2a-9461-4638-9573-d321cf554013",
   "metadata": {},
   "source": [
    "# SUPPORT VECTOR MACHINE "
   ]
  },
  {
   "cell_type": "code",
   "execution_count": 69,
   "id": "01795d4d-be4a-4e64-b8de-59092275e151",
   "metadata": {},
   "outputs": [],
   "source": [
    "from sklearn.svm import SVC"
   ]
  },
  {
   "cell_type": "code",
   "execution_count": 70,
   "id": "e0d6944c-4086-456f-b493-61ddf36367f5",
   "metadata": {},
   "outputs": [],
   "source": [
    "svc= SVC()"
   ]
  },
  {
   "cell_type": "code",
   "execution_count": 71,
   "id": "683a69e4-0172-4f0b-9ae5-4c832a13984f",
   "metadata": {},
   "outputs": [],
   "source": [
    "parameters={'gamma':(0.1,0.01,0.001,0.0001,0.00001),\n",
    "           'C':(0.1,1,10,100,1000)}    "
   ]
  },
  {
   "cell_type": "code",
   "execution_count": 72,
   "id": "b054e3b8-d278-46e6-a6a9-db08ccd5fb6c",
   "metadata": {},
   "outputs": [
    {
     "data": {
      "text/html": [
       "<style>#sk-container-id-5 {color: black;background-color: white;}#sk-container-id-5 pre{padding: 0;}#sk-container-id-5 div.sk-toggleable {background-color: white;}#sk-container-id-5 label.sk-toggleable__label {cursor: pointer;display: block;width: 100%;margin-bottom: 0;padding: 0.3em;box-sizing: border-box;text-align: center;}#sk-container-id-5 label.sk-toggleable__label-arrow:before {content: \"▸\";float: left;margin-right: 0.25em;color: #696969;}#sk-container-id-5 label.sk-toggleable__label-arrow:hover:before {color: black;}#sk-container-id-5 div.sk-estimator:hover label.sk-toggleable__label-arrow:before {color: black;}#sk-container-id-5 div.sk-toggleable__content {max-height: 0;max-width: 0;overflow: hidden;text-align: left;background-color: #f0f8ff;}#sk-container-id-5 div.sk-toggleable__content pre {margin: 0.2em;color: black;border-radius: 0.25em;background-color: #f0f8ff;}#sk-container-id-5 input.sk-toggleable__control:checked~div.sk-toggleable__content {max-height: 200px;max-width: 100%;overflow: auto;}#sk-container-id-5 input.sk-toggleable__control:checked~label.sk-toggleable__label-arrow:before {content: \"▾\";}#sk-container-id-5 div.sk-estimator input.sk-toggleable__control:checked~label.sk-toggleable__label {background-color: #d4ebff;}#sk-container-id-5 div.sk-label input.sk-toggleable__control:checked~label.sk-toggleable__label {background-color: #d4ebff;}#sk-container-id-5 input.sk-hidden--visually {border: 0;clip: rect(1px 1px 1px 1px);clip: rect(1px, 1px, 1px, 1px);height: 1px;margin: -1px;overflow: hidden;padding: 0;position: absolute;width: 1px;}#sk-container-id-5 div.sk-estimator {font-family: monospace;background-color: #f0f8ff;border: 1px dotted black;border-radius: 0.25em;box-sizing: border-box;margin-bottom: 0.5em;}#sk-container-id-5 div.sk-estimator:hover {background-color: #d4ebff;}#sk-container-id-5 div.sk-parallel-item::after {content: \"\";width: 100%;border-bottom: 1px solid gray;flex-grow: 1;}#sk-container-id-5 div.sk-label:hover label.sk-toggleable__label {background-color: #d4ebff;}#sk-container-id-5 div.sk-serial::before {content: \"\";position: absolute;border-left: 1px solid gray;box-sizing: border-box;top: 0;bottom: 0;left: 50%;z-index: 0;}#sk-container-id-5 div.sk-serial {display: flex;flex-direction: column;align-items: center;background-color: white;padding-right: 0.2em;padding-left: 0.2em;position: relative;}#sk-container-id-5 div.sk-item {position: relative;z-index: 1;}#sk-container-id-5 div.sk-parallel {display: flex;align-items: stretch;justify-content: center;background-color: white;position: relative;}#sk-container-id-5 div.sk-item::before, #sk-container-id-5 div.sk-parallel-item::before {content: \"\";position: absolute;border-left: 1px solid gray;box-sizing: border-box;top: 0;bottom: 0;left: 50%;z-index: -1;}#sk-container-id-5 div.sk-parallel-item {display: flex;flex-direction: column;z-index: 1;position: relative;background-color: white;}#sk-container-id-5 div.sk-parallel-item:first-child::after {align-self: flex-end;width: 50%;}#sk-container-id-5 div.sk-parallel-item:last-child::after {align-self: flex-start;width: 50%;}#sk-container-id-5 div.sk-parallel-item:only-child::after {width: 0;}#sk-container-id-5 div.sk-dashed-wrapped {border: 1px dashed gray;margin: 0 0.4em 0.5em 0.4em;box-sizing: border-box;padding-bottom: 0.4em;background-color: white;}#sk-container-id-5 div.sk-label label {font-family: monospace;font-weight: bold;display: inline-block;line-height: 1.2em;}#sk-container-id-5 div.sk-label-container {text-align: center;}#sk-container-id-5 div.sk-container {/* jupyter's `normalize.less` sets `[hidden] { display: none; }` but bootstrap.min.css set `[hidden] { display: none !important; }` so we also need the `!important` here to be able to override the default hidden behavior on the sphinx rendered scikit-learn.org. See: https://github.com/scikit-learn/scikit-learn/issues/21755 */display: inline-block !important;position: relative;}#sk-container-id-5 div.sk-text-repr-fallback {display: none;}</style><div id=\"sk-container-id-5\" class=\"sk-top-container\"><div class=\"sk-text-repr-fallback\"><pre>SVC()</pre><b>In a Jupyter environment, please rerun this cell to show the HTML representation or trust the notebook. <br />On GitHub, the HTML representation is unable to render, please try loading this page with nbviewer.org.</b></div><div class=\"sk-container\" hidden><div class=\"sk-item\"><div class=\"sk-estimator sk-toggleable\"><input class=\"sk-toggleable__control sk-hidden--visually\" id=\"sk-estimator-id-9\" type=\"checkbox\" checked><label for=\"sk-estimator-id-9\" class=\"sk-toggleable__label sk-toggleable__label-arrow\">SVC</label><div class=\"sk-toggleable__content\"><pre>SVC()</pre></div></div></div></div></div>"
      ],
      "text/plain": [
       "SVC()"
      ]
     },
     "execution_count": 72,
     "metadata": {},
     "output_type": "execute_result"
    }
   ],
   "source": [
    "svc.fit(X_train,y_train)"
   ]
  },
  {
   "cell_type": "code",
   "execution_count": 73,
   "id": "83added9-7df9-4c56-a797-2f96dae1b32c",
   "metadata": {},
   "outputs": [],
   "source": [
    "grid_svc =  GridSearchCV(estimator=svc,param_grid=parameters,cv=5,verbose=3)"
   ]
  },
  {
   "cell_type": "code",
   "execution_count": 74,
   "id": "25f92e31-a54c-4265-9324-b5317a647bec",
   "metadata": {},
   "outputs": [
    {
     "name": "stdout",
     "output_type": "stream",
     "text": [
      "Fitting 5 folds for each of 25 candidates, totalling 125 fits\n",
      "[CV 1/5] END ..................C=0.1, gamma=0.1;, score=0.873 total time=   0.0s\n",
      "[CV 2/5] END ..................C=0.1, gamma=0.1;, score=0.796 total time=   0.0s\n",
      "[CV 3/5] END ..................C=0.1, gamma=0.1;, score=0.771 total time=   0.0s\n",
      "[CV 4/5] END ..................C=0.1, gamma=0.1;, score=0.904 total time=   0.0s\n",
      "[CV 5/5] END ..................C=0.1, gamma=0.1;, score=0.859 total time=   0.0s\n",
      "[CV 1/5] END .................C=0.1, gamma=0.01;, score=0.873 total time=   0.0s\n",
      "[CV 2/5] END .................C=0.1, gamma=0.01;, score=0.796 total time=   0.0s\n",
      "[CV 3/5] END .................C=0.1, gamma=0.01;, score=0.771 total time=   0.0s\n",
      "[CV 4/5] END .................C=0.1, gamma=0.01;, score=0.904 total time=   0.0s\n",
      "[CV 5/5] END .................C=0.1, gamma=0.01;, score=0.859 total time=   0.0s\n",
      "[CV 1/5] END ................C=0.1, gamma=0.001;, score=0.873 total time=   0.0s\n",
      "[CV 2/5] END ................C=0.1, gamma=0.001;, score=0.796 total time=   0.0s\n",
      "[CV 3/5] END ................C=0.1, gamma=0.001;, score=0.771 total time=   0.0s\n",
      "[CV 4/5] END ................C=0.1, gamma=0.001;, score=0.904 total time=   0.0s\n",
      "[CV 5/5] END ................C=0.1, gamma=0.001;, score=0.859 total time=   0.0s\n",
      "[CV 1/5] END ...............C=0.1, gamma=0.0001;, score=0.873 total time=   0.0s\n",
      "[CV 2/5] END ...............C=0.1, gamma=0.0001;, score=0.796 total time=   0.0s\n",
      "[CV 3/5] END ...............C=0.1, gamma=0.0001;, score=0.771 total time=   0.0s\n",
      "[CV 4/5] END ...............C=0.1, gamma=0.0001;, score=0.904 total time=   0.0s\n",
      "[CV 5/5] END ...............C=0.1, gamma=0.0001;, score=0.859 total time=   0.0s\n",
      "[CV 1/5] END ................C=0.1, gamma=1e-05;, score=0.873 total time=   0.0s\n",
      "[CV 2/5] END ................C=0.1, gamma=1e-05;, score=0.796 total time=   0.0s\n",
      "[CV 3/5] END ................C=0.1, gamma=1e-05;, score=0.771 total time=   0.0s\n",
      "[CV 4/5] END ................C=0.1, gamma=1e-05;, score=0.904 total time=   0.0s\n",
      "[CV 5/5] END ................C=0.1, gamma=1e-05;, score=0.859 total time=   0.0s\n",
      "[CV 1/5] END ....................C=1, gamma=0.1;, score=0.873 total time=   0.0s\n",
      "[CV 2/5] END ....................C=1, gamma=0.1;, score=0.796 total time=   0.0s\n",
      "[CV 3/5] END ....................C=1, gamma=0.1;, score=0.771 total time=   0.0s\n",
      "[CV 4/5] END ....................C=1, gamma=0.1;, score=0.904 total time=   0.0s\n",
      "[CV 5/5] END ....................C=1, gamma=0.1;, score=0.859 total time=   0.0s\n",
      "[CV 1/5] END ...................C=1, gamma=0.01;, score=0.866 total time=   0.0s\n",
      "[CV 2/5] END ...................C=1, gamma=0.01;, score=0.796 total time=   0.0s\n",
      "[CV 3/5] END ...................C=1, gamma=0.01;, score=0.771 total time=   0.0s\n",
      "[CV 4/5] END ...................C=1, gamma=0.01;, score=0.904 total time=   0.0s\n",
      "[CV 5/5] END ...................C=1, gamma=0.01;, score=0.859 total time=   0.0s\n",
      "[CV 1/5] END ..................C=1, gamma=0.001;, score=0.860 total time=   0.0s\n",
      "[CV 2/5] END ..................C=1, gamma=0.001;, score=0.803 total time=   0.0s\n",
      "[CV 3/5] END ..................C=1, gamma=0.001;, score=0.771 total time=   0.0s\n",
      "[CV 4/5] END ..................C=1, gamma=0.001;, score=0.879 total time=   0.0s\n",
      "[CV 5/5] END ..................C=1, gamma=0.001;, score=0.853 total time=   0.0s\n",
      "[CV 1/5] END .................C=1, gamma=0.0001;, score=0.860 total time=   0.0s\n",
      "[CV 2/5] END .................C=1, gamma=0.0001;, score=0.796 total time=   0.0s\n",
      "[CV 3/5] END .................C=1, gamma=0.0001;, score=0.771 total time=   0.0s\n",
      "[CV 4/5] END .................C=1, gamma=0.0001;, score=0.879 total time=   0.0s\n",
      "[CV 5/5] END .................C=1, gamma=0.0001;, score=0.840 total time=   0.0s\n",
      "[CV 1/5] END ..................C=1, gamma=1e-05;, score=0.841 total time=   0.0s\n",
      "[CV 2/5] END ..................C=1, gamma=1e-05;, score=0.790 total time=   0.0s\n",
      "[CV 3/5] END ..................C=1, gamma=1e-05;, score=0.771 total time=   0.0s\n",
      "[CV 4/5] END ..................C=1, gamma=1e-05;, score=0.866 total time=   0.0s\n",
      "[CV 5/5] END ..................C=1, gamma=1e-05;, score=0.833 total time=   0.0s\n",
      "[CV 1/5] END ...................C=10, gamma=0.1;, score=0.873 total time=   0.0s\n",
      "[CV 2/5] END ...................C=10, gamma=0.1;, score=0.796 total time=   0.0s\n",
      "[CV 3/5] END ...................C=10, gamma=0.1;, score=0.771 total time=   0.0s\n",
      "[CV 4/5] END ...................C=10, gamma=0.1;, score=0.904 total time=   0.0s\n",
      "[CV 5/5] END ...................C=10, gamma=0.1;, score=0.859 total time=   0.0s\n",
      "[CV 1/5] END ..................C=10, gamma=0.01;, score=0.860 total time=   0.0s\n",
      "[CV 2/5] END ..................C=10, gamma=0.01;, score=0.796 total time=   0.0s\n",
      "[CV 3/5] END ..................C=10, gamma=0.01;, score=0.771 total time=   0.0s\n",
      "[CV 4/5] END ..................C=10, gamma=0.01;, score=0.904 total time=   0.0s\n",
      "[CV 5/5] END ..................C=10, gamma=0.01;, score=0.859 total time=   0.0s\n",
      "[CV 1/5] END .................C=10, gamma=0.001;, score=0.866 total time=   0.0s\n",
      "[CV 2/5] END .................C=10, gamma=0.001;, score=0.803 total time=   0.0s\n",
      "[CV 3/5] END .................C=10, gamma=0.001;, score=0.777 total time=   0.0s\n",
      "[CV 4/5] END .................C=10, gamma=0.001;, score=0.885 total time=   0.0s\n",
      "[CV 5/5] END .................C=10, gamma=0.001;, score=0.833 total time=   0.0s\n",
      "[CV 1/5] END ................C=10, gamma=0.0001;, score=0.860 total time=   0.0s\n",
      "[CV 2/5] END ................C=10, gamma=0.0001;, score=0.777 total time=   0.0s\n",
      "[CV 3/5] END ................C=10, gamma=0.0001;, score=0.790 total time=   0.0s\n",
      "[CV 4/5] END ................C=10, gamma=0.0001;, score=0.847 total time=   0.0s\n",
      "[CV 5/5] END ................C=10, gamma=0.0001;, score=0.833 total time=   0.0s\n",
      "[CV 1/5] END .................C=10, gamma=1e-05;, score=0.809 total time=   0.0s\n",
      "[CV 2/5] END .................C=10, gamma=1e-05;, score=0.771 total time=   0.0s\n",
      "[CV 3/5] END .................C=10, gamma=1e-05;, score=0.713 total time=   0.0s\n",
      "[CV 4/5] END .................C=10, gamma=1e-05;, score=0.841 total time=   0.0s\n",
      "[CV 5/5] END .................C=10, gamma=1e-05;, score=0.821 total time=   0.0s\n",
      "[CV 1/5] END ..................C=100, gamma=0.1;, score=0.873 total time=   0.0s\n",
      "[CV 2/5] END ..................C=100, gamma=0.1;, score=0.796 total time=   0.0s\n",
      "[CV 3/5] END ..................C=100, gamma=0.1;, score=0.771 total time=   0.0s\n",
      "[CV 4/5] END ..................C=100, gamma=0.1;, score=0.904 total time=   0.0s\n",
      "[CV 5/5] END ..................C=100, gamma=0.1;, score=0.859 total time=   0.0s\n",
      "[CV 1/5] END .................C=100, gamma=0.01;, score=0.860 total time=   0.0s\n",
      "[CV 2/5] END .................C=100, gamma=0.01;, score=0.796 total time=   0.0s\n",
      "[CV 3/5] END .................C=100, gamma=0.01;, score=0.771 total time=   0.0s\n",
      "[CV 4/5] END .................C=100, gamma=0.01;, score=0.904 total time=   0.0s\n",
      "[CV 5/5] END .................C=100, gamma=0.01;, score=0.859 total time=   0.0s\n",
      "[CV 1/5] END ................C=100, gamma=0.001;, score=0.866 total time=   0.0s\n",
      "[CV 2/5] END ................C=100, gamma=0.001;, score=0.803 total time=   0.0s\n",
      "[CV 3/5] END ................C=100, gamma=0.001;, score=0.777 total time=   0.0s\n",
      "[CV 4/5] END ................C=100, gamma=0.001;, score=0.885 total time=   0.0s\n",
      "[CV 5/5] END ................C=100, gamma=0.001;, score=0.840 total time=   0.0s\n",
      "[CV 1/5] END ...............C=100, gamma=0.0001;, score=0.847 total time=   0.0s\n",
      "[CV 2/5] END ...............C=100, gamma=0.0001;, score=0.777 total time=   0.0s\n",
      "[CV 3/5] END ...............C=100, gamma=0.0001;, score=0.803 total time=   0.0s\n",
      "[CV 4/5] END ...............C=100, gamma=0.0001;, score=0.847 total time=   0.0s\n",
      "[CV 5/5] END ...............C=100, gamma=0.0001;, score=0.840 total time=   0.0s\n",
      "[CV 1/5] END ................C=100, gamma=1e-05;, score=0.790 total time=   0.0s\n",
      "[CV 2/5] END ................C=100, gamma=1e-05;, score=0.758 total time=   0.0s\n",
      "[CV 3/5] END ................C=100, gamma=1e-05;, score=0.726 total time=   0.0s\n",
      "[CV 4/5] END ................C=100, gamma=1e-05;, score=0.828 total time=   0.0s\n",
      "[CV 5/5] END ................C=100, gamma=1e-05;, score=0.827 total time=   0.0s\n",
      "[CV 1/5] END .................C=1000, gamma=0.1;, score=0.873 total time=   0.0s\n",
      "[CV 2/5] END .................C=1000, gamma=0.1;, score=0.796 total time=   0.0s\n",
      "[CV 3/5] END .................C=1000, gamma=0.1;, score=0.771 total time=   0.0s\n",
      "[CV 4/5] END .................C=1000, gamma=0.1;, score=0.904 total time=   0.0s\n",
      "[CV 5/5] END .................C=1000, gamma=0.1;, score=0.859 total time=   0.0s\n",
      "[CV 1/5] END ................C=1000, gamma=0.01;, score=0.860 total time=   0.0s\n",
      "[CV 2/5] END ................C=1000, gamma=0.01;, score=0.796 total time=   0.0s\n",
      "[CV 3/5] END ................C=1000, gamma=0.01;, score=0.771 total time=   0.0s\n",
      "[CV 4/5] END ................C=1000, gamma=0.01;, score=0.904 total time=   0.0s\n",
      "[CV 5/5] END ................C=1000, gamma=0.01;, score=0.859 total time=   0.0s\n",
      "[CV 1/5] END ...............C=1000, gamma=0.001;, score=0.866 total time=   0.0s\n",
      "[CV 2/5] END ...............C=1000, gamma=0.001;, score=0.803 total time=   0.0s\n",
      "[CV 3/5] END ...............C=1000, gamma=0.001;, score=0.777 total time=   0.0s\n",
      "[CV 4/5] END ...............C=1000, gamma=0.001;, score=0.885 total time=   0.0s\n",
      "[CV 5/5] END ...............C=1000, gamma=0.001;, score=0.840 total time=   0.0s\n",
      "[CV 1/5] END ..............C=1000, gamma=0.0001;, score=0.854 total time=   0.0s\n",
      "[CV 2/5] END ..............C=1000, gamma=0.0001;, score=0.783 total time=   0.0s\n",
      "[CV 3/5] END ..............C=1000, gamma=0.0001;, score=0.790 total time=   0.0s\n",
      "[CV 4/5] END ..............C=1000, gamma=0.0001;, score=0.847 total time=   0.0s\n",
      "[CV 5/5] END ..............C=1000, gamma=0.0001;, score=0.833 total time=   0.0s\n",
      "[CV 1/5] END ...............C=1000, gamma=1e-05;, score=0.790 total time=   0.0s\n",
      "[CV 2/5] END ...............C=1000, gamma=1e-05;, score=0.758 total time=   0.0s\n",
      "[CV 3/5] END ...............C=1000, gamma=1e-05;, score=0.732 total time=   0.0s\n",
      "[CV 4/5] END ...............C=1000, gamma=1e-05;, score=0.834 total time=   0.0s\n",
      "[CV 5/5] END ...............C=1000, gamma=1e-05;, score=0.808 total time=   0.0s\n"
     ]
    },
    {
     "data": {
      "text/html": [
       "<style>#sk-container-id-6 {color: black;background-color: white;}#sk-container-id-6 pre{padding: 0;}#sk-container-id-6 div.sk-toggleable {background-color: white;}#sk-container-id-6 label.sk-toggleable__label {cursor: pointer;display: block;width: 100%;margin-bottom: 0;padding: 0.3em;box-sizing: border-box;text-align: center;}#sk-container-id-6 label.sk-toggleable__label-arrow:before {content: \"▸\";float: left;margin-right: 0.25em;color: #696969;}#sk-container-id-6 label.sk-toggleable__label-arrow:hover:before {color: black;}#sk-container-id-6 div.sk-estimator:hover label.sk-toggleable__label-arrow:before {color: black;}#sk-container-id-6 div.sk-toggleable__content {max-height: 0;max-width: 0;overflow: hidden;text-align: left;background-color: #f0f8ff;}#sk-container-id-6 div.sk-toggleable__content pre {margin: 0.2em;color: black;border-radius: 0.25em;background-color: #f0f8ff;}#sk-container-id-6 input.sk-toggleable__control:checked~div.sk-toggleable__content {max-height: 200px;max-width: 100%;overflow: auto;}#sk-container-id-6 input.sk-toggleable__control:checked~label.sk-toggleable__label-arrow:before {content: \"▾\";}#sk-container-id-6 div.sk-estimator input.sk-toggleable__control:checked~label.sk-toggleable__label {background-color: #d4ebff;}#sk-container-id-6 div.sk-label input.sk-toggleable__control:checked~label.sk-toggleable__label {background-color: #d4ebff;}#sk-container-id-6 input.sk-hidden--visually {border: 0;clip: rect(1px 1px 1px 1px);clip: rect(1px, 1px, 1px, 1px);height: 1px;margin: -1px;overflow: hidden;padding: 0;position: absolute;width: 1px;}#sk-container-id-6 div.sk-estimator {font-family: monospace;background-color: #f0f8ff;border: 1px dotted black;border-radius: 0.25em;box-sizing: border-box;margin-bottom: 0.5em;}#sk-container-id-6 div.sk-estimator:hover {background-color: #d4ebff;}#sk-container-id-6 div.sk-parallel-item::after {content: \"\";width: 100%;border-bottom: 1px solid gray;flex-grow: 1;}#sk-container-id-6 div.sk-label:hover label.sk-toggleable__label {background-color: #d4ebff;}#sk-container-id-6 div.sk-serial::before {content: \"\";position: absolute;border-left: 1px solid gray;box-sizing: border-box;top: 0;bottom: 0;left: 50%;z-index: 0;}#sk-container-id-6 div.sk-serial {display: flex;flex-direction: column;align-items: center;background-color: white;padding-right: 0.2em;padding-left: 0.2em;position: relative;}#sk-container-id-6 div.sk-item {position: relative;z-index: 1;}#sk-container-id-6 div.sk-parallel {display: flex;align-items: stretch;justify-content: center;background-color: white;position: relative;}#sk-container-id-6 div.sk-item::before, #sk-container-id-6 div.sk-parallel-item::before {content: \"\";position: absolute;border-left: 1px solid gray;box-sizing: border-box;top: 0;bottom: 0;left: 50%;z-index: -1;}#sk-container-id-6 div.sk-parallel-item {display: flex;flex-direction: column;z-index: 1;position: relative;background-color: white;}#sk-container-id-6 div.sk-parallel-item:first-child::after {align-self: flex-end;width: 50%;}#sk-container-id-6 div.sk-parallel-item:last-child::after {align-self: flex-start;width: 50%;}#sk-container-id-6 div.sk-parallel-item:only-child::after {width: 0;}#sk-container-id-6 div.sk-dashed-wrapped {border: 1px dashed gray;margin: 0 0.4em 0.5em 0.4em;box-sizing: border-box;padding-bottom: 0.4em;background-color: white;}#sk-container-id-6 div.sk-label label {font-family: monospace;font-weight: bold;display: inline-block;line-height: 1.2em;}#sk-container-id-6 div.sk-label-container {text-align: center;}#sk-container-id-6 div.sk-container {/* jupyter's `normalize.less` sets `[hidden] { display: none; }` but bootstrap.min.css set `[hidden] { display: none !important; }` so we also need the `!important` here to be able to override the default hidden behavior on the sphinx rendered scikit-learn.org. See: https://github.com/scikit-learn/scikit-learn/issues/21755 */display: inline-block !important;position: relative;}#sk-container-id-6 div.sk-text-repr-fallback {display: none;}</style><div id=\"sk-container-id-6\" class=\"sk-top-container\"><div class=\"sk-text-repr-fallback\"><pre>GridSearchCV(cv=5, estimator=SVC(),\n",
       "             param_grid={&#x27;C&#x27;: (0.1, 1, 10, 100, 1000),\n",
       "                         &#x27;gamma&#x27;: (0.1, 0.01, 0.001, 0.0001, 1e-05)},\n",
       "             verbose=3)</pre><b>In a Jupyter environment, please rerun this cell to show the HTML representation or trust the notebook. <br />On GitHub, the HTML representation is unable to render, please try loading this page with nbviewer.org.</b></div><div class=\"sk-container\" hidden><div class=\"sk-item sk-dashed-wrapped\"><div class=\"sk-label-container\"><div class=\"sk-label sk-toggleable\"><input class=\"sk-toggleable__control sk-hidden--visually\" id=\"sk-estimator-id-10\" type=\"checkbox\" ><label for=\"sk-estimator-id-10\" class=\"sk-toggleable__label sk-toggleable__label-arrow\">GridSearchCV</label><div class=\"sk-toggleable__content\"><pre>GridSearchCV(cv=5, estimator=SVC(),\n",
       "             param_grid={&#x27;C&#x27;: (0.1, 1, 10, 100, 1000),\n",
       "                         &#x27;gamma&#x27;: (0.1, 0.01, 0.001, 0.0001, 1e-05)},\n",
       "             verbose=3)</pre></div></div></div><div class=\"sk-parallel\"><div class=\"sk-parallel-item\"><div class=\"sk-item\"><div class=\"sk-label-container\"><div class=\"sk-label sk-toggleable\"><input class=\"sk-toggleable__control sk-hidden--visually\" id=\"sk-estimator-id-11\" type=\"checkbox\" ><label for=\"sk-estimator-id-11\" class=\"sk-toggleable__label sk-toggleable__label-arrow\">estimator: SVC</label><div class=\"sk-toggleable__content\"><pre>SVC()</pre></div></div></div><div class=\"sk-serial\"><div class=\"sk-item\"><div class=\"sk-estimator sk-toggleable\"><input class=\"sk-toggleable__control sk-hidden--visually\" id=\"sk-estimator-id-12\" type=\"checkbox\" ><label for=\"sk-estimator-id-12\" class=\"sk-toggleable__label sk-toggleable__label-arrow\">SVC</label><div class=\"sk-toggleable__content\"><pre>SVC()</pre></div></div></div></div></div></div></div></div></div></div>"
      ],
      "text/plain": [
       "GridSearchCV(cv=5, estimator=SVC(),\n",
       "             param_grid={'C': (0.1, 1, 10, 100, 1000),\n",
       "                         'gamma': (0.1, 0.01, 0.001, 0.0001, 1e-05)},\n",
       "             verbose=3)"
      ]
     },
     "execution_count": 74,
     "metadata": {},
     "output_type": "execute_result"
    }
   ],
   "source": [
    "grid_svc.fit(X_train,y_train)"
   ]
  },
  {
   "cell_type": "code",
   "execution_count": 75,
   "id": "c23a238a-c954-49a9-9905-4678474e85fa",
   "metadata": {},
   "outputs": [
    {
     "data": {
      "text/plain": [
       "{'C': 0.1, 'gamma': 0.1}"
      ]
     },
     "execution_count": 75,
     "metadata": {},
     "output_type": "execute_result"
    }
   ],
   "source": [
    "grid_svc.best_params_"
   ]
  },
  {
   "cell_type": "code",
   "execution_count": 76,
   "id": "ab8da3f9-6c05-4738-a99b-3cac8a1b1895",
   "metadata": {},
   "outputs": [],
   "source": [
    "y_pred=grid_svc.predict(X_test)"
   ]
  },
  {
   "cell_type": "code",
   "execution_count": 77,
   "id": "49f6acb9-3e5c-4273-88ee-b1f6045b14dc",
   "metadata": {},
   "outputs": [
    {
     "data": {
      "text/plain": [
       "0.8520408163265306"
      ]
     },
     "execution_count": 77,
     "metadata": {},
     "output_type": "execute_result"
    }
   ],
   "source": [
    "accuracy_score(y_test,y_pred)"
   ]
  },
  {
   "cell_type": "code",
   "execution_count": null,
   "id": "026c8fb1-12eb-4872-954c-777da9473ab1",
   "metadata": {},
   "outputs": [],
   "source": []
  },
  {
   "cell_type": "markdown",
   "id": "49d3a052-69a0-4bf9-b612-03f546e997f5",
   "metadata": {},
   "source": [
    "# NAIVE BAYES ALGORITHM"
   ]
  },
  {
   "cell_type": "code",
   "execution_count": 78,
   "id": "dd12ae7a-79c5-40cd-a985-4cf65b57f304",
   "metadata": {},
   "outputs": [],
   "source": [
    "from sklearn.naive_bayes import BernoulliNB"
   ]
  },
  {
   "cell_type": "code",
   "execution_count": 79,
   "id": "08761378-ac89-4e04-8047-284dea636cfb",
   "metadata": {},
   "outputs": [],
   "source": [
    "b_nb = BernoulliNB()"
   ]
  },
  {
   "cell_type": "code",
   "execution_count": 80,
   "id": "c1267884-1000-4ea5-a414-73a5c35087ff",
   "metadata": {},
   "outputs": [
    {
     "data": {
      "text/html": [
       "<style>#sk-container-id-7 {color: black;background-color: white;}#sk-container-id-7 pre{padding: 0;}#sk-container-id-7 div.sk-toggleable {background-color: white;}#sk-container-id-7 label.sk-toggleable__label {cursor: pointer;display: block;width: 100%;margin-bottom: 0;padding: 0.3em;box-sizing: border-box;text-align: center;}#sk-container-id-7 label.sk-toggleable__label-arrow:before {content: \"▸\";float: left;margin-right: 0.25em;color: #696969;}#sk-container-id-7 label.sk-toggleable__label-arrow:hover:before {color: black;}#sk-container-id-7 div.sk-estimator:hover label.sk-toggleable__label-arrow:before {color: black;}#sk-container-id-7 div.sk-toggleable__content {max-height: 0;max-width: 0;overflow: hidden;text-align: left;background-color: #f0f8ff;}#sk-container-id-7 div.sk-toggleable__content pre {margin: 0.2em;color: black;border-radius: 0.25em;background-color: #f0f8ff;}#sk-container-id-7 input.sk-toggleable__control:checked~div.sk-toggleable__content {max-height: 200px;max-width: 100%;overflow: auto;}#sk-container-id-7 input.sk-toggleable__control:checked~label.sk-toggleable__label-arrow:before {content: \"▾\";}#sk-container-id-7 div.sk-estimator input.sk-toggleable__control:checked~label.sk-toggleable__label {background-color: #d4ebff;}#sk-container-id-7 div.sk-label input.sk-toggleable__control:checked~label.sk-toggleable__label {background-color: #d4ebff;}#sk-container-id-7 input.sk-hidden--visually {border: 0;clip: rect(1px 1px 1px 1px);clip: rect(1px, 1px, 1px, 1px);height: 1px;margin: -1px;overflow: hidden;padding: 0;position: absolute;width: 1px;}#sk-container-id-7 div.sk-estimator {font-family: monospace;background-color: #f0f8ff;border: 1px dotted black;border-radius: 0.25em;box-sizing: border-box;margin-bottom: 0.5em;}#sk-container-id-7 div.sk-estimator:hover {background-color: #d4ebff;}#sk-container-id-7 div.sk-parallel-item::after {content: \"\";width: 100%;border-bottom: 1px solid gray;flex-grow: 1;}#sk-container-id-7 div.sk-label:hover label.sk-toggleable__label {background-color: #d4ebff;}#sk-container-id-7 div.sk-serial::before {content: \"\";position: absolute;border-left: 1px solid gray;box-sizing: border-box;top: 0;bottom: 0;left: 50%;z-index: 0;}#sk-container-id-7 div.sk-serial {display: flex;flex-direction: column;align-items: center;background-color: white;padding-right: 0.2em;padding-left: 0.2em;position: relative;}#sk-container-id-7 div.sk-item {position: relative;z-index: 1;}#sk-container-id-7 div.sk-parallel {display: flex;align-items: stretch;justify-content: center;background-color: white;position: relative;}#sk-container-id-7 div.sk-item::before, #sk-container-id-7 div.sk-parallel-item::before {content: \"\";position: absolute;border-left: 1px solid gray;box-sizing: border-box;top: 0;bottom: 0;left: 50%;z-index: -1;}#sk-container-id-7 div.sk-parallel-item {display: flex;flex-direction: column;z-index: 1;position: relative;background-color: white;}#sk-container-id-7 div.sk-parallel-item:first-child::after {align-self: flex-end;width: 50%;}#sk-container-id-7 div.sk-parallel-item:last-child::after {align-self: flex-start;width: 50%;}#sk-container-id-7 div.sk-parallel-item:only-child::after {width: 0;}#sk-container-id-7 div.sk-dashed-wrapped {border: 1px dashed gray;margin: 0 0.4em 0.5em 0.4em;box-sizing: border-box;padding-bottom: 0.4em;background-color: white;}#sk-container-id-7 div.sk-label label {font-family: monospace;font-weight: bold;display: inline-block;line-height: 1.2em;}#sk-container-id-7 div.sk-label-container {text-align: center;}#sk-container-id-7 div.sk-container {/* jupyter's `normalize.less` sets `[hidden] { display: none; }` but bootstrap.min.css set `[hidden] { display: none !important; }` so we also need the `!important` here to be able to override the default hidden behavior on the sphinx rendered scikit-learn.org. See: https://github.com/scikit-learn/scikit-learn/issues/21755 */display: inline-block !important;position: relative;}#sk-container-id-7 div.sk-text-repr-fallback {display: none;}</style><div id=\"sk-container-id-7\" class=\"sk-top-container\"><div class=\"sk-text-repr-fallback\"><pre>BernoulliNB()</pre><b>In a Jupyter environment, please rerun this cell to show the HTML representation or trust the notebook. <br />On GitHub, the HTML representation is unable to render, please try loading this page with nbviewer.org.</b></div><div class=\"sk-container\" hidden><div class=\"sk-item\"><div class=\"sk-estimator sk-toggleable\"><input class=\"sk-toggleable__control sk-hidden--visually\" id=\"sk-estimator-id-13\" type=\"checkbox\" checked><label for=\"sk-estimator-id-13\" class=\"sk-toggleable__label sk-toggleable__label-arrow\">BernoulliNB</label><div class=\"sk-toggleable__content\"><pre>BernoulliNB()</pre></div></div></div></div></div>"
      ],
      "text/plain": [
       "BernoulliNB()"
      ]
     },
     "execution_count": 80,
     "metadata": {},
     "output_type": "execute_result"
    }
   ],
   "source": [
    "b_nb.fit(X_train,y_train)"
   ]
  },
  {
   "cell_type": "code",
   "execution_count": 81,
   "id": "6c0a87df-7b39-4b46-a33b-fd24c3e19fb0",
   "metadata": {},
   "outputs": [],
   "source": [
    "parameters={'alpha':(0,1),'binarize':(0.0,0.1,0.01,0.001,1),\n",
    "           'fit_prior':(0,1)}"
   ]
  },
  {
   "cell_type": "code",
   "execution_count": 82,
   "id": "05568579-3770-4495-abdd-56fdb1da2df2",
   "metadata": {},
   "outputs": [],
   "source": [
    "grid_nv= GridSearchCV(estimator=b_nb,param_grid=parameters,cv=5,verbose=3)"
   ]
  },
  {
   "cell_type": "code",
   "execution_count": 83,
   "id": "cc7ad2b4-f7c8-45ab-abf8-d043655c8cc2",
   "metadata": {},
   "outputs": [
    {
     "name": "stdout",
     "output_type": "stream",
     "text": [
      "Fitting 5 folds for each of 20 candidates, totalling 100 fits\n",
      "[CV 1/5] END alpha=0, binarize=0.0, fit_prior=0;, score=0.873 total time=   0.0s\n",
      "[CV 2/5] END alpha=0, binarize=0.0, fit_prior=0;, score=0.796 total time=   0.0s\n",
      "[CV 3/5] END alpha=0, binarize=0.0, fit_prior=0;, score=0.771 total time=   0.0s\n",
      "[CV 4/5] END alpha=0, binarize=0.0, fit_prior=0;, score=0.904 total time=   0.0s\n",
      "[CV 5/5] END alpha=0, binarize=0.0, fit_prior=0;, score=0.865 total time=   0.0s\n",
      "[CV 1/5] END alpha=0, binarize=0.0, fit_prior=1;, score=0.873 total time=   0.0s\n",
      "[CV 2/5] END alpha=0, binarize=0.0, fit_prior=1;, score=0.796 total time=   0.0s\n",
      "[CV 3/5] END alpha=0, binarize=0.0, fit_prior=1;, score=0.771 total time=   0.0s\n",
      "[CV 4/5] END alpha=0, binarize=0.0, fit_prior=1;, score=0.917 total time=   0.0s\n",
      "[CV 5/5] END alpha=0, binarize=0.0, fit_prior=1;, score=0.872 total time=   0.0s\n",
      "[CV 1/5] END alpha=0, binarize=0.1, fit_prior=0;, score=0.873 total time=   0.0s\n",
      "[CV 2/5] END alpha=0, binarize=0.1, fit_prior=0;, score=0.796 total time=   0.0s\n",
      "[CV 3/5] END alpha=0, binarize=0.1, fit_prior=0;, score=0.771 total time=   0.0s\n",
      "[CV 4/5] END alpha=0, binarize=0.1, fit_prior=0;, score=0.904 total time=   0.0s\n",
      "[CV 5/5] END alpha=0, binarize=0.1, fit_prior=0;, score=0.865 total time=   0.0s\n",
      "[CV 1/5] END alpha=0, binarize=0.1, fit_prior=1;, score=0.873 total time=   0.0s\n",
      "[CV 2/5] END alpha=0, binarize=0.1, fit_prior=1;, score=0.796 total time=   0.0s\n",
      "[CV 3/5] END alpha=0, binarize=0.1, fit_prior=1;, score=0.771 total time=   0.0s\n",
      "[CV 4/5] END alpha=0, binarize=0.1, fit_prior=1;, score=0.917 total time=   0.0s\n",
      "[CV 5/5] END alpha=0, binarize=0.1, fit_prior=1;, score=0.872 total time=   0.0s\n",
      "[CV 1/5] END alpha=0, binarize=0.01, fit_prior=0;, score=0.873 total time=   0.0s\n",
      "[CV 2/5] END alpha=0, binarize=0.01, fit_prior=0;, score=0.796 total time=   0.0s\n",
      "[CV 3/5] END alpha=0, binarize=0.01, fit_prior=0;, score=0.771 total time=   0.0s\n",
      "[CV 4/5] END alpha=0, binarize=0.01, fit_prior=0;, score=0.904 total time=   0.0s\n",
      "[CV 5/5] END alpha=0, binarize=0.01, fit_prior=0;, score=0.865 total time=   0.0s\n",
      "[CV 1/5] END alpha=0, binarize=0.01, fit_prior=1;, score=0.873 total time=   0.0s\n",
      "[CV 2/5] END alpha=0, binarize=0.01, fit_prior=1;, score=0.796 total time=   0.0s\n",
      "[CV 3/5] END alpha=0, binarize=0.01, fit_prior=1;, score=0.771 total time=   0.0s\n",
      "[CV 4/5] END alpha=0, binarize=0.01, fit_prior=1;, score=0.917 total time=   0.0s\n",
      "[CV 5/5] END alpha=0, binarize=0.01, fit_prior=1;, score=0.872 total time=   0.0s\n",
      "[CV 1/5] END alpha=0, binarize=0.001, fit_prior=0;, score=0.873 total time=   0.0s\n",
      "[CV 2/5] END alpha=0, binarize=0.001, fit_prior=0;, score=0.796 total time=   0.0s\n",
      "[CV 3/5] END alpha=0, binarize=0.001, fit_prior=0;, score=0.771 total time=   0.0s\n",
      "[CV 4/5] END alpha=0, binarize=0.001, fit_prior=0;, score=0.904 total time=   0.0s\n",
      "[CV 5/5] END alpha=0, binarize=0.001, fit_prior=0;, score=0.865 total time=   0.0s\n",
      "[CV 1/5] END alpha=0, binarize=0.001, fit_prior=1;, score=0.873 total time=   0.0s\n",
      "[CV 2/5] END alpha=0, binarize=0.001, fit_prior=1;, score=0.796 total time=   0.0s\n",
      "[CV 3/5] END alpha=0, binarize=0.001, fit_prior=1;, score=0.771 total time=   0.0s\n",
      "[CV 4/5] END alpha=0, binarize=0.001, fit_prior=1;, score=0.917 total time=   0.0s\n",
      "[CV 5/5] END alpha=0, binarize=0.001, fit_prior=1;, score=0.872 total time=   0.0s\n",
      "[CV 1/5] END ..alpha=0, binarize=1, fit_prior=0;, score=0.873 total time=   0.0s\n",
      "[CV 2/5] END ..alpha=0, binarize=1, fit_prior=0;, score=0.796 total time=   0.0s\n",
      "[CV 3/5] END ..alpha=0, binarize=1, fit_prior=0;, score=0.771 total time=   0.0s\n",
      "[CV 4/5] END ..alpha=0, binarize=1, fit_prior=0;, score=0.904 total time=   0.0s\n",
      "[CV 5/5] END ..alpha=0, binarize=1, fit_prior=0;, score=0.859 total time=   0.0s\n",
      "[CV 1/5] END ..alpha=0, binarize=1, fit_prior=1;, score=0.873 total time=   0.0s\n",
      "[CV 2/5] END ..alpha=0, binarize=1, fit_prior=1;, score=0.796 total time=   0.0s\n",
      "[CV 3/5] END ..alpha=0, binarize=1, fit_prior=1;, score=0.771 total time=   0.0s\n",
      "[CV 4/5] END ..alpha=0, binarize=1, fit_prior=1;, score=0.904 total time=   0.0s\n",
      "[CV 5/5] END ..alpha=0, binarize=1, fit_prior=1;, score=0.859 total time=   0.0s\n",
      "[CV 1/5] END alpha=1, binarize=0.0, fit_prior=0;, score=0.873 total time=   0.0s\n",
      "[CV 2/5] END alpha=1, binarize=0.0, fit_prior=0;, score=0.796 total time=   0.0s\n",
      "[CV 3/5] END alpha=1, binarize=0.0, fit_prior=0;, score=0.771 total time=   0.0s\n",
      "[CV 4/5] END alpha=1, binarize=0.0, fit_prior=0;, score=0.904 total time=   0.0s\n",
      "[CV 5/5] END alpha=1, binarize=0.0, fit_prior=0;, score=0.865 total time=   0.0s\n",
      "[CV 1/5] END alpha=1, binarize=0.0, fit_prior=1;, score=0.873 total time=   0.0s\n",
      "[CV 2/5] END alpha=1, binarize=0.0, fit_prior=1;, score=0.796 total time=   0.0s\n",
      "[CV 3/5] END alpha=1, binarize=0.0, fit_prior=1;, score=0.771 total time=   0.0s\n",
      "[CV 4/5] END alpha=1, binarize=0.0, fit_prior=1;, score=0.917 total time=   0.0s\n",
      "[CV 5/5] END alpha=1, binarize=0.0, fit_prior=1;, score=0.872 total time=   0.0s\n",
      "[CV 1/5] END alpha=1, binarize=0.1, fit_prior=0;, score=0.873 total time=   0.0s\n",
      "[CV 2/5] END alpha=1, binarize=0.1, fit_prior=0;, score=0.796 total time=   0.0s\n",
      "[CV 3/5] END alpha=1, binarize=0.1, fit_prior=0;, score=0.771 total time=   0.0s\n",
      "[CV 4/5] END alpha=1, binarize=0.1, fit_prior=0;, score=0.904 total time=   0.0s\n",
      "[CV 5/5] END alpha=1, binarize=0.1, fit_prior=0;, score=0.865 total time=   0.0s\n",
      "[CV 1/5] END alpha=1, binarize=0.1, fit_prior=1;, score=0.873 total time=   0.0s\n",
      "[CV 2/5] END alpha=1, binarize=0.1, fit_prior=1;, score=0.796 total time=   0.0s\n",
      "[CV 3/5] END alpha=1, binarize=0.1, fit_prior=1;, score=0.771 total time=   0.0s\n",
      "[CV 4/5] END alpha=1, binarize=0.1, fit_prior=1;, score=0.917 total time=   0.0s\n",
      "[CV 5/5] END alpha=1, binarize=0.1, fit_prior=1;, score=0.872 total time=   0.0s\n",
      "[CV 1/5] END alpha=1, binarize=0.01, fit_prior=0;, score=0.873 total time=   0.0s\n",
      "[CV 2/5] END alpha=1, binarize=0.01, fit_prior=0;, score=0.796 total time=   0.0s\n",
      "[CV 3/5] END alpha=1, binarize=0.01, fit_prior=0;, score=0.771 total time=   0.0s\n",
      "[CV 4/5] END alpha=1, binarize=0.01, fit_prior=0;, score=0.904 total time=   0.0s\n",
      "[CV 5/5] END alpha=1, binarize=0.01, fit_prior=0;, score=0.865 total time=   0.0s\n",
      "[CV 1/5] END alpha=1, binarize=0.01, fit_prior=1;, score=0.873 total time=   0.0s\n",
      "[CV 2/5] END alpha=1, binarize=0.01, fit_prior=1;, score=0.796 total time=   0.0s\n",
      "[CV 3/5] END alpha=1, binarize=0.01, fit_prior=1;, score=0.771 total time=   0.0s\n",
      "[CV 4/5] END alpha=1, binarize=0.01, fit_prior=1;, score=0.917 total time=   0.0s\n",
      "[CV 5/5] END alpha=1, binarize=0.01, fit_prior=1;, score=0.872 total time=   0.0s\n",
      "[CV 1/5] END alpha=1, binarize=0.001, fit_prior=0;, score=0.873 total time=   0.0s\n",
      "[CV 2/5] END alpha=1, binarize=0.001, fit_prior=0;, score=0.796 total time=   0.0s\n",
      "[CV 3/5] END alpha=1, binarize=0.001, fit_prior=0;, score=0.771 total time=   0.0s\n",
      "[CV 4/5] END alpha=1, binarize=0.001, fit_prior=0;, score=0.904 total time=   0.0s\n",
      "[CV 5/5] END alpha=1, binarize=0.001, fit_prior=0;, score=0.865 total time=   0.0s\n",
      "[CV 1/5] END alpha=1, binarize=0.001, fit_prior=1;, score=0.873 total time=   0.0s\n",
      "[CV 2/5] END alpha=1, binarize=0.001, fit_prior=1;, score=0.796 total time=   0.0s\n",
      "[CV 3/5] END alpha=1, binarize=0.001, fit_prior=1;, score=0.771 total time=   0.0s\n",
      "[CV 4/5] END alpha=1, binarize=0.001, fit_prior=1;, score=0.917 total time=   0.0s\n",
      "[CV 5/5] END alpha=1, binarize=0.001, fit_prior=1;, score=0.872 total time=   0.0s\n",
      "[CV 1/5] END ..alpha=1, binarize=1, fit_prior=0;, score=0.873 total time=   0.0s\n",
      "[CV 2/5] END ..alpha=1, binarize=1, fit_prior=0;, score=0.796 total time=   0.0s\n",
      "[CV 3/5] END ..alpha=1, binarize=1, fit_prior=0;, score=0.771 total time=   0.0s\n",
      "[CV 4/5] END ..alpha=1, binarize=1, fit_prior=0;, score=0.904 total time=   0.0s\n",
      "[CV 5/5] END ..alpha=1, binarize=1, fit_prior=0;, score=0.859 total time=   0.0s\n",
      "[CV 1/5] END ..alpha=1, binarize=1, fit_prior=1;, score=0.873 total time=   0.0s\n",
      "[CV 2/5] END ..alpha=1, binarize=1, fit_prior=1;, score=0.796 total time=   0.0s\n",
      "[CV 3/5] END ..alpha=1, binarize=1, fit_prior=1;, score=0.771 total time=   0.0s\n",
      "[CV 4/5] END ..alpha=1, binarize=1, fit_prior=1;, score=0.904 total time=   0.0s\n",
      "[CV 5/5] END ..alpha=1, binarize=1, fit_prior=1;, score=0.859 total time=   0.0s\n"
     ]
    },
    {
     "data": {
      "text/html": [
       "<style>#sk-container-id-8 {color: black;background-color: white;}#sk-container-id-8 pre{padding: 0;}#sk-container-id-8 div.sk-toggleable {background-color: white;}#sk-container-id-8 label.sk-toggleable__label {cursor: pointer;display: block;width: 100%;margin-bottom: 0;padding: 0.3em;box-sizing: border-box;text-align: center;}#sk-container-id-8 label.sk-toggleable__label-arrow:before {content: \"▸\";float: left;margin-right: 0.25em;color: #696969;}#sk-container-id-8 label.sk-toggleable__label-arrow:hover:before {color: black;}#sk-container-id-8 div.sk-estimator:hover label.sk-toggleable__label-arrow:before {color: black;}#sk-container-id-8 div.sk-toggleable__content {max-height: 0;max-width: 0;overflow: hidden;text-align: left;background-color: #f0f8ff;}#sk-container-id-8 div.sk-toggleable__content pre {margin: 0.2em;color: black;border-radius: 0.25em;background-color: #f0f8ff;}#sk-container-id-8 input.sk-toggleable__control:checked~div.sk-toggleable__content {max-height: 200px;max-width: 100%;overflow: auto;}#sk-container-id-8 input.sk-toggleable__control:checked~label.sk-toggleable__label-arrow:before {content: \"▾\";}#sk-container-id-8 div.sk-estimator input.sk-toggleable__control:checked~label.sk-toggleable__label {background-color: #d4ebff;}#sk-container-id-8 div.sk-label input.sk-toggleable__control:checked~label.sk-toggleable__label {background-color: #d4ebff;}#sk-container-id-8 input.sk-hidden--visually {border: 0;clip: rect(1px 1px 1px 1px);clip: rect(1px, 1px, 1px, 1px);height: 1px;margin: -1px;overflow: hidden;padding: 0;position: absolute;width: 1px;}#sk-container-id-8 div.sk-estimator {font-family: monospace;background-color: #f0f8ff;border: 1px dotted black;border-radius: 0.25em;box-sizing: border-box;margin-bottom: 0.5em;}#sk-container-id-8 div.sk-estimator:hover {background-color: #d4ebff;}#sk-container-id-8 div.sk-parallel-item::after {content: \"\";width: 100%;border-bottom: 1px solid gray;flex-grow: 1;}#sk-container-id-8 div.sk-label:hover label.sk-toggleable__label {background-color: #d4ebff;}#sk-container-id-8 div.sk-serial::before {content: \"\";position: absolute;border-left: 1px solid gray;box-sizing: border-box;top: 0;bottom: 0;left: 50%;z-index: 0;}#sk-container-id-8 div.sk-serial {display: flex;flex-direction: column;align-items: center;background-color: white;padding-right: 0.2em;padding-left: 0.2em;position: relative;}#sk-container-id-8 div.sk-item {position: relative;z-index: 1;}#sk-container-id-8 div.sk-parallel {display: flex;align-items: stretch;justify-content: center;background-color: white;position: relative;}#sk-container-id-8 div.sk-item::before, #sk-container-id-8 div.sk-parallel-item::before {content: \"\";position: absolute;border-left: 1px solid gray;box-sizing: border-box;top: 0;bottom: 0;left: 50%;z-index: -1;}#sk-container-id-8 div.sk-parallel-item {display: flex;flex-direction: column;z-index: 1;position: relative;background-color: white;}#sk-container-id-8 div.sk-parallel-item:first-child::after {align-self: flex-end;width: 50%;}#sk-container-id-8 div.sk-parallel-item:last-child::after {align-self: flex-start;width: 50%;}#sk-container-id-8 div.sk-parallel-item:only-child::after {width: 0;}#sk-container-id-8 div.sk-dashed-wrapped {border: 1px dashed gray;margin: 0 0.4em 0.5em 0.4em;box-sizing: border-box;padding-bottom: 0.4em;background-color: white;}#sk-container-id-8 div.sk-label label {font-family: monospace;font-weight: bold;display: inline-block;line-height: 1.2em;}#sk-container-id-8 div.sk-label-container {text-align: center;}#sk-container-id-8 div.sk-container {/* jupyter's `normalize.less` sets `[hidden] { display: none; }` but bootstrap.min.css set `[hidden] { display: none !important; }` so we also need the `!important` here to be able to override the default hidden behavior on the sphinx rendered scikit-learn.org. See: https://github.com/scikit-learn/scikit-learn/issues/21755 */display: inline-block !important;position: relative;}#sk-container-id-8 div.sk-text-repr-fallback {display: none;}</style><div id=\"sk-container-id-8\" class=\"sk-top-container\"><div class=\"sk-text-repr-fallback\"><pre>GridSearchCV(cv=5, estimator=BernoulliNB(),\n",
       "             param_grid={&#x27;alpha&#x27;: (0, 1),\n",
       "                         &#x27;binarize&#x27;: (0.0, 0.1, 0.01, 0.001, 1),\n",
       "                         &#x27;fit_prior&#x27;: (0, 1)},\n",
       "             verbose=3)</pre><b>In a Jupyter environment, please rerun this cell to show the HTML representation or trust the notebook. <br />On GitHub, the HTML representation is unable to render, please try loading this page with nbviewer.org.</b></div><div class=\"sk-container\" hidden><div class=\"sk-item sk-dashed-wrapped\"><div class=\"sk-label-container\"><div class=\"sk-label sk-toggleable\"><input class=\"sk-toggleable__control sk-hidden--visually\" id=\"sk-estimator-id-14\" type=\"checkbox\" ><label for=\"sk-estimator-id-14\" class=\"sk-toggleable__label sk-toggleable__label-arrow\">GridSearchCV</label><div class=\"sk-toggleable__content\"><pre>GridSearchCV(cv=5, estimator=BernoulliNB(),\n",
       "             param_grid={&#x27;alpha&#x27;: (0, 1),\n",
       "                         &#x27;binarize&#x27;: (0.0, 0.1, 0.01, 0.001, 1),\n",
       "                         &#x27;fit_prior&#x27;: (0, 1)},\n",
       "             verbose=3)</pre></div></div></div><div class=\"sk-parallel\"><div class=\"sk-parallel-item\"><div class=\"sk-item\"><div class=\"sk-label-container\"><div class=\"sk-label sk-toggleable\"><input class=\"sk-toggleable__control sk-hidden--visually\" id=\"sk-estimator-id-15\" type=\"checkbox\" ><label for=\"sk-estimator-id-15\" class=\"sk-toggleable__label sk-toggleable__label-arrow\">estimator: BernoulliNB</label><div class=\"sk-toggleable__content\"><pre>BernoulliNB()</pre></div></div></div><div class=\"sk-serial\"><div class=\"sk-item\"><div class=\"sk-estimator sk-toggleable\"><input class=\"sk-toggleable__control sk-hidden--visually\" id=\"sk-estimator-id-16\" type=\"checkbox\" ><label for=\"sk-estimator-id-16\" class=\"sk-toggleable__label sk-toggleable__label-arrow\">BernoulliNB</label><div class=\"sk-toggleable__content\"><pre>BernoulliNB()</pre></div></div></div></div></div></div></div></div></div></div>"
      ],
      "text/plain": [
       "GridSearchCV(cv=5, estimator=BernoulliNB(),\n",
       "             param_grid={'alpha': (0, 1),\n",
       "                         'binarize': (0.0, 0.1, 0.01, 0.001, 1),\n",
       "                         'fit_prior': (0, 1)},\n",
       "             verbose=3)"
      ]
     },
     "execution_count": 83,
     "metadata": {},
     "output_type": "execute_result"
    }
   ],
   "source": [
    "grid_nv.fit(X_train,y_train)"
   ]
  },
  {
   "cell_type": "code",
   "execution_count": 84,
   "id": "34b23b25-e172-4317-b4af-a28edb816dab",
   "metadata": {},
   "outputs": [
    {
     "data": {
      "text/plain": [
       "{'alpha': 0, 'binarize': 0.0, 'fit_prior': 1}"
      ]
     },
     "execution_count": 84,
     "metadata": {},
     "output_type": "execute_result"
    }
   ],
   "source": [
    "grid_nv.best_params_"
   ]
  },
  {
   "cell_type": "code",
   "execution_count": 85,
   "id": "0d4b0078-9d2f-488c-bc97-b7ad77853c7f",
   "metadata": {},
   "outputs": [],
   "source": [
    "y_pred= grid_nv.predict(X_test)"
   ]
  },
  {
   "cell_type": "code",
   "execution_count": 86,
   "id": "4d68721c-1789-4124-bee9-979d3c1de6d0",
   "metadata": {},
   "outputs": [
    {
     "data": {
      "text/plain": [
       "0.8622448979591837"
      ]
     },
     "execution_count": 86,
     "metadata": {},
     "output_type": "execute_result"
    }
   ],
   "source": [
    "accuracy_score(y_test,y_pred)"
   ]
  },
  {
   "cell_type": "markdown",
   "id": "19f2d540-c795-4825-a21f-35dc548fe3e1",
   "metadata": {},
   "source": [
    "# here The best model comes out for this is LOGISTIC REGRESSOR"
   ]
  },
  {
   "cell_type": "code",
   "execution_count": null,
   "id": "d60e514a-c2af-41f1-8ea9-3640315c0491",
   "metadata": {},
   "outputs": [],
   "source": []
  },
  {
   "cell_type": "code",
   "execution_count": null,
   "id": "b91782dd-afa3-43c5-a570-c87eca078b07",
   "metadata": {},
   "outputs": [],
   "source": []
  },
  {
   "cell_type": "code",
   "execution_count": null,
   "id": "193e5fe2-2b4e-4de5-9392-4ab375a4c086",
   "metadata": {},
   "outputs": [],
   "source": []
  },
  {
   "cell_type": "code",
   "execution_count": null,
   "id": "34e007f8-60c8-4a3d-a419-750d9f6bbdc2",
   "metadata": {},
   "outputs": [],
   "source": []
  },
  {
   "cell_type": "code",
   "execution_count": null,
   "id": "19628f39-2b85-40c8-b59e-04b0af8c8a73",
   "metadata": {},
   "outputs": [],
   "source": []
  },
  {
   "cell_type": "code",
   "execution_count": null,
   "id": "e7f321a3-524c-4dfc-ab8e-8388ea0ad34b",
   "metadata": {},
   "outputs": [],
   "source": []
  }
 ],
 "metadata": {
  "kernelspec": {
   "display_name": "Python 3 (ipykernel)",
   "language": "python",
   "name": "python3"
  },
  "language_info": {
   "codemirror_mode": {
    "name": "ipython",
    "version": 3
   },
   "file_extension": ".py",
   "mimetype": "text/x-python",
   "name": "python",
   "nbconvert_exporter": "python",
   "pygments_lexer": "ipython3",
   "version": "3.11.5"
  }
 },
 "nbformat": 4,
 "nbformat_minor": 5
}
